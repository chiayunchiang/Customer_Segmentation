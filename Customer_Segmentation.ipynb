{
 "cells": [
  {
   "cell_type": "markdown",
   "metadata": {},
   "source": [
    "# Outline\n",
    "\n",
    "[1. Introduction](#Introduction)    \n",
    "[2. Objective](#Objective)      \n",
    "[3. Dataset Description](#DatasetDescription)          \n",
    "[4. Analysis Method](#AnalysisMethod)        \n",
    "[4.1 Exploratory data analysis](#ExploratoryDataAnalysis)    \n",
    "[4.2 Clustering](#Clustering)     \n",
    "[5. Discussion](#Discussion)    \n",
    "[6. Conclusions](#Conclusions)     \n",
    "[7. References](#References)     \n"
   ]
  },
  {
   "cell_type": "markdown",
   "metadata": {},
   "source": [
    "<a id='Introduction'></a>\n",
    "# 1. Introduction \n",
    "\n",
    "\n",
    "For most of the companies, making tailored strategis for their customers is crucial since tailored strategis can enhance customers engagement and increase business total profit. To make suitable marketing strategis, **Customer Segmentation** is a common method for marketer to have better understanding of the customers. \n",
    "\n",
    "Customer Segmentation is a useful practice to divide customers into different groups. Segmentation puts the customers with similar features into the same group and puts customers with dissimilar features into different groups. This allows marketer to know the characteristics of each groups and to apply specific strategies to them accordingly."
   ]
  },
  {
   "cell_type": "markdown",
   "metadata": {},
   "source": [
    "<a id='Objective'></a>\n",
    "# 2. Objective\n",
    "\n",
    "\n",
    "For this project, I did a customer segmentation analysis to answer the following questions:\n",
    "\n",
    "1. What is the features of each groups (clusters)?     \n",
    "  \n",
    "  \n",
    "2. What marketing strategies or advices will be given based on my analysis?"
   ]
  },
  {
   "cell_type": "markdown",
   "metadata": {},
   "source": [
    "<a id='DatasetDescription'></a>\n",
    "# 3. Dataset Description\n",
    "\n",
    "\n",
    "I use **Mall_Customers.csv** from Kaggle (source: https://www.kaggle.com/vjchoudhary7/customer-segmentation-tutorial-in-python) as my dataset. This dataset includes the following columns:\n",
    "1. `CustomerID`: Unique ID of customers. \n",
    "2. `Gender`: Gender of customers. noted as Female/Male\n",
    "3. `Age`: Age of customers\n",
    "4. `Annual Income (k$)`: Annual Income of customers\n",
    "5. `Spending Score (1-100)`: Score (0-100) assigned by the mall regarding to customer behavior and spending\n"
   ]
  },
  {
   "cell_type": "markdown",
   "metadata": {},
   "source": [
    "<a id='AnalysisMethod'></a>\n",
    "# 4. Analysis Method\n",
    "\n",
    "\n",
    "We first use exploratory data analysis to give our data a whole overview. Aftering have basic understanding of our data, we use K-Means Clustering to segment our customers into differnet groups.\n",
    "\n",
    "Analysis sections are listed below:\n",
    "\n",
    "**4.1 Exploratory Data Analysis**  \n",
    "- [Import Libraries](#ImportLibraries)   \n",
    "- [Overview of dataset](#Overviewofdataset)   \n",
    "- [Overview for each columns](#Overviewforeachcolumns)   \n",
    "- [Comparison between multiple features](#Comparisonbetweenmultiplefeatures)   \n",
    "\n",
    "\n",
    "\n",
    "\n",
    "**4.2 Clustering** \n",
    "- [Standardize the data](#Standardizethedata)\n",
    "- [Segmentation1: Annual Income and Spending Score](#Segmentation1)\n",
    "- [Segmentation2: Age and Spending Score](#Segmentation2)\n",
    "- [Segmentation3: Age, Annual Income and Spending Score](#Segmentation3)\n"
   ]
  },
  {
   "cell_type": "markdown",
   "metadata": {},
   "source": [
    "<a id='ExploratoryDataAnalysis'></a>\n",
    "# 4.1 Exploratory Data Analysis\n",
    "Exploratory Data Analysis gives us an overview to our dataset. "
   ]
  },
  {
   "cell_type": "markdown",
   "metadata": {},
   "source": [
    "<a id='ImportLibraries'></a>\n",
    "###  Import Libraries"
   ]
  },
  {
   "cell_type": "code",
   "execution_count": 2,
   "metadata": {},
   "outputs": [],
   "source": [
    "# Import libraries\n",
    "%matplotlib inline\n",
    "\n",
    "import pandas as pd \n",
    "import numpy as np \n",
    "import matplotlib as mpl\n",
    "import matplotlib.pyplot as plt\n",
    "mpl.style.use('ggplot')\n",
    "from sklearn.preprocessing import StandardScaler\n",
    "from sklearn.cluster import KMeans\n",
    "from mpl_toolkits.mplot3d import Axes3D\n",
    "import seaborn as sns\n",
    "import plotly as py\n",
    "import plotly.graph_objs as go"
   ]
  },
  {
   "cell_type": "markdown",
   "metadata": {},
   "source": [
    "<a id='Overviewofdataset'></a>\n",
    "### Overview of dataset\n"
   ]
  },
  {
   "cell_type": "code",
   "execution_count": 3,
   "metadata": {},
   "outputs": [
    {
     "data": {
      "text/html": [
       "<div>\n",
       "<style scoped>\n",
       "    .dataframe tbody tr th:only-of-type {\n",
       "        vertical-align: middle;\n",
       "    }\n",
       "\n",
       "    .dataframe tbody tr th {\n",
       "        vertical-align: top;\n",
       "    }\n",
       "\n",
       "    .dataframe thead th {\n",
       "        text-align: right;\n",
       "    }\n",
       "</style>\n",
       "<table border=\"1\" class=\"dataframe\">\n",
       "  <thead>\n",
       "    <tr style=\"text-align: right;\">\n",
       "      <th></th>\n",
       "      <th>CustomerID</th>\n",
       "      <th>Gender</th>\n",
       "      <th>Age</th>\n",
       "      <th>Annual Income (k$)</th>\n",
       "      <th>Spending Score (1-100)</th>\n",
       "    </tr>\n",
       "  </thead>\n",
       "  <tbody>\n",
       "    <tr>\n",
       "      <td>0</td>\n",
       "      <td>1</td>\n",
       "      <td>Male</td>\n",
       "      <td>19</td>\n",
       "      <td>15</td>\n",
       "      <td>39</td>\n",
       "    </tr>\n",
       "    <tr>\n",
       "      <td>1</td>\n",
       "      <td>2</td>\n",
       "      <td>Male</td>\n",
       "      <td>21</td>\n",
       "      <td>15</td>\n",
       "      <td>81</td>\n",
       "    </tr>\n",
       "    <tr>\n",
       "      <td>2</td>\n",
       "      <td>3</td>\n",
       "      <td>Female</td>\n",
       "      <td>20</td>\n",
       "      <td>16</td>\n",
       "      <td>6</td>\n",
       "    </tr>\n",
       "    <tr>\n",
       "      <td>3</td>\n",
       "      <td>4</td>\n",
       "      <td>Female</td>\n",
       "      <td>23</td>\n",
       "      <td>16</td>\n",
       "      <td>77</td>\n",
       "    </tr>\n",
       "    <tr>\n",
       "      <td>4</td>\n",
       "      <td>5</td>\n",
       "      <td>Female</td>\n",
       "      <td>31</td>\n",
       "      <td>17</td>\n",
       "      <td>40</td>\n",
       "    </tr>\n",
       "  </tbody>\n",
       "</table>\n",
       "</div>"
      ],
      "text/plain": [
       "   CustomerID  Gender  Age  Annual Income (k$)  Spending Score (1-100)\n",
       "0           1    Male   19                  15                      39\n",
       "1           2    Male   21                  15                      81\n",
       "2           3  Female   20                  16                       6\n",
       "3           4  Female   23                  16                      77\n",
       "4           5  Female   31                  17                      40"
      ]
     },
     "execution_count": 3,
     "metadata": {},
     "output_type": "execute_result"
    }
   ],
   "source": [
    "# Read the data \n",
    "df = pd.read_csv(\"Mall_Customers.csv\")\n",
    "df.head()"
   ]
  },
  {
   "cell_type": "code",
   "execution_count": 4,
   "metadata": {},
   "outputs": [
    {
     "data": {
      "text/plain": [
       "(200, 5)"
      ]
     },
     "execution_count": 4,
     "metadata": {},
     "output_type": "execute_result"
    }
   ],
   "source": [
    "df.shape"
   ]
  },
  {
   "cell_type": "code",
   "execution_count": 5,
   "metadata": {},
   "outputs": [
    {
     "data": {
      "text/plain": [
       "CustomerID                 int64\n",
       "Gender                    object\n",
       "Age                        int64\n",
       "Annual Income (k$)         int64\n",
       "Spending Score (1-100)     int64\n",
       "dtype: object"
      ]
     },
     "execution_count": 5,
     "metadata": {},
     "output_type": "execute_result"
    }
   ],
   "source": [
    "# Check data type\n",
    "df.dtypes"
   ]
  },
  {
   "cell_type": "code",
   "execution_count": 6,
   "metadata": {},
   "outputs": [
    {
     "name": "stdout",
     "output_type": "stream",
     "text": [
      "<class 'pandas.core.frame.DataFrame'>\n",
      "RangeIndex: 200 entries, 0 to 199\n",
      "Data columns (total 5 columns):\n",
      "CustomerID                200 non-null int64\n",
      "Gender                    200 non-null object\n",
      "Age                       200 non-null int64\n",
      "Annual Income (k$)        200 non-null int64\n",
      "Spending Score (1-100)    200 non-null int64\n",
      "dtypes: int64(4), object(1)\n",
      "memory usage: 7.9+ KB\n"
     ]
    }
   ],
   "source": [
    "# Check the data information\n",
    "df.info()"
   ]
  },
  {
   "cell_type": "code",
   "execution_count": 7,
   "metadata": {
    "scrolled": true
   },
   "outputs": [
    {
     "data": {
      "text/plain": [
       "CustomerID                0\n",
       "Gender                    0\n",
       "Age                       0\n",
       "Annual Income (k$)        0\n",
       "Spending Score (1-100)    0\n",
       "dtype: int64"
      ]
     },
     "execution_count": 7,
     "metadata": {},
     "output_type": "execute_result"
    }
   ],
   "source": [
    "# Check if there is missing value\n",
    "df.isnull().sum()"
   ]
  },
  {
   "cell_type": "code",
   "execution_count": 8,
   "metadata": {},
   "outputs": [
    {
     "data": {
      "text/html": [
       "<div>\n",
       "<style scoped>\n",
       "    .dataframe tbody tr th:only-of-type {\n",
       "        vertical-align: middle;\n",
       "    }\n",
       "\n",
       "    .dataframe tbody tr th {\n",
       "        vertical-align: top;\n",
       "    }\n",
       "\n",
       "    .dataframe thead th {\n",
       "        text-align: right;\n",
       "    }\n",
       "</style>\n",
       "<table border=\"1\" class=\"dataframe\">\n",
       "  <thead>\n",
       "    <tr style=\"text-align: right;\">\n",
       "      <th></th>\n",
       "      <th>CustomerID</th>\n",
       "      <th>Gender</th>\n",
       "      <th>Age</th>\n",
       "      <th>Annual Income (k$)</th>\n",
       "      <th>Spending Score (1-100)</th>\n",
       "    </tr>\n",
       "  </thead>\n",
       "  <tbody>\n",
       "    <tr>\n",
       "      <td>count</td>\n",
       "      <td>200.000000</td>\n",
       "      <td>200</td>\n",
       "      <td>200.000000</td>\n",
       "      <td>200.000000</td>\n",
       "      <td>200.000000</td>\n",
       "    </tr>\n",
       "    <tr>\n",
       "      <td>unique</td>\n",
       "      <td>NaN</td>\n",
       "      <td>2</td>\n",
       "      <td>NaN</td>\n",
       "      <td>NaN</td>\n",
       "      <td>NaN</td>\n",
       "    </tr>\n",
       "    <tr>\n",
       "      <td>top</td>\n",
       "      <td>NaN</td>\n",
       "      <td>Female</td>\n",
       "      <td>NaN</td>\n",
       "      <td>NaN</td>\n",
       "      <td>NaN</td>\n",
       "    </tr>\n",
       "    <tr>\n",
       "      <td>freq</td>\n",
       "      <td>NaN</td>\n",
       "      <td>112</td>\n",
       "      <td>NaN</td>\n",
       "      <td>NaN</td>\n",
       "      <td>NaN</td>\n",
       "    </tr>\n",
       "    <tr>\n",
       "      <td>mean</td>\n",
       "      <td>100.500000</td>\n",
       "      <td>NaN</td>\n",
       "      <td>38.850000</td>\n",
       "      <td>60.560000</td>\n",
       "      <td>50.200000</td>\n",
       "    </tr>\n",
       "    <tr>\n",
       "      <td>std</td>\n",
       "      <td>57.879185</td>\n",
       "      <td>NaN</td>\n",
       "      <td>13.969007</td>\n",
       "      <td>26.264721</td>\n",
       "      <td>25.823522</td>\n",
       "    </tr>\n",
       "    <tr>\n",
       "      <td>min</td>\n",
       "      <td>1.000000</td>\n",
       "      <td>NaN</td>\n",
       "      <td>18.000000</td>\n",
       "      <td>15.000000</td>\n",
       "      <td>1.000000</td>\n",
       "    </tr>\n",
       "    <tr>\n",
       "      <td>25%</td>\n",
       "      <td>50.750000</td>\n",
       "      <td>NaN</td>\n",
       "      <td>28.750000</td>\n",
       "      <td>41.500000</td>\n",
       "      <td>34.750000</td>\n",
       "    </tr>\n",
       "    <tr>\n",
       "      <td>50%</td>\n",
       "      <td>100.500000</td>\n",
       "      <td>NaN</td>\n",
       "      <td>36.000000</td>\n",
       "      <td>61.500000</td>\n",
       "      <td>50.000000</td>\n",
       "    </tr>\n",
       "    <tr>\n",
       "      <td>75%</td>\n",
       "      <td>150.250000</td>\n",
       "      <td>NaN</td>\n",
       "      <td>49.000000</td>\n",
       "      <td>78.000000</td>\n",
       "      <td>73.000000</td>\n",
       "    </tr>\n",
       "    <tr>\n",
       "      <td>max</td>\n",
       "      <td>200.000000</td>\n",
       "      <td>NaN</td>\n",
       "      <td>70.000000</td>\n",
       "      <td>137.000000</td>\n",
       "      <td>99.000000</td>\n",
       "    </tr>\n",
       "  </tbody>\n",
       "</table>\n",
       "</div>"
      ],
      "text/plain": [
       "        CustomerID  Gender         Age  Annual Income (k$)  \\\n",
       "count   200.000000     200  200.000000          200.000000   \n",
       "unique         NaN       2         NaN                 NaN   \n",
       "top            NaN  Female         NaN                 NaN   \n",
       "freq           NaN     112         NaN                 NaN   \n",
       "mean    100.500000     NaN   38.850000           60.560000   \n",
       "std      57.879185     NaN   13.969007           26.264721   \n",
       "min       1.000000     NaN   18.000000           15.000000   \n",
       "25%      50.750000     NaN   28.750000           41.500000   \n",
       "50%     100.500000     NaN   36.000000           61.500000   \n",
       "75%     150.250000     NaN   49.000000           78.000000   \n",
       "max     200.000000     NaN   70.000000          137.000000   \n",
       "\n",
       "        Spending Score (1-100)  \n",
       "count               200.000000  \n",
       "unique                     NaN  \n",
       "top                        NaN  \n",
       "freq                       NaN  \n",
       "mean                 50.200000  \n",
       "std                  25.823522  \n",
       "min                   1.000000  \n",
       "25%                  34.750000  \n",
       "50%                  50.000000  \n",
       "75%                  73.000000  \n",
       "max                  99.000000  "
      ]
     },
     "execution_count": 8,
     "metadata": {},
     "output_type": "execute_result"
    }
   ],
   "source": [
    "# Generate descriptive statistic\n",
    "df.describe(include=\"all\")"
   ]
  },
  {
   "cell_type": "markdown",
   "metadata": {},
   "source": [
    "#### Brief summary\n",
    "1. We have 200 rows and 5 columns in our dataset.      \n",
    "2. \"Gender\" is categorical data, \"Age\", \"Annual Income\" and \"Spending Score\" are numerical data.     \n",
    "3. There is no missing value in our dataset."
   ]
  },
  {
   "cell_type": "markdown",
   "metadata": {},
   "source": [
    "<a id='Overviewforeachcolumns'></a>\n",
    "### Overview for each columns\n"
   ]
  },
  {
   "cell_type": "markdown",
   "metadata": {},
   "source": [
    "### Gender overview"
   ]
  },
  {
   "cell_type": "code",
   "execution_count": 9,
   "metadata": {},
   "outputs": [
    {
     "data": {
      "text/plain": [
       "Female    0.56\n",
       "Male      0.44\n",
       "Name: Gender, dtype: float64"
      ]
     },
     "execution_count": 9,
     "metadata": {},
     "output_type": "execute_result"
    }
   ],
   "source": [
    "gender_percentage = df[\"Gender\"].value_counts() / df[\"Gender\"].value_counts().sum()\n",
    "gender_percentage"
   ]
  },
  {
   "cell_type": "code",
   "execution_count": 10,
   "metadata": {},
   "outputs": [
    {
     "name": "stdout",
     "output_type": "stream",
     "text": [
      "Female percentage: 56%\n",
      "Male percentage: 44%\n"
     ]
    }
   ],
   "source": [
    "print(\"Female percentage: {:.0f}%\".format(100 * gender_percentage[0]))\n",
    "print(\"Male percentage: {:.0f}%\".format(100 * gender_percentage[1]))"
   ]
  },
  {
   "cell_type": "code",
   "execution_count": 11,
   "metadata": {},
   "outputs": [
    {
     "data": {
      "text/plain": [
       "Text(0.95,90,'44%')"
      ]
     },
     "execution_count": 11,
     "metadata": {},
     "output_type": "execute_result"
    },
    {
     "data": {
      "image/png": "[encoded data removed]",
      "text/plain": [
       "<Figure size 576x360 with 1 Axes>"
      ]
     },
     "metadata": {
      "needs_background": "light"
     },
     "output_type": "display_data"
    }
   ],
   "source": [
    "ax = df[\"Gender\"].value_counts().plot(kind = \"bar\",figsize = (8,5))\n",
    "\n",
    "plt.title(\"Gender Comparison\",fontsize = 15)\n",
    "plt.xlabel(\"Gender\",fontsize=14)\n",
    "plt.ylabel(\"Count\",fontsize=14)\n",
    "ax.text(x = 0.005, y = 115, s = \"56%\")\n",
    "ax.text(x = 0.95, y = 90, s = \"44%\")\n"
   ]
  },
  {
   "cell_type": "markdown",
   "metadata": {},
   "source": [
    "#### Brief summary\n",
    "According to above figure, the percentage of female customers is 56%, and the percentage of male customers is 44%."
   ]
  },
  {
   "cell_type": "markdown",
   "metadata": {},
   "source": [
    "### Age overview"
   ]
  },
  {
   "cell_type": "code",
   "execution_count": 12,
   "metadata": {},
   "outputs": [
    {
     "data": {
      "text/plain": [
       "count    200.000000\n",
       "mean      38.850000\n",
       "std       13.969007\n",
       "min       18.000000\n",
       "25%       28.750000\n",
       "50%       36.000000\n",
       "75%       49.000000\n",
       "max       70.000000\n",
       "Name: Age, dtype: float64"
      ]
     },
     "execution_count": 12,
     "metadata": {},
     "output_type": "execute_result"
    }
   ],
   "source": [
    "# Generate descriptive statistic of Age\n",
    "df[\"Age\"].describe()"
   ]
  },
  {
   "cell_type": "code",
   "execution_count": 13,
   "metadata": {},
   "outputs": [
    {
     "name": "stdout",
     "output_type": "stream",
     "text": [
      "[ 0 12 43 61 39 25 20]\n",
      "[ 0. 10. 20. 30. 40. 50. 60. 70.]\n"
     ]
    },
    {
     "data": {
      "image/png": "[encoded data removed]",
      "text/plain": [
       "<Figure size 576x360 with 1 Axes>"
      ]
     },
     "metadata": {
      "needs_background": "light"
     },
     "output_type": "display_data"
    }
   ],
   "source": [
    "# Plot histogram of Age\n",
    "count_age, bin_edges_age = np.histogram(df[\"Age\"], bins=7, range=(0,70))\n",
    "ax_age = df[\"Age\"].plot(kind=\"hist\", figsize=(8,5), bins=bin_edges_age)\n",
    "print(count_age) \n",
    "print(bin_edges_age)\n",
    "\n",
    "plt.title(\"Distribution of Age\")\n",
    "plt.xlabel(\"Age\")\n",
    "plt.ylabel(\"Frequency\")\n",
    "\n",
    "for i in range(len(count_age)):\n",
    "    ax_age.text(x=10*i+4, y=count_age[i]+1, s=count_age[i])\n",
    "    \n",
    "plt.show()"
   ]
  },
  {
   "cell_type": "code",
   "execution_count": 14,
   "metadata": {},
   "outputs": [
    {
     "data": {
      "image/png": "[encoded data removed]",
      "text/plain": [
       "<Figure size 576x360 with 1 Axes>"
      ]
     },
     "metadata": {
      "needs_background": "light"
     },
     "output_type": "display_data"
    }
   ],
   "source": [
    "# Plot density figute of Age\n",
    "df[\"Age\"].plot(kind=\"density\", figsize=(8,5))\n",
    "\n",
    "\n",
    "plt.title(\"Density plot of Age\")\n",
    "plt.xlabel(\"Age\")\n",
    "plt.ylabel(\"Density\")\n",
    "plt.show()"
   ]
  },
  {
   "cell_type": "code",
   "execution_count": 15,
   "metadata": {},
   "outputs": [
    {
     "data": {
      "image/png": "[encoded data removed]",
      "text/plain": [
       "<Figure size 576x360 with 1 Axes>"
      ]
     },
     "metadata": {
      "needs_background": "light"
     },
     "output_type": "display_data"
    }
   ],
   "source": [
    "# Plot Box plot of Age\n",
    "df[\"Age\"].plot(kind=\"box\", figsize=(8,5))\n",
    "\n",
    "plt.title(\"Box plot of Age\")\n",
    "plt.ylabel(\"Age\")\n",
    "plt.show()"
   ]
  },
  {
   "cell_type": "markdown",
   "metadata": {},
   "source": [
    "#### Brief summary\n",
    "From above figures, we conclude that:\n",
    "1. The Maximum age is 70, the minimum age is 18, and the mean of age is 38. \n",
    "2. Age from 30 to 40 is the largest calss in the distribution, which has 61 customers in this class.   \n",
    "3. Age distribution is a right skewed distribution, in which the mean (38) larger than the median (36).\n"
   ]
  },
  {
   "cell_type": "markdown",
   "metadata": {},
   "source": [
    "### Annual Income Overview\n"
   ]
  },
  {
   "cell_type": "code",
   "execution_count": 16,
   "metadata": {},
   "outputs": [
    {
     "data": {
      "text/plain": [
       "count    200.000000\n",
       "mean      60.560000\n",
       "std       26.264721\n",
       "min       15.000000\n",
       "25%       41.500000\n",
       "50%       61.500000\n",
       "75%       78.000000\n",
       "max      137.000000\n",
       "Name: Annual Income (k$), dtype: float64"
      ]
     },
     "execution_count": 16,
     "metadata": {},
     "output_type": "execute_result"
    }
   ],
   "source": [
    "# Generate descriptive statistic of Annual Income\n",
    "df[\"Annual Income (k$)\"].describe()"
   ]
  },
  {
   "cell_type": "code",
   "execution_count": 17,
   "metadata": {},
   "outputs": [
    {
     "name": "stdout",
     "output_type": "stream",
     "text": [
      "[ 0 12 18 16 26 20 32 38 16  8  6  2  4  2]\n",
      "[  0.  10.  20.  30.  40.  50.  60.  70.  80.  90. 100. 110. 120. 130.\n",
      " 140.]\n"
     ]
    },
    {
     "data": {
      "image/png": "[encoded data removed]",
      "text/plain": [
       "<Figure size 576x360 with 1 Axes>"
      ]
     },
     "metadata": {
      "needs_background": "light"
     },
     "output_type": "display_data"
    }
   ],
   "source": [
    "# Plot histogram of Annual Income\n",
    "count_annualincome,bin_edges_annualincome = np.histogram(df[\"Annual Income (k$)\"],bins=14,range=(0,140))\n",
    "print(count_annualincome) \n",
    "print(bin_edges_annualincome)\n",
    "\n",
    "ax_annualincome= df[\"Annual Income (k$)\"].plot(kind=\"hist\",\n",
    "                                   figsize=(8,5),\n",
    "                                   bins=bin_edges_annualincome, \n",
    "                                   xticks=bin_edges_annualincome)\n",
    "\n",
    "plt.title(\"Distribution of Annual Income\")\n",
    "plt.xlabel(\"Annual Income(k$)\")\n",
    "plt.ylabel(\"Frequency\")\n",
    "\n",
    "for i in range(len(count_annualincome)):\n",
    "    ax_annualincome = plt.text(x=10*i+4, y=count_annualincome[i]+1,s=count_annualincome[i])\n",
    "    \n",
    "plt.show()"
   ]
  },
  {
   "cell_type": "code",
   "execution_count": 18,
   "metadata": {},
   "outputs": [
    {
     "data": {
      "image/png": "[encoded data removed]",
      "text/plain": [
       "<Figure size 576x360 with 1 Axes>"
      ]
     },
     "metadata": {
      "needs_background": "light"
     },
     "output_type": "display_data"
    }
   ],
   "source": [
    "# Plot density plot of Annual Income \n",
    "df[\"Annual Income (k$)\"].plot(kind=\"density\",figsize=(8,5))\n",
    "\n",
    "plt.title(\"Density plot of Annual Income (k$)\")\n",
    "plt.xlabel(\"Annual Income (k$)\")\n",
    "plt.ylabel(\"Density\")\n",
    "plt.show()"
   ]
  },
  {
   "cell_type": "code",
   "execution_count": 19,
   "metadata": {},
   "outputs": [
    {
     "data": {
      "image/png": "[encoded data removed]",
      "text/plain": [
       "<Figure size 576x360 with 1 Axes>"
      ]
     },
     "metadata": {
      "needs_background": "light"
     },
     "output_type": "display_data"
    }
   ],
   "source": [
    "# Plot box plot of annual income\n",
    "df[\"Annual Income (k$)\"].plot(kind=\"box\",figsize=(8,5))\n",
    "\n",
    "plt.title(\"Box plot of Annual Income(k$) \")\n",
    "plt.ylabel(\"Annual Income(k$)\")\n",
    "plt.show()"
   ]
  },
  {
   "cell_type": "markdown",
   "metadata": {},
   "source": [
    "#### Brief summary\n",
    "\n",
    "From above figures, we conclude that:\n",
    "1. Maximum annual income is 137 k\\\\$, minimum annual income is 15 k\\\\$, and the mean value is 60.56 k\\\\$. \n",
    "2. Annual income between 70 to 80 k\\\\$  is the largest class, which includes 38 customers. \n",
    "3. Annual income is a normal distribution.\n"
   ]
  },
  {
   "cell_type": "markdown",
   "metadata": {},
   "source": [
    "### Spending Score overview"
   ]
  },
  {
   "cell_type": "code",
   "execution_count": 20,
   "metadata": {},
   "outputs": [
    {
     "data": {
      "text/plain": [
       "count    200.000000\n",
       "mean      50.200000\n",
       "std       25.823522\n",
       "min        1.000000\n",
       "25%       34.750000\n",
       "50%       50.000000\n",
       "75%       73.000000\n",
       "max       99.000000\n",
       "Name: Spending Score (1-100), dtype: float64"
      ]
     },
     "execution_count": 20,
     "metadata": {},
     "output_type": "execute_result"
    }
   ],
   "source": [
    "# Generate descriptive statistic of Spending Score\n",
    "df[\"Spending Score (1-100)\"].describe()"
   ]
  },
  {
   "cell_type": "code",
   "execution_count": 21,
   "metadata": {},
   "outputs": [
    {
     "name": "stdout",
     "output_type": "stream",
     "text": [
      "[14 20 12 13 39 37 11 24 14 16]\n",
      "[  0.  10.  20.  30.  40.  50.  60.  70.  80.  90. 100.]\n"
     ]
    },
    {
     "data": {
      "image/png": "[encoded data removed]",
      "text/plain": [
       "<Figure size 576x360 with 1 Axes>"
      ]
     },
     "metadata": {
      "needs_background": "light"
     },
     "output_type": "display_data"
    }
   ],
   "source": [
    "# Plot histogram of Spending score\n",
    "counts_spendingscore, bin_edges_spendingscore = np.histogram(df[\"Spending Score (1-100)\"],bins=10, range=(0,100))\n",
    "print(counts_spendingscore)\n",
    "print(bin_edges_spendingscore)\n",
    "\n",
    "ax_spendingscore = df[\"Spending Score (1-100)\"].plot(kind=\"hist\",figsize=(8,5),\n",
    "                                                     bins=bin_edges_spendingscore,\n",
    "                                                    xticks=bin_edges_spendingscore)\n",
    "\n",
    "plt.title(\"Distribution of Spending Score\")\n",
    "plt.xlabel(\"Spending Score\")\n",
    "plt.ylabel(\"Frequency\")\n",
    "\n",
    "for i in range(len(counts_spendingscore)):\n",
    "    ax_spendingscore.text(x=10*i+4, y=counts_spendingscore[i]+1, s=counts_spendingscore[i])\n",
    "    \n",
    "plt.show()"
   ]
  },
  {
   "cell_type": "code",
   "execution_count": 22,
   "metadata": {},
   "outputs": [
    {
     "data": {
      "image/png": "[encoded data removed]",
      "text/plain": [
       "<Figure size 576x360 with 1 Axes>"
      ]
     },
     "metadata": {
      "needs_background": "light"
     },
     "output_type": "display_data"
    }
   ],
   "source": [
    "# Plot density plot of Spending socre\n",
    "df[\"Spending Score (1-100)\"].plot(kind=\"density\",figsize=(8,5))\n",
    "\n",
    "plt.title(\"Density plot of Spending Score\")\n",
    "plt.xlabel(\"Spending score\")\n",
    "plt.ylabel(\"Density\")\n",
    "plt.show()"
   ]
  },
  {
   "cell_type": "code",
   "execution_count": 23,
   "metadata": {},
   "outputs": [
    {
     "data": {
      "text/plain": [
       "Text(0,0.5,'Spending Score (1-100)')"
      ]
     },
     "execution_count": 23,
     "metadata": {},
     "output_type": "execute_result"
    },
    {
     "data": {
      "image/png": "[encoded data removed]",
      "text/plain": [
       "<Figure size 576x360 with 1 Axes>"
      ]
     },
     "metadata": {
      "needs_background": "light"
     },
     "output_type": "display_data"
    }
   ],
   "source": [
    "# Box plot of Spending score\n",
    "df[\"Spending Score (1-100)\"].plot(kind=\"box\",figsize=(8,5))\n",
    "\n",
    "plt.title(\"Box plot of Spending Score (1-100)\")\n",
    "plt.ylabel(\"Spending Score (1-100)\")\n",
    "\n"
   ]
  },
  {
   "cell_type": "markdown",
   "metadata": {},
   "source": [
    "#### Brief summary\n",
    "\n",
    "From above figures, we conclude that:\n",
    "1. The maximum spending socre is 99, the minimum spending socre is 1, ,and the mean value is 50.2. \n",
    "2. Among all the classes, score between class 40 and 50 has the highest number of customers, which is 39."
   ]
  },
  {
   "cell_type": "markdown",
   "metadata": {},
   "source": [
    "<a id='Comparisonbetweenmultiplefeatures'></a>\n",
    "### Comparison between multiple features\n",
    "\n",
    "\n",
    "After having an overview of each features, we then go on to see the relation between multiple features. By understanding the realtion between different features, we can have a better insight to choose the features for clustering later."
   ]
  },
  {
   "cell_type": "code",
   "execution_count": 24,
   "metadata": {},
   "outputs": [
    {
     "data": {
      "text/html": [
       "<div>\n",
       "<style scoped>\n",
       "    .dataframe tbody tr th:only-of-type {\n",
       "        vertical-align: middle;\n",
       "    }\n",
       "\n",
       "    .dataframe tbody tr th {\n",
       "        vertical-align: top;\n",
       "    }\n",
       "\n",
       "    .dataframe thead th {\n",
       "        text-align: right;\n",
       "    }\n",
       "</style>\n",
       "<table border=\"1\" class=\"dataframe\">\n",
       "  <thead>\n",
       "    <tr style=\"text-align: right;\">\n",
       "      <th></th>\n",
       "      <th>CustomerID</th>\n",
       "      <th>Gender</th>\n",
       "      <th>Age</th>\n",
       "      <th>Annual Income (k$)</th>\n",
       "      <th>Spending Score (1-100)</th>\n",
       "    </tr>\n",
       "  </thead>\n",
       "  <tbody>\n",
       "    <tr>\n",
       "      <td>0</td>\n",
       "      <td>1</td>\n",
       "      <td>Male</td>\n",
       "      <td>19</td>\n",
       "      <td>15</td>\n",
       "      <td>39</td>\n",
       "    </tr>\n",
       "    <tr>\n",
       "      <td>1</td>\n",
       "      <td>2</td>\n",
       "      <td>Male</td>\n",
       "      <td>21</td>\n",
       "      <td>15</td>\n",
       "      <td>81</td>\n",
       "    </tr>\n",
       "    <tr>\n",
       "      <td>2</td>\n",
       "      <td>3</td>\n",
       "      <td>Female</td>\n",
       "      <td>20</td>\n",
       "      <td>16</td>\n",
       "      <td>6</td>\n",
       "    </tr>\n",
       "  </tbody>\n",
       "</table>\n",
       "</div>"
      ],
      "text/plain": [
       "   CustomerID  Gender  Age  Annual Income (k$)  Spending Score (1-100)\n",
       "0           1    Male   19                  15                      39\n",
       "1           2    Male   21                  15                      81\n",
       "2           3  Female   20                  16                       6"
      ]
     },
     "execution_count": 24,
     "metadata": {},
     "output_type": "execute_result"
    }
   ],
   "source": [
    "df.head(3)"
   ]
  },
  {
   "cell_type": "markdown",
   "metadata": {},
   "source": [
    "Since Gender is categorical data, we first tranform Gender into numerical data (0&1)"
   ]
  },
  {
   "cell_type": "code",
   "execution_count": 25,
   "metadata": {},
   "outputs": [
    {
     "data": {
      "text/html": [
       "<div>\n",
       "<style scoped>\n",
       "    .dataframe tbody tr th:only-of-type {\n",
       "        vertical-align: middle;\n",
       "    }\n",
       "\n",
       "    .dataframe tbody tr th {\n",
       "        vertical-align: top;\n",
       "    }\n",
       "\n",
       "    .dataframe thead th {\n",
       "        text-align: right;\n",
       "    }\n",
       "</style>\n",
       "<table border=\"1\" class=\"dataframe\">\n",
       "  <thead>\n",
       "    <tr style=\"text-align: right;\">\n",
       "      <th></th>\n",
       "      <th>CustomerID</th>\n",
       "      <th>Gender</th>\n",
       "      <th>Age</th>\n",
       "      <th>Annual Income (k$)</th>\n",
       "      <th>Spending Score (1-100)</th>\n",
       "      <th>Female</th>\n",
       "      <th>Male</th>\n",
       "    </tr>\n",
       "  </thead>\n",
       "  <tbody>\n",
       "    <tr>\n",
       "      <td>0</td>\n",
       "      <td>1</td>\n",
       "      <td>Male</td>\n",
       "      <td>19</td>\n",
       "      <td>15</td>\n",
       "      <td>39</td>\n",
       "      <td>0</td>\n",
       "      <td>1</td>\n",
       "    </tr>\n",
       "    <tr>\n",
       "      <td>1</td>\n",
       "      <td>2</td>\n",
       "      <td>Male</td>\n",
       "      <td>21</td>\n",
       "      <td>15</td>\n",
       "      <td>81</td>\n",
       "      <td>0</td>\n",
       "      <td>1</td>\n",
       "    </tr>\n",
       "    <tr>\n",
       "      <td>2</td>\n",
       "      <td>3</td>\n",
       "      <td>Female</td>\n",
       "      <td>20</td>\n",
       "      <td>16</td>\n",
       "      <td>6</td>\n",
       "      <td>1</td>\n",
       "      <td>0</td>\n",
       "    </tr>\n",
       "    <tr>\n",
       "      <td>3</td>\n",
       "      <td>4</td>\n",
       "      <td>Female</td>\n",
       "      <td>23</td>\n",
       "      <td>16</td>\n",
       "      <td>77</td>\n",
       "      <td>1</td>\n",
       "      <td>0</td>\n",
       "    </tr>\n",
       "    <tr>\n",
       "      <td>4</td>\n",
       "      <td>5</td>\n",
       "      <td>Female</td>\n",
       "      <td>31</td>\n",
       "      <td>17</td>\n",
       "      <td>40</td>\n",
       "      <td>1</td>\n",
       "      <td>0</td>\n",
       "    </tr>\n",
       "  </tbody>\n",
       "</table>\n",
       "</div>"
      ],
      "text/plain": [
       "   CustomerID  Gender  Age  Annual Income (k$)  Spending Score (1-100)  \\\n",
       "0           1    Male   19                  15                      39   \n",
       "1           2    Male   21                  15                      81   \n",
       "2           3  Female   20                  16                       6   \n",
       "3           4  Female   23                  16                      77   \n",
       "4           5  Female   31                  17                      40   \n",
       "\n",
       "   Female  Male  \n",
       "0       0     1  \n",
       "1       0     1  \n",
       "2       1     0  \n",
       "3       1     0  \n",
       "4       1     0  "
      ]
     },
     "execution_count": 25,
     "metadata": {},
     "output_type": "execute_result"
    }
   ],
   "source": [
    "# Transform Gender inot numerical data\n",
    "gender_dummies = pd.get_dummies(df[\"Gender\"])\n",
    "df_dummies = df.join(gender_dummies)\n",
    "df_dummies.head()"
   ]
  },
  {
   "cell_type": "code",
   "execution_count": 26,
   "metadata": {},
   "outputs": [
    {
     "data": {
      "text/html": [
       "<div>\n",
       "<style scoped>\n",
       "    .dataframe tbody tr th:only-of-type {\n",
       "        vertical-align: middle;\n",
       "    }\n",
       "\n",
       "    .dataframe tbody tr th {\n",
       "        vertical-align: top;\n",
       "    }\n",
       "\n",
       "    .dataframe thead th {\n",
       "        text-align: right;\n",
       "    }\n",
       "</style>\n",
       "<table border=\"1\" class=\"dataframe\">\n",
       "  <thead>\n",
       "    <tr style=\"text-align: right;\">\n",
       "      <th></th>\n",
       "      <th>CustomerID</th>\n",
       "      <th>Gender</th>\n",
       "      <th>Age</th>\n",
       "      <th>Annual Income (k$)</th>\n",
       "      <th>Spending Score (1-100)</th>\n",
       "      <th>IsFemale</th>\n",
       "      <th>IsMale</th>\n",
       "    </tr>\n",
       "  </thead>\n",
       "  <tbody>\n",
       "    <tr>\n",
       "      <td>0</td>\n",
       "      <td>1</td>\n",
       "      <td>Male</td>\n",
       "      <td>19</td>\n",
       "      <td>15</td>\n",
       "      <td>39</td>\n",
       "      <td>0</td>\n",
       "      <td>1</td>\n",
       "    </tr>\n",
       "    <tr>\n",
       "      <td>1</td>\n",
       "      <td>2</td>\n",
       "      <td>Male</td>\n",
       "      <td>21</td>\n",
       "      <td>15</td>\n",
       "      <td>81</td>\n",
       "      <td>0</td>\n",
       "      <td>1</td>\n",
       "    </tr>\n",
       "    <tr>\n",
       "      <td>2</td>\n",
       "      <td>3</td>\n",
       "      <td>Female</td>\n",
       "      <td>20</td>\n",
       "      <td>16</td>\n",
       "      <td>6</td>\n",
       "      <td>1</td>\n",
       "      <td>0</td>\n",
       "    </tr>\n",
       "    <tr>\n",
       "      <td>3</td>\n",
       "      <td>4</td>\n",
       "      <td>Female</td>\n",
       "      <td>23</td>\n",
       "      <td>16</td>\n",
       "      <td>77</td>\n",
       "      <td>1</td>\n",
       "      <td>0</td>\n",
       "    </tr>\n",
       "    <tr>\n",
       "      <td>4</td>\n",
       "      <td>5</td>\n",
       "      <td>Female</td>\n",
       "      <td>31</td>\n",
       "      <td>17</td>\n",
       "      <td>40</td>\n",
       "      <td>1</td>\n",
       "      <td>0</td>\n",
       "    </tr>\n",
       "  </tbody>\n",
       "</table>\n",
       "</div>"
      ],
      "text/plain": [
       "   CustomerID  Gender  Age  Annual Income (k$)  Spending Score (1-100)  \\\n",
       "0           1    Male   19                  15                      39   \n",
       "1           2    Male   21                  15                      81   \n",
       "2           3  Female   20                  16                       6   \n",
       "3           4  Female   23                  16                      77   \n",
       "4           5  Female   31                  17                      40   \n",
       "\n",
       "   IsFemale  IsMale  \n",
       "0         0       1  \n",
       "1         0       1  \n",
       "2         1       0  \n",
       "3         1       0  \n",
       "4         1       0  "
      ]
     },
     "execution_count": 26,
     "metadata": {},
     "output_type": "execute_result"
    }
   ],
   "source": [
    "# rename the dataframe\n",
    "df_dummies.rename(columns={\"Female\":\"IsFemale\",\"Male\":\"IsMale\"},inplace=True)\n",
    "df_dummies.head()"
   ]
  },
  {
   "cell_type": "markdown",
   "metadata": {},
   "source": [
    "We want to check the correlation between each features, so here we use Heatmap to see the results."
   ]
  },
  {
   "cell_type": "code",
   "execution_count": 27,
   "metadata": {},
   "outputs": [
    {
     "data": {
      "text/plain": [
       "Text(0.5,1,'Heatmap of features')"
      ]
     },
     "execution_count": 27,
     "metadata": {},
     "output_type": "execute_result"
    },
    {
     "data": {
      "image/png": "[encoded data removed]",
      "text/plain": [
       "<Figure size 432x288 with 2 Axes>"
      ]
     },
     "metadata": {
      "needs_background": "light"
     },
     "output_type": "display_data"
    }
   ],
   "source": [
    "# From df_dummies, we choose Age, Annual Income, Spending socre, IsFemale to see their correlation.\n",
    "# Note that \"IsFemale\" represents the Gender feature, 1 refers to female, 0 refers to male.\n",
    "heatmap = sns.heatmap(df_dummies.iloc[:,[2,3,4,5]].corr(),annot = True, cmap='Blues')\n",
    "heatmap.set_title(\"Heatmap of features\",fontsize=18)"
   ]
  },
  {
   "cell_type": "markdown",
   "metadata": {},
   "source": [
    "#### Brief summary\n",
    "From above heatmap, we can see that nearly all the features have no relation between each others since the correlation value is too small. The highest correlation happens in \"Age\" and \"Spending Score\", which is -0.33, but it is still not high enough to indicate strong relation between these two features.    \n",
    "We conclude that there are no strong linear relationship between the featrues."
   ]
  },
  {
   "cell_type": "markdown",
   "metadata": {},
   "source": [
    "Now, we use pairplot to visualize the data. This step might give us more information through the diagram."
   ]
  },
  {
   "cell_type": "code",
   "execution_count": 28,
   "metadata": {},
   "outputs": [
    {
     "data": {
      "text/plain": [
       "<seaborn.axisgrid.PairGrid at 0x1a1f047450>"
      ]
     },
     "execution_count": 28,
     "metadata": {},
     "output_type": "execute_result"
    },
    {
     "data": {
      "image/png": "[encoded data removed]",
      "text/plain": [
       "<Figure size 720x720 with 20 Axes>"
      ]
     },
     "metadata": {
      "needs_background": "light"
     },
     "output_type": "display_data"
    }
   ],
   "source": [
    "sns.pairplot(df_dummies.iloc[:,[1,2,3,4,5]])"
   ]
  },
  {
   "cell_type": "markdown",
   "metadata": {},
   "source": [
    "#### Brief summary\n",
    "\n",
    "From above figures, we can find something interesting:\n",
    "\n",
    "1. According to age versus annual Income scatter plot, we found that middle-aged customers have higher annual income.\n",
    "2. According to age versus spending score scatter plot, we found that young and middle-aged customers have higher spending score. On the contraty, older aged customers have relatively low spending score.     \n",
    "3. According to annual income versus spending score scatter plot, we found that there are obviously clusters in the figures, therefore, **annual income and spending score could be suitable featrues for further analysis**.\n",
    "4. According to scatter plot between IsFemale (which represents Gender) versus other features, we can found that there are no obvious differences caused by gender, therefore, gender might not take an important role in our further clustering.\n",
    "\n",
    "#### Some Insights\n",
    "1. Young and middle-aged customers seems to be our primiary customers. Since middle-aged customers have higher income, we can customized products with high-quality and higher price to target middle-aged customers.\n",
    "2. Our porducts are suitable for both male and female. Also, the gender netural products is a good options when we launching our new products."
   ]
  },
  {
   "cell_type": "markdown",
   "metadata": {},
   "source": [
    "We can use Gender as our label to visualize pairplot again in order to double check whetehr gender is an enssential role in our further clustering."
   ]
  },
  {
   "cell_type": "code",
   "execution_count": 29,
   "metadata": {},
   "outputs": [
    {
     "name": "stderr",
     "output_type": "stream",
     "text": [
      "/Users/sandy/opt/anaconda3/lib/python3.7/site-packages/statsmodels/nonparametric/kde.py:487: RuntimeWarning:\n",
      "\n",
      "invalid value encountered in true_divide\n",
      "\n",
      "/Users/sandy/opt/anaconda3/lib/python3.7/site-packages/statsmodels/nonparametric/kdetools.py:34: RuntimeWarning:\n",
      "\n",
      "invalid value encountered in double_scalars\n",
      "\n"
     ]
    },
    {
     "data": {
      "text/plain": [
       "<seaborn.axisgrid.PairGrid at 0x1a1f047d90>"
      ]
     },
     "execution_count": 29,
     "metadata": {},
     "output_type": "execute_result"
    },
    {
     "data": {
      "image/png": "[encoded data removed]",
      "text/plain": [
       "<Figure size 792.625x720 with 20 Axes>"
      ]
     },
     "metadata": {
      "needs_background": "light"
     },
     "output_type": "display_data"
    }
   ],
   "source": [
    "sns.pairplot(df_dummies.iloc[:,[1,2,3,4,5]],hue=\"Gender\")"
   ]
  },
  {
   "cell_type": "markdown",
   "metadata": {},
   "source": [
    "We can see between each scatter plots, Gender presents no siginificant influence in the figures. So we decide to ignore gender in further clustering."
   ]
  },
  {
   "cell_type": "markdown",
   "metadata": {},
   "source": [
    "<a id='Clustering'></a>\n",
    "## 4.2 Clustering\n",
    "\n",
    "\n",
    "In this project, we choose **K-Means Clustering** to segement our data since it is a useful method to quickly extract insights from unlabeled data.    \n",
    "\n",
    "The main idea of K-Means Clustering is to minimize the distances of each datapoints in intra-groups and maximize the distances of each datapoints in inter-groups. This method allows the similiar datapoints cluster into the same groups, and dissimilar datapoints are grouped into distinct groups.\n",
    "\n",
    "**The steps of K-Means Clustering**\n",
    "1. Decides the number of clusters K we want to segement (i.e. K=3).\n",
    "2. Algoritm randomly chooses number of K centroid from our dataset for initialize\n",
    "3. Algorithm calcuates the distances of each datapoints to each centroids, then assigns each datapoints to the nearset centroids as a group.\n",
    "4. Algorithm re-calculats the centroids in each groups.\n",
    "5. Alogorithm re-calculats the distance of each datapoints to the new centroids, and assigns each datapoints to the new groups based on the smallest distacne.\n",
    "6. Iterate the process from steps 4 and 5 until no more changes happens in each datapoints. \n",
    "7. We gets our final clusters.\n",
    "\n",
    "According to above steps, the first thing of K-Means clustering is to find a suitabe number of clusters K. Here we use **Elbow Method** to help us to do so.\n",
    "\n",
    "**Elbow Method**   \n",
    "\n",
    "Elbow method is the way to find optimum number of K by minimizeing the **Within-Cluster Sum of Square (WCSS)**. WCSS represents the variance of clusters. Since smaller variance indicates the better clustering, we can draw a plot which x-axis represents the number of cluster (K) and y-axis represents WCSS. Then we can find the elbow point as our optimum number K, where the WCSS decreasing rapidly before this point, and WCSS decreasing slow down after this point. Elbow point indicates that WCSS already minimize to a steady point, continuingly enhance number of K will not have much more impact on minimiaing WCSS.\n",
    "\n",
    "-------\n",
    "\n",
    "In this project, we apply K-Means clustering to segement our data. First of all, we  **standardize** our data so that the calculated distance will not be influenced by the units of different features. Then, we do the segemetation three times by using differnt combination of features. Three segemetation are explained below:\n",
    "\n",
    "1. Segementation1: Using Annual Income and Spending Score\n",
    "2. Segementation2: Using Age and Spending Score\n",
    "3. Segementation3: Using Age, Annual Income and Spending Score\n",
    "\n"
   ]
  },
  {
   "cell_type": "markdown",
   "metadata": {},
   "source": [
    "<a id='Standardizethedata'></a>\n",
    "\n",
    "## Standardize the data\n"
   ]
  },
  {
   "cell_type": "code",
   "execution_count": 30,
   "metadata": {},
   "outputs": [
    {
     "data": {
      "text/html": [
       "<div>\n",
       "<style scoped>\n",
       "    .dataframe tbody tr th:only-of-type {\n",
       "        vertical-align: middle;\n",
       "    }\n",
       "\n",
       "    .dataframe tbody tr th {\n",
       "        vertical-align: top;\n",
       "    }\n",
       "\n",
       "    .dataframe thead th {\n",
       "        text-align: right;\n",
       "    }\n",
       "</style>\n",
       "<table border=\"1\" class=\"dataframe\">\n",
       "  <thead>\n",
       "    <tr style=\"text-align: right;\">\n",
       "      <th></th>\n",
       "      <th>CustomerID</th>\n",
       "      <th>Gender</th>\n",
       "      <th>Age</th>\n",
       "      <th>Annual Income (k$)</th>\n",
       "      <th>Spending Score (1-100)</th>\n",
       "    </tr>\n",
       "  </thead>\n",
       "  <tbody>\n",
       "    <tr>\n",
       "      <td>0</td>\n",
       "      <td>1</td>\n",
       "      <td>Male</td>\n",
       "      <td>19</td>\n",
       "      <td>15</td>\n",
       "      <td>39</td>\n",
       "    </tr>\n",
       "    <tr>\n",
       "      <td>1</td>\n",
       "      <td>2</td>\n",
       "      <td>Male</td>\n",
       "      <td>21</td>\n",
       "      <td>15</td>\n",
       "      <td>81</td>\n",
       "    </tr>\n",
       "    <tr>\n",
       "      <td>2</td>\n",
       "      <td>3</td>\n",
       "      <td>Female</td>\n",
       "      <td>20</td>\n",
       "      <td>16</td>\n",
       "      <td>6</td>\n",
       "    </tr>\n",
       "  </tbody>\n",
       "</table>\n",
       "</div>"
      ],
      "text/plain": [
       "   CustomerID  Gender  Age  Annual Income (k$)  Spending Score (1-100)\n",
       "0           1    Male   19                  15                      39\n",
       "1           2    Male   21                  15                      81\n",
       "2           3  Female   20                  16                       6"
      ]
     },
     "execution_count": 30,
     "metadata": {},
     "output_type": "execute_result"
    }
   ],
   "source": [
    "df.head(3)"
   ]
  },
  {
   "cell_type": "code",
   "execution_count": 31,
   "metadata": {},
   "outputs": [
    {
     "data": {
      "text/html": [
       "<div>\n",
       "<style scoped>\n",
       "    .dataframe tbody tr th:only-of-type {\n",
       "        vertical-align: middle;\n",
       "    }\n",
       "\n",
       "    .dataframe tbody tr th {\n",
       "        vertical-align: top;\n",
       "    }\n",
       "\n",
       "    .dataframe thead th {\n",
       "        text-align: right;\n",
       "    }\n",
       "</style>\n",
       "<table border=\"1\" class=\"dataframe\">\n",
       "  <thead>\n",
       "    <tr style=\"text-align: right;\">\n",
       "      <th></th>\n",
       "      <th>Age</th>\n",
       "      <th>Annual Income</th>\n",
       "      <th>Spending Score</th>\n",
       "    </tr>\n",
       "  </thead>\n",
       "  <tbody>\n",
       "    <tr>\n",
       "      <td>0</td>\n",
       "      <td>-1.424569</td>\n",
       "      <td>-1.738999</td>\n",
       "      <td>-0.434801</td>\n",
       "    </tr>\n",
       "    <tr>\n",
       "      <td>1</td>\n",
       "      <td>-1.281035</td>\n",
       "      <td>-1.738999</td>\n",
       "      <td>1.195704</td>\n",
       "    </tr>\n",
       "    <tr>\n",
       "      <td>2</td>\n",
       "      <td>-1.352802</td>\n",
       "      <td>-1.700830</td>\n",
       "      <td>-1.715913</td>\n",
       "    </tr>\n",
       "    <tr>\n",
       "      <td>3</td>\n",
       "      <td>-1.137502</td>\n",
       "      <td>-1.700830</td>\n",
       "      <td>1.040418</td>\n",
       "    </tr>\n",
       "    <tr>\n",
       "      <td>4</td>\n",
       "      <td>-0.563369</td>\n",
       "      <td>-1.662660</td>\n",
       "      <td>-0.395980</td>\n",
       "    </tr>\n",
       "    <tr>\n",
       "      <td>...</td>\n",
       "      <td>...</td>\n",
       "      <td>...</td>\n",
       "      <td>...</td>\n",
       "    </tr>\n",
       "    <tr>\n",
       "      <td>195</td>\n",
       "      <td>-0.276302</td>\n",
       "      <td>2.268791</td>\n",
       "      <td>1.118061</td>\n",
       "    </tr>\n",
       "    <tr>\n",
       "      <td>196</td>\n",
       "      <td>0.441365</td>\n",
       "      <td>2.497807</td>\n",
       "      <td>-0.861839</td>\n",
       "    </tr>\n",
       "    <tr>\n",
       "      <td>197</td>\n",
       "      <td>-0.491602</td>\n",
       "      <td>2.497807</td>\n",
       "      <td>0.923953</td>\n",
       "    </tr>\n",
       "    <tr>\n",
       "      <td>198</td>\n",
       "      <td>-0.491602</td>\n",
       "      <td>2.917671</td>\n",
       "      <td>-1.250054</td>\n",
       "    </tr>\n",
       "    <tr>\n",
       "      <td>199</td>\n",
       "      <td>-0.635135</td>\n",
       "      <td>2.917671</td>\n",
       "      <td>1.273347</td>\n",
       "    </tr>\n",
       "  </tbody>\n",
       "</table>\n",
       "<p>200 rows × 3 columns</p>\n",
       "</div>"
      ],
      "text/plain": [
       "          Age  Annual Income  Spending Score\n",
       "0   -1.424569      -1.738999       -0.434801\n",
       "1   -1.281035      -1.738999        1.195704\n",
       "2   -1.352802      -1.700830       -1.715913\n",
       "3   -1.137502      -1.700830        1.040418\n",
       "4   -0.563369      -1.662660       -0.395980\n",
       "..        ...            ...             ...\n",
       "195 -0.276302       2.268791        1.118061\n",
       "196  0.441365       2.497807       -0.861839\n",
       "197 -0.491602       2.497807        0.923953\n",
       "198 -0.491602       2.917671       -1.250054\n",
       "199 -0.635135       2.917671        1.273347\n",
       "\n",
       "[200 rows x 3 columns]"
      ]
     },
     "execution_count": 31,
     "metadata": {},
     "output_type": "execute_result"
    }
   ],
   "source": [
    "df_standard = pd.DataFrame(StandardScaler().fit_transform(df.values[:,[2,3,4]]),  \n",
    "                           columns=[\"Age\",\"Annual Income\",\"Spending Score\"])\n",
    "\n",
    "df_standard"
   ]
  },
  {
   "cell_type": "markdown",
   "metadata": {},
   "source": [
    "<a id='Segmentation1'></a>\n",
    "## Segmentation1_AnnualIncome_SpendingScore\n",
    "\n",
    "\n",
    "Use Annual Income and Spending Score as features."
   ]
  },
  {
   "cell_type": "code",
   "execution_count": 32,
   "metadata": {},
   "outputs": [
    {
     "data": {
      "text/plain": [
       "array([[-1.73899919, -0.43480148],\n",
       "       [-1.73899919,  1.19570407],\n",
       "       [-1.70082976, -1.71591298],\n",
       "       [-1.70082976,  1.04041783],\n",
       "       [-1.66266033, -0.39597992],\n",
       "       [-1.66266033,  1.00159627],\n",
       "       [-1.62449091, -1.71591298],\n",
       "       [-1.62449091,  1.70038436],\n",
       "       [-1.58632148, -1.83237767],\n",
       "       [-1.58632148,  0.84631002],\n",
       "       [-1.58632148, -1.4053405 ],\n",
       "       [-1.58632148,  1.89449216],\n",
       "       [-1.54815205, -1.36651894],\n",
       "       [-1.54815205,  1.04041783],\n",
       "       [-1.54815205, -1.44416206],\n",
       "       [-1.54815205,  1.11806095],\n",
       "       [-1.50998262, -0.59008772],\n",
       "       [-1.50998262,  0.61338066],\n",
       "       [-1.43364376, -0.82301709],\n",
       "       [-1.43364376,  1.8556706 ],\n",
       "       [-1.39547433, -0.59008772],\n",
       "       [-1.39547433,  0.88513158],\n",
       "       [-1.3573049 , -1.75473454],\n",
       "       [-1.3573049 ,  0.88513158],\n",
       "       [-1.24279661, -1.4053405 ],\n",
       "       [-1.24279661,  1.23452563],\n",
       "       [-1.24279661, -0.7065524 ],\n",
       "       [-1.24279661,  0.41927286],\n",
       "       [-1.20462718, -0.74537397],\n",
       "       [-1.20462718,  1.42863343],\n",
       "       [-1.16645776, -1.7935561 ],\n",
       "       [-1.16645776,  0.88513158],\n",
       "       [-1.05194947, -1.7935561 ],\n",
       "       [-1.05194947,  1.62274124],\n",
       "       [-1.05194947, -1.4053405 ],\n",
       "       [-1.05194947,  1.19570407],\n",
       "       [-1.01378004, -1.28887582],\n",
       "       [-1.01378004,  0.88513158],\n",
       "       [-0.89927175, -0.93948177],\n",
       "       [-0.89927175,  0.96277471],\n",
       "       [-0.86110232, -0.59008772],\n",
       "       [-0.86110232,  1.62274124],\n",
       "       [-0.82293289, -0.55126616],\n",
       "       [-0.82293289,  0.41927286],\n",
       "       [-0.82293289, -0.86183865],\n",
       "       [-0.82293289,  0.5745591 ],\n",
       "       [-0.78476346,  0.18634349],\n",
       "       [-0.78476346, -0.12422899],\n",
       "       [-0.78476346, -0.3183368 ],\n",
       "       [-0.78476346, -0.3183368 ],\n",
       "       [-0.70842461,  0.06987881],\n",
       "       [-0.70842461,  0.38045129],\n",
       "       [-0.67025518,  0.14752193],\n",
       "       [-0.67025518,  0.38045129],\n",
       "       [-0.67025518, -0.20187212],\n",
       "       [-0.67025518, -0.35715836],\n",
       "       [-0.63208575, -0.00776431],\n",
       "       [-0.63208575, -0.16305055],\n",
       "       [-0.55574689,  0.03105725],\n",
       "       [-0.55574689, -0.16305055],\n",
       "       [-0.55574689,  0.22516505],\n",
       "       [-0.55574689,  0.18634349],\n",
       "       [-0.51757746,  0.06987881],\n",
       "       [-0.51757746,  0.34162973],\n",
       "       [-0.47940803,  0.03105725],\n",
       "       [-0.47940803,  0.34162973],\n",
       "       [-0.47940803, -0.00776431],\n",
       "       [-0.47940803, -0.08540743],\n",
       "       [-0.47940803,  0.34162973],\n",
       "       [-0.47940803, -0.12422899],\n",
       "       [-0.4412386 ,  0.18634349],\n",
       "       [-0.4412386 , -0.3183368 ],\n",
       "       [-0.40306917, -0.04658587],\n",
       "       [-0.40306917,  0.22516505],\n",
       "       [-0.25039146, -0.12422899],\n",
       "       [-0.25039146,  0.14752193],\n",
       "       [-0.25039146,  0.10870037],\n",
       "       [-0.25039146, -0.08540743],\n",
       "       [-0.25039146,  0.06987881],\n",
       "       [-0.25039146, -0.3183368 ],\n",
       "       [-0.25039146,  0.03105725],\n",
       "       [-0.25039146,  0.18634349],\n",
       "       [-0.25039146, -0.35715836],\n",
       "       [-0.25039146, -0.24069368],\n",
       "       [-0.25039146,  0.26398661],\n",
       "       [-0.25039146, -0.16305055],\n",
       "       [-0.13588317,  0.30280817],\n",
       "       [-0.13588317,  0.18634349],\n",
       "       [-0.09771374,  0.38045129],\n",
       "       [-0.09771374, -0.16305055],\n",
       "       [-0.05954431,  0.18634349],\n",
       "       [-0.05954431, -0.35715836],\n",
       "       [-0.02137488, -0.04658587],\n",
       "       [-0.02137488, -0.39597992],\n",
       "       [-0.02137488, -0.3183368 ],\n",
       "       [-0.02137488,  0.06987881],\n",
       "       [-0.02137488, -0.12422899],\n",
       "       [-0.02137488, -0.00776431],\n",
       "       [ 0.01679455, -0.3183368 ],\n",
       "       [ 0.01679455, -0.04658587],\n",
       "       [ 0.05496398, -0.35715836],\n",
       "       [ 0.05496398, -0.08540743],\n",
       "       [ 0.05496398,  0.34162973],\n",
       "       [ 0.05496398,  0.18634349],\n",
       "       [ 0.05496398,  0.22516505],\n",
       "       [ 0.05496398, -0.3183368 ],\n",
       "       [ 0.09313341, -0.00776431],\n",
       "       [ 0.09313341, -0.16305055],\n",
       "       [ 0.09313341, -0.27951524],\n",
       "       [ 0.09313341, -0.08540743],\n",
       "       [ 0.09313341,  0.06987881],\n",
       "       [ 0.09313341,  0.14752193],\n",
       "       [ 0.13130284, -0.3183368 ],\n",
       "       [ 0.13130284, -0.16305055],\n",
       "       [ 0.16947227, -0.08540743],\n",
       "       [ 0.16947227, -0.00776431],\n",
       "       [ 0.16947227, -0.27951524],\n",
       "       [ 0.16947227,  0.34162973],\n",
       "       [ 0.24581112, -0.27951524],\n",
       "       [ 0.24581112,  0.26398661],\n",
       "       [ 0.24581112,  0.22516505],\n",
       "       [ 0.24581112, -0.39597992],\n",
       "       [ 0.32214998,  0.30280817],\n",
       "       [ 0.32214998,  1.58391968],\n",
       "       [ 0.36031941, -0.82301709],\n",
       "       [ 0.36031941,  1.04041783],\n",
       "       [ 0.39848884, -0.59008772],\n",
       "       [ 0.39848884,  1.73920592],\n",
       "       [ 0.39848884, -1.52180518],\n",
       "       [ 0.39848884,  0.96277471],\n",
       "       [ 0.39848884, -1.5994483 ],\n",
       "       [ 0.39848884,  0.96277471],\n",
       "       [ 0.43665827, -0.62890928],\n",
       "       [ 0.43665827,  0.80748846],\n",
       "       [ 0.4748277 , -1.75473454],\n",
       "       [ 0.4748277 ,  1.46745499],\n",
       "       [ 0.4748277 , -1.67709142],\n",
       "       [ 0.4748277 ,  0.88513158],\n",
       "       [ 0.51299713, -1.56062674],\n",
       "       [ 0.51299713,  0.84631002],\n",
       "       [ 0.55116656, -1.75473454],\n",
       "       [ 0.55116656,  1.6615628 ],\n",
       "       [ 0.58933599, -0.39597992],\n",
       "       [ 0.58933599,  1.42863343],\n",
       "       [ 0.62750542, -1.48298362],\n",
       "       [ 0.62750542,  1.81684904],\n",
       "       [ 0.62750542, -0.55126616],\n",
       "       [ 0.62750542,  0.92395314],\n",
       "       [ 0.66567484, -1.09476801],\n",
       "       [ 0.66567484,  1.54509812],\n",
       "       [ 0.66567484, -1.28887582],\n",
       "       [ 0.66567484,  1.46745499],\n",
       "       [ 0.66567484, -1.17241113],\n",
       "       [ 0.66567484,  1.00159627],\n",
       "       [ 0.66567484, -1.32769738],\n",
       "       [ 0.66567484,  1.50627656],\n",
       "       [ 0.66567484, -1.91002079],\n",
       "       [ 0.66567484,  1.07923939],\n",
       "       [ 0.66567484, -1.91002079],\n",
       "       [ 0.66567484,  0.88513158],\n",
       "       [ 0.70384427, -0.59008772],\n",
       "       [ 0.70384427,  1.27334719],\n",
       "       [ 0.78018313, -1.75473454],\n",
       "       [ 0.78018313,  1.6615628 ],\n",
       "       [ 0.93286085, -0.93948177],\n",
       "       [ 0.93286085,  0.96277471],\n",
       "       [ 0.97103028, -1.17241113],\n",
       "       [ 0.97103028,  1.73920592],\n",
       "       [ 1.00919971, -0.90066021],\n",
       "       [ 1.00919971,  0.49691598],\n",
       "       [ 1.00919971, -1.44416206],\n",
       "       [ 1.00919971,  0.96277471],\n",
       "       [ 1.00919971, -1.56062674],\n",
       "       [ 1.00919971,  1.62274124],\n",
       "       [ 1.04736914, -1.44416206],\n",
       "       [ 1.04736914,  1.38981187],\n",
       "       [ 1.04736914, -1.36651894],\n",
       "       [ 1.04736914,  0.72984534],\n",
       "       [ 1.23821628, -1.4053405 ],\n",
       "       [ 1.23821628,  1.54509812],\n",
       "       [ 1.390894  , -0.7065524 ],\n",
       "       [ 1.390894  ,  1.38981187],\n",
       "       [ 1.42906343, -1.36651894],\n",
       "       [ 1.42906343,  1.46745499],\n",
       "       [ 1.46723286, -0.43480148],\n",
       "       [ 1.46723286,  1.81684904],\n",
       "       [ 1.54357172, -1.01712489],\n",
       "       [ 1.54357172,  0.69102378],\n",
       "       [ 1.61991057, -1.28887582],\n",
       "       [ 1.61991057,  1.35099031],\n",
       "       [ 1.61991057, -1.05594645],\n",
       "       [ 1.61991057,  0.72984534],\n",
       "       [ 2.00160487, -1.63826986],\n",
       "       [ 2.00160487,  1.58391968],\n",
       "       [ 2.26879087, -1.32769738],\n",
       "       [ 2.26879087,  1.11806095],\n",
       "       [ 2.49780745, -0.86183865],\n",
       "       [ 2.49780745,  0.92395314],\n",
       "       [ 2.91767117, -1.25005425],\n",
       "       [ 2.91767117,  1.27334719]])"
      ]
     },
     "execution_count": 32,
     "metadata": {},
     "output_type": "execute_result"
    }
   ],
   "source": [
    "segmentation1 = df_standard.values[:,[1,2]]\n",
    "segmentation1"
   ]
  },
  {
   "cell_type": "code",
   "execution_count": 33,
   "metadata": {},
   "outputs": [
    {
     "name": "stdout",
     "output_type": "stream",
     "text": [
      "Numbers of K:1, WCSS:400.0\n",
      "Numbers of K:2, WCSS:269.6910121927639\n",
      "Numbers of K:3, WCSS:157.70400815035947\n",
      "Numbers of K:4, WCSS:108.92131661364357\n",
      "Numbers of K:5, WCSS:65.56840815571681\n",
      "Numbers of K:6, WCSS:55.103778121150576\n",
      "Numbers of K:7, WCSS:44.91118554999014\n",
      "Numbers of K:8, WCSS:37.197786918695634\n",
      "Numbers of K:9, WCSS:32.377243774440345\n",
      "Numbers of K:10, WCSS:29.090568897369717\n",
      "Numbers of K:11, WCSS:26.511337826694465\n"
     ]
    }
   ],
   "source": [
    "# wcss = within cluster sum of square\n",
    "wcss_1 = []\n",
    "\n",
    "for i in range(1,12):\n",
    "    kmeans_1 = KMeans(n_clusters=i, init=\"k-means++\")\n",
    "    kmeans_1.fit(segmentation1)\n",
    "    wcss_1.append(kmeans_1.inertia_)\n",
    "    print(\"Numbers of K:{}, WCSS:{}\".format(i,kmeans_1.inertia_))\n",
    "   "
   ]
  },
  {
   "cell_type": "code",
   "execution_count": 34,
   "metadata": {
    "scrolled": false
   },
   "outputs": [
    {
     "data": {
      "text/plain": [
       "Text(0,0.5,'Within-Cluster Sum of Square (WCSS)')"
      ]
     },
     "execution_count": 34,
     "metadata": {},
     "output_type": "execute_result"
    },
    {
     "data": {
      "image/png": "[encoded data removed]",
      "text/plain": [
       "<Figure size 576x360 with 1 Axes>"
      ]
     },
     "metadata": {
      "needs_background": "light"
     },
     "output_type": "display_data"
    }
   ],
   "source": [
    "# Draw figure to see where the elbow point is \n",
    "plt.figure(figsize=(8,5))\n",
    "plt.plot(range(1,12),wcss_1,'o')\n",
    "plt.plot(range(1,12),wcss_1,alpha=0.7)\n",
    "plt.title(\"Elbow Method to find best K\")\n",
    "plt.xlabel(\"Number of Clusters (K)\")\n",
    "plt.xticks(range(1,12))\n",
    "plt.ylabel(\"Within-Cluster Sum of Square (WCSS)\")\n"
   ]
  },
  {
   "cell_type": "markdown",
   "metadata": {},
   "source": [
    "From above figure, we can see the elbow point appear at K = 5. As a result, we choose 5 to be our cluster number."
   ]
  },
  {
   "cell_type": "code",
   "execution_count": 35,
   "metadata": {},
   "outputs": [
    {
     "name": "stdout",
     "output_type": "stream",
     "text": [
      "[3 1 3 1 3 1 3 1 3 1 3 1 3 1 3 1 3 1 3 1 3 1 3 1 3 1 3 1 3 1 3 1 3 1 3 1 3\n",
      " 1 3 1 3 1 3 4 3 1 4 4 4 4 4 4 4 4 4 4 4 4 4 4 4 4 4 4 4 4 4 4 4 4 4 4 4 4\n",
      " 4 4 4 4 4 4 4 4 4 4 4 4 4 4 4 4 4 4 4 4 4 4 4 4 4 4 4 4 4 4 4 4 4 4 4 4 4\n",
      " 4 4 4 4 4 4 4 4 4 4 4 4 2 0 2 4 2 0 2 0 2 4 2 0 2 0 2 0 2 0 2 4 2 0 2 0 2\n",
      " 0 2 0 2 0 2 0 2 0 2 0 2 0 2 0 2 0 2 0 2 0 2 0 2 0 2 0 2 0 2 0 2 0 2 0 2 0\n",
      " 2 0 2 0 2 0 2 0 2 0 2 0 2 0 2]\n",
      "[[ 1.05500302 -1.28443907]\n",
      " [-1.32954532  1.13217788]\n",
      " [ 0.99158305  1.23950275]\n",
      " [-1.30751869 -1.13696536]\n",
      " [-0.20091257 -0.02645617]]\n"
     ]
    }
   ],
   "source": [
    "# Fit K-Means Clustering model, then find label and centroid of each clusters.\n",
    "kmeansmodel_1 = KMeans(n_clusters = 5, init=\"k-means++\")\n",
    "kmeansmodel_1.fit(segmentation1)\n",
    "label_1 = kmeansmodel_1.labels_\n",
    "centroid_1= kmeansmodel_1.cluster_centers_\n",
    "print(label_1)\n",
    "print(centroid_1)"
   ]
  },
  {
   "cell_type": "code",
   "execution_count": 36,
   "metadata": {},
   "outputs": [
    {
     "data": {
      "text/html": [
       "<div>\n",
       "<style scoped>\n",
       "    .dataframe tbody tr th:only-of-type {\n",
       "        vertical-align: middle;\n",
       "    }\n",
       "\n",
       "    .dataframe tbody tr th {\n",
       "        vertical-align: top;\n",
       "    }\n",
       "\n",
       "    .dataframe thead th {\n",
       "        text-align: right;\n",
       "    }\n",
       "</style>\n",
       "<table border=\"1\" class=\"dataframe\">\n",
       "  <thead>\n",
       "    <tr style=\"text-align: right;\">\n",
       "      <th></th>\n",
       "      <th>CustomerID</th>\n",
       "      <th>Gender</th>\n",
       "      <th>Age</th>\n",
       "      <th>Annual Income (k$)</th>\n",
       "      <th>Spending Score (1-100)</th>\n",
       "      <th>Annual Income_standard</th>\n",
       "      <th>Spending Score_standard</th>\n",
       "      <th>Segmentation</th>\n",
       "      <th>Cluster</th>\n",
       "    </tr>\n",
       "  </thead>\n",
       "  <tbody>\n",
       "    <tr>\n",
       "      <td>0</td>\n",
       "      <td>1</td>\n",
       "      <td>Male</td>\n",
       "      <td>19</td>\n",
       "      <td>15</td>\n",
       "      <td>39</td>\n",
       "      <td>-1.738999</td>\n",
       "      <td>-0.434801</td>\n",
       "      <td>3</td>\n",
       "      <td>4</td>\n",
       "    </tr>\n",
       "    <tr>\n",
       "      <td>1</td>\n",
       "      <td>2</td>\n",
       "      <td>Male</td>\n",
       "      <td>21</td>\n",
       "      <td>15</td>\n",
       "      <td>81</td>\n",
       "      <td>-1.738999</td>\n",
       "      <td>1.195704</td>\n",
       "      <td>1</td>\n",
       "      <td>2</td>\n",
       "    </tr>\n",
       "    <tr>\n",
       "      <td>2</td>\n",
       "      <td>3</td>\n",
       "      <td>Female</td>\n",
       "      <td>20</td>\n",
       "      <td>16</td>\n",
       "      <td>6</td>\n",
       "      <td>-1.700830</td>\n",
       "      <td>-1.715913</td>\n",
       "      <td>3</td>\n",
       "      <td>4</td>\n",
       "    </tr>\n",
       "    <tr>\n",
       "      <td>3</td>\n",
       "      <td>4</td>\n",
       "      <td>Female</td>\n",
       "      <td>23</td>\n",
       "      <td>16</td>\n",
       "      <td>77</td>\n",
       "      <td>-1.700830</td>\n",
       "      <td>1.040418</td>\n",
       "      <td>1</td>\n",
       "      <td>2</td>\n",
       "    </tr>\n",
       "    <tr>\n",
       "      <td>4</td>\n",
       "      <td>5</td>\n",
       "      <td>Female</td>\n",
       "      <td>31</td>\n",
       "      <td>17</td>\n",
       "      <td>40</td>\n",
       "      <td>-1.662660</td>\n",
       "      <td>-0.395980</td>\n",
       "      <td>3</td>\n",
       "      <td>4</td>\n",
       "    </tr>\n",
       "    <tr>\n",
       "      <td>...</td>\n",
       "      <td>...</td>\n",
       "      <td>...</td>\n",
       "      <td>...</td>\n",
       "      <td>...</td>\n",
       "      <td>...</td>\n",
       "      <td>...</td>\n",
       "      <td>...</td>\n",
       "      <td>...</td>\n",
       "      <td>...</td>\n",
       "    </tr>\n",
       "    <tr>\n",
       "      <td>195</td>\n",
       "      <td>196</td>\n",
       "      <td>Female</td>\n",
       "      <td>35</td>\n",
       "      <td>120</td>\n",
       "      <td>79</td>\n",
       "      <td>2.268791</td>\n",
       "      <td>1.118061</td>\n",
       "      <td>2</td>\n",
       "      <td>3</td>\n",
       "    </tr>\n",
       "    <tr>\n",
       "      <td>196</td>\n",
       "      <td>197</td>\n",
       "      <td>Female</td>\n",
       "      <td>45</td>\n",
       "      <td>126</td>\n",
       "      <td>28</td>\n",
       "      <td>2.497807</td>\n",
       "      <td>-0.861839</td>\n",
       "      <td>0</td>\n",
       "      <td>1</td>\n",
       "    </tr>\n",
       "    <tr>\n",
       "      <td>197</td>\n",
       "      <td>198</td>\n",
       "      <td>Male</td>\n",
       "      <td>32</td>\n",
       "      <td>126</td>\n",
       "      <td>74</td>\n",
       "      <td>2.497807</td>\n",
       "      <td>0.923953</td>\n",
       "      <td>2</td>\n",
       "      <td>3</td>\n",
       "    </tr>\n",
       "    <tr>\n",
       "      <td>198</td>\n",
       "      <td>199</td>\n",
       "      <td>Male</td>\n",
       "      <td>32</td>\n",
       "      <td>137</td>\n",
       "      <td>18</td>\n",
       "      <td>2.917671</td>\n",
       "      <td>-1.250054</td>\n",
       "      <td>0</td>\n",
       "      <td>1</td>\n",
       "    </tr>\n",
       "    <tr>\n",
       "      <td>199</td>\n",
       "      <td>200</td>\n",
       "      <td>Male</td>\n",
       "      <td>30</td>\n",
       "      <td>137</td>\n",
       "      <td>83</td>\n",
       "      <td>2.917671</td>\n",
       "      <td>1.273347</td>\n",
       "      <td>2</td>\n",
       "      <td>3</td>\n",
       "    </tr>\n",
       "  </tbody>\n",
       "</table>\n",
       "<p>200 rows × 9 columns</p>\n",
       "</div>"
      ],
      "text/plain": [
       "     CustomerID  Gender  Age  Annual Income (k$)  Spending Score (1-100)  \\\n",
       "0             1    Male   19                  15                      39   \n",
       "1             2    Male   21                  15                      81   \n",
       "2             3  Female   20                  16                       6   \n",
       "3             4  Female   23                  16                      77   \n",
       "4             5  Female   31                  17                      40   \n",
       "..          ...     ...  ...                 ...                     ...   \n",
       "195         196  Female   35                 120                      79   \n",
       "196         197  Female   45                 126                      28   \n",
       "197         198    Male   32                 126                      74   \n",
       "198         199    Male   32                 137                      18   \n",
       "199         200    Male   30                 137                      83   \n",
       "\n",
       "     Annual Income_standard  Spending Score_standard  Segmentation  Cluster  \n",
       "0                 -1.738999                -0.434801             3        4  \n",
       "1                 -1.738999                 1.195704             1        2  \n",
       "2                 -1.700830                -1.715913             3        4  \n",
       "3                 -1.700830                 1.040418             1        2  \n",
       "4                 -1.662660                -0.395980             3        4  \n",
       "..                      ...                      ...           ...      ...  \n",
       "195                2.268791                 1.118061             2        3  \n",
       "196                2.497807                -0.861839             0        1  \n",
       "197                2.497807                 0.923953             2        3  \n",
       "198                2.917671                -1.250054             0        1  \n",
       "199                2.917671                 1.273347             2        3  \n",
       "\n",
       "[200 rows x 9 columns]"
      ]
     },
     "execution_count": 36,
     "metadata": {},
     "output_type": "execute_result"
    }
   ],
   "source": [
    "# Generate a new table with cluster number\n",
    "# \"Segmentation\" is the original label given by the Algorithm from 0 to 4. \n",
    "# \"Cluster\" is the label(from 1 to 5) easier for people to understand.\n",
    "df_segmentation1 = df.copy()\n",
    "df_segmentation1[\"Annual Income_standard\"] = df_standard[\"Annual Income\"]\n",
    "df_segmentation1[\"Spending Score_standard\"] = df_standard[\"Spending Score\"]\n",
    "df_segmentation1[\"Segmentation\"] = label_1\n",
    "df_segmentation1[\"Cluster\"] = label_1+1\n",
    "df_segmentation1\n"
   ]
  },
  {
   "cell_type": "code",
   "execution_count": 50,
   "metadata": {},
   "outputs": [
    {
     "data": {
      "text/plain": [
       "<matplotlib.legend.Legend at 0x1a22d85510>"
      ]
     },
     "execution_count": 50,
     "metadata": {},
     "output_type": "execute_result"
    },
    {
     "data": {
      "image/png": "[encoded data removed]",
      "text/plain": [
       "<Figure size 576x360 with 1 Axes>"
      ]
     },
     "metadata": {
      "needs_background": "light"
     },
     "output_type": "display_data"
    }
   ],
   "source": [
    "# Visualize the clustering \n",
    "plt.figure(figsize=(8,5))\n",
    "plt.scatter(segmentation1[label_1==0,0],segmentation1[label_1==0,1],s=80, c=\"red\", label=\"Cluster1\")\n",
    "plt.scatter(segmentation1[label_1==1,0],segmentation1[label_1==1,1],s=80, c=\"blue\", label=\"Cluster2\")\n",
    "plt.scatter(segmentation1[label_1==2,0],segmentation1[label_1==2,1],s=80, c=\"yellow\", label=\"Cluster3\")\n",
    "plt.scatter(segmentation1[label_1==3,0],segmentation1[label_1==3,1],s=80, c=\"green\", label=\"Cluster4\")\n",
    "plt.scatter(segmentation1[label_1==4,0],segmentation1[label_1==4,1],s=80, c=\"orange\", label=\"Cluster5\")\n",
    "plt.scatter(centroid_1[:,0],centroid_1[:,1],s=100, c=\"red\",alpha=0.5)\n",
    "\n",
    "plt.title(\"Customer Segementaion by Annual Income and Spending Score\")\n",
    "plt.xlabel(\"Annual Income\")\n",
    "plt.ylabel(\"Spending Score\")\n",
    "plt.legend()"
   ]
  },
  {
   "cell_type": "markdown",
   "metadata": {},
   "source": [
    "<a id='s1summary'></a>\n",
    "**Brief summary**\n",
    "\n",
    "In segementatino1, we use Annual Income and Spending Score to segment our data into 5 clusters. Each clusters is described below:\n",
    "\n",
    "1. Cluster1: High Annual Income with low Spending Score\n",
    "2. Cluster2: Low Annual Incom with high Spending Score\n",
    "3. Cluster3: High Annual Income with high Spending Score\n",
    "4. Cluster4: Low Annual Income with low Spending Score\n",
    "5. Cluster5: Intermediate Annual Income with Intermediate Spending Score\n",
    "\n",
    "**Some Insights**\n",
    "1. We might need to apply customized products to Cluster1. Since Cluster1 has high income, however, it seems we did not reach the market to them. Cluster1 is the groups we need to take our efforts to appraoch.\n",
    "2. Cluster2 and Cluster3 are our primary customers. Since Cluster2 has relatively low income, launching cheaper products might attract their attention. \n",
    "3. Cluster4 is not our target customers since it has lower income and lower spending socre. It might not have much space for use to increase their spending.\n",
    "4. Cluster5 is our potential customers. We colud get more information and apply suitable strategy in order to enhance their willing for more engagement.\n",
    "\n"
   ]
  },
  {
   "cell_type": "markdown",
   "metadata": {},
   "source": [
    "<a id='Segmentation2'></a>\n",
    "## Segmentation2_Age_SpendingScore\n",
    "\n",
    "\n",
    "Use Age and Spending Score as features."
   ]
  },
  {
   "cell_type": "code",
   "execution_count": 38,
   "metadata": {
    "collapsed": true
   },
   "outputs": [
    {
     "data": {
      "text/plain": [
       "array([[-1.42456879, -0.43480148],\n",
       "       [-1.28103541,  1.19570407],\n",
       "       [-1.3528021 , -1.71591298],\n",
       "       [-1.13750203,  1.04041783],\n",
       "       [-0.56336851, -0.39597992],\n",
       "       [-1.20926872,  1.00159627],\n",
       "       [-0.27630176, -1.71591298],\n",
       "       [-1.13750203,  1.70038436],\n",
       "       [ 1.80493225, -1.83237767],\n",
       "       [-0.6351352 ,  0.84631002],\n",
       "       [ 2.02023231, -1.4053405 ],\n",
       "       [-0.27630176,  1.89449216],\n",
       "       [ 1.37433211, -1.36651894],\n",
       "       [-1.06573534,  1.04041783],\n",
       "       [-0.13276838, -1.44416206],\n",
       "       [-1.20926872,  1.11806095],\n",
       "       [-0.27630176, -0.59008772],\n",
       "       [-1.3528021 ,  0.61338066],\n",
       "       [ 0.94373197, -0.82301709],\n",
       "       [-0.27630176,  1.8556706 ],\n",
       "       [-0.27630176, -0.59008772],\n",
       "       [-0.99396865,  0.88513158],\n",
       "       [ 0.51313183, -1.75473454],\n",
       "       [-0.56336851,  0.88513158],\n",
       "       [ 1.08726535, -1.4053405 ],\n",
       "       [-0.70690189,  1.23452563],\n",
       "       [ 0.44136514, -0.7065524 ],\n",
       "       [-0.27630176,  0.41927286],\n",
       "       [ 0.08253169, -0.74537397],\n",
       "       [-1.13750203,  1.42863343],\n",
       "       [ 1.51786549, -1.7935561 ],\n",
       "       [-1.28103541,  0.88513158],\n",
       "       [ 1.01549866, -1.7935561 ],\n",
       "       [-1.49633548,  1.62274124],\n",
       "       [ 0.7284319 , -1.4053405 ],\n",
       "       [-1.28103541,  1.19570407],\n",
       "       [ 0.22606507, -1.28887582],\n",
       "       [-0.6351352 ,  0.88513158],\n",
       "       [-0.20453507, -0.93948177],\n",
       "       [-1.3528021 ,  0.96277471],\n",
       "       [ 1.87669894, -0.59008772],\n",
       "       [-1.06573534,  1.62274124],\n",
       "       [ 0.65666521, -0.55126616],\n",
       "       [-0.56336851,  0.41927286],\n",
       "       [ 0.7284319 , -0.86183865],\n",
       "       [-1.06573534,  0.5745591 ],\n",
       "       [ 0.80019859,  0.18634349],\n",
       "       [-0.85043527, -0.12422899],\n",
       "       [-0.70690189, -0.3183368 ],\n",
       "       [-0.56336851, -0.3183368 ],\n",
       "       [ 0.7284319 ,  0.06987881],\n",
       "       [-0.41983513,  0.38045129],\n",
       "       [-0.56336851,  0.14752193],\n",
       "       [ 1.4460988 ,  0.38045129],\n",
       "       [ 0.80019859, -0.20187212],\n",
       "       [ 0.58489852, -0.35715836],\n",
       "       [ 0.87196528, -0.00776431],\n",
       "       [ 2.16376569, -0.16305055],\n",
       "       [-0.85043527,  0.03105725],\n",
       "       [ 1.01549866, -0.16305055],\n",
       "       [ 2.23553238,  0.22516505],\n",
       "       [-1.42456879,  0.18634349],\n",
       "       [ 2.02023231,  0.06987881],\n",
       "       [ 1.08726535,  0.34162973],\n",
       "       [ 1.73316556,  0.03105725],\n",
       "       [-1.49633548,  0.34162973],\n",
       "       [ 0.29783176, -0.00776431],\n",
       "       [ 2.091999  , -0.08540743],\n",
       "       [-1.42456879,  0.34162973],\n",
       "       [-0.49160182, -0.12422899],\n",
       "       [ 2.23553238,  0.18634349],\n",
       "       [ 0.58489852, -0.3183368 ],\n",
       "       [ 1.51786549, -0.04658587],\n",
       "       [ 1.51786549,  0.22516505],\n",
       "       [ 1.4460988 , -0.12422899],\n",
       "       [-0.92220196,  0.14752193],\n",
       "       [ 0.44136514,  0.10870037],\n",
       "       [ 0.08253169, -0.08540743],\n",
       "       [-1.13750203,  0.06987881],\n",
       "       [ 0.7284319 , -0.3183368 ],\n",
       "       [ 1.30256542,  0.03105725],\n",
       "       [-0.06100169,  0.18634349],\n",
       "       [ 2.02023231, -0.35715836],\n",
       "       [ 0.51313183, -0.24069368],\n",
       "       [-1.28103541,  0.26398661],\n",
       "       [ 0.65666521, -0.16305055],\n",
       "       [ 1.15903204,  0.30280817],\n",
       "       [-1.20926872,  0.18634349],\n",
       "       [-0.34806844,  0.38045129],\n",
       "       [ 0.80019859, -0.16305055],\n",
       "       [ 2.091999  ,  0.18634349],\n",
       "       [-1.49633548, -0.35715836],\n",
       "       [ 0.65666521, -0.04658587],\n",
       "       [ 0.08253169, -0.39597992],\n",
       "       [-0.49160182, -0.3183368 ],\n",
       "       [-1.06573534,  0.06987881],\n",
       "       [ 0.58489852, -0.12422899],\n",
       "       [-0.85043527, -0.00776431],\n",
       "       [ 0.65666521, -0.3183368 ],\n",
       "       [-1.3528021 , -0.04658587],\n",
       "       [-1.13750203, -0.35715836],\n",
       "       [ 0.7284319 , -0.08540743],\n",
       "       [ 2.02023231,  0.34162973],\n",
       "       [-0.92220196,  0.18634349],\n",
       "       [ 0.7284319 ,  0.22516505],\n",
       "       [-1.28103541, -0.3183368 ],\n",
       "       [ 1.94846562, -0.00776431],\n",
       "       [ 1.08726535, -0.16305055],\n",
       "       [ 2.091999  , -0.27951524],\n",
       "       [ 1.94846562, -0.08540743],\n",
       "       [ 1.87669894,  0.06987881],\n",
       "       [-1.42456879,  0.14752193],\n",
       "       [-0.06100169, -0.3183368 ],\n",
       "       [-1.42456879, -0.16305055],\n",
       "       [-1.49633548, -0.08540743],\n",
       "       [-1.42456879, -0.00776431],\n",
       "       [ 1.73316556, -0.27951524],\n",
       "       [ 0.7284319 ,  0.34162973],\n",
       "       [ 0.87196528, -0.27951524],\n",
       "       [ 0.80019859,  0.26398661],\n",
       "       [-0.85043527,  0.22516505],\n",
       "       [-0.06100169, -0.39597992],\n",
       "       [ 0.08253169,  0.30280817],\n",
       "       [ 0.010765  ,  1.58391968],\n",
       "       [-1.13750203, -0.82301709],\n",
       "       [-0.56336851,  1.04041783],\n",
       "       [ 0.29783176, -0.59008772],\n",
       "       [ 0.08253169,  1.73920592],\n",
       "       [ 1.4460988 , -1.52180518],\n",
       "       [-0.06100169,  0.96277471],\n",
       "       [ 0.58489852, -1.5994483 ],\n",
       "       [ 0.010765  ,  0.96277471],\n",
       "       [-0.99396865, -0.62890928],\n",
       "       [-0.56336851,  0.80748846],\n",
       "       [-1.3528021 , -1.75473454],\n",
       "       [-0.70690189,  1.46745499],\n",
       "       [ 0.36959845, -1.67709142],\n",
       "       [-0.49160182,  0.88513158],\n",
       "       [-1.42456879, -1.56062674],\n",
       "       [-0.27630176,  0.84631002],\n",
       "       [ 1.30256542, -1.75473454],\n",
       "       [-0.49160182,  1.6615628 ],\n",
       "       [-0.77866858, -0.39597992],\n",
       "       [-0.49160182,  1.42863343],\n",
       "       [-0.99396865, -1.48298362],\n",
       "       [-0.77866858,  1.81684904],\n",
       "       [ 0.65666521, -0.55126616],\n",
       "       [-0.49160182,  0.92395314],\n",
       "       [-0.34806844, -1.09476801],\n",
       "       [-0.34806844,  1.54509812],\n",
       "       [ 0.29783176, -1.28887582],\n",
       "       [ 0.010765  ,  1.46745499],\n",
       "       [ 0.36959845, -1.17241113],\n",
       "       [-0.06100169,  1.00159627],\n",
       "       [ 0.58489852, -1.32769738],\n",
       "       [-0.85043527,  1.50627656],\n",
       "       [-0.13276838, -1.91002079],\n",
       "       [-0.6351352 ,  1.07923939],\n",
       "       [-0.34806844, -1.91002079],\n",
       "       [-0.6351352 ,  0.88513158],\n",
       "       [ 1.23079873, -0.59008772],\n",
       "       [-0.70690189,  1.27334719],\n",
       "       [-1.42456879, -1.75473454],\n",
       "       [-0.56336851,  1.6615628 ],\n",
       "       [ 0.80019859, -0.93948177],\n",
       "       [-0.20453507,  0.96277471],\n",
       "       [ 0.22606507, -1.17241113],\n",
       "       [-0.41983513,  1.73920592],\n",
       "       [-0.20453507, -0.90066021],\n",
       "       [-0.49160182,  0.49691598],\n",
       "       [ 0.08253169, -1.44416206],\n",
       "       [-0.77866858,  0.96277471],\n",
       "       [-0.20453507, -1.56062674],\n",
       "       [-0.20453507,  1.62274124],\n",
       "       [ 0.94373197, -1.44416206],\n",
       "       [-0.6351352 ,  1.38981187],\n",
       "       [ 1.37433211, -1.36651894],\n",
       "       [-0.85043527,  0.72984534],\n",
       "       [ 1.4460988 , -1.4053405 ],\n",
       "       [-0.27630176,  1.54509812],\n",
       "       [-0.13276838, -0.7065524 ],\n",
       "       [-0.49160182,  1.38981187],\n",
       "       [ 0.51313183, -1.36651894],\n",
       "       [-0.70690189,  1.46745499],\n",
       "       [ 0.15429838, -0.43480148],\n",
       "       [-0.6351352 ,  1.81684904],\n",
       "       [ 1.08726535, -1.01712489],\n",
       "       [-0.77866858,  0.69102378],\n",
       "       [ 0.15429838, -1.28887582],\n",
       "       [-0.20453507,  1.35099031],\n",
       "       [-0.34806844, -1.05594645],\n",
       "       [-0.49160182,  0.72984534],\n",
       "       [-0.41983513, -1.63826986],\n",
       "       [-0.06100169,  1.58391968],\n",
       "       [ 0.58489852, -1.32769738],\n",
       "       [-0.27630176,  1.11806095],\n",
       "       [ 0.44136514, -0.86183865],\n",
       "       [-0.49160182,  0.92395314],\n",
       "       [-0.49160182, -1.25005425],\n",
       "       [-0.6351352 ,  1.27334719]])"
      ]
     },
     "execution_count": 38,
     "metadata": {},
     "output_type": "execute_result"
    }
   ],
   "source": [
    "segmentation2 = df_standard.values[:,[0,2]]\n",
    "segmentation2"
   ]
  },
  {
   "cell_type": "code",
   "execution_count": 39,
   "metadata": {},
   "outputs": [
    {
     "name": "stdout",
     "output_type": "stream",
     "text": [
      "Numbers of K:1, WCSS:399.99999999999994\n",
      "Numbers of K:2, WCSS:189.3874903399243\n",
      "Numbers of K:3, WCSS:124.32628617921529\n",
      "Numbers of K:4, WCSS:89.76521676586151\n",
      "Numbers of K:5, WCSS:71.24407583828105\n",
      "Numbers of K:6, WCSS:53.44767414723813\n",
      "Numbers of K:7, WCSS:45.91803244955263\n",
      "Numbers of K:8, WCSS:39.72507389961898\n",
      "Numbers of K:9, WCSS:33.93519961278706\n",
      "Numbers of K:10, WCSS:28.73628383293513\n",
      "Numbers of K:11, WCSS:25.467180756298454\n"
     ]
    }
   ],
   "source": [
    "# wcss = within cluster sum of square\n",
    "wcss_2 = []\n",
    "\n",
    "for i in range(1,12):\n",
    "    kmeans_2 = KMeans(n_clusters=i, init=\"k-means++\")\n",
    "    kmeans_2.fit(segmentation2)\n",
    "    wcss_2.append(kmeans_2.inertia_)\n",
    "    print(\"Numbers of K:{}, WCSS:{}\".format(i,kmeans_2.inertia_))\n",
    "   "
   ]
  },
  {
   "cell_type": "code",
   "execution_count": 40,
   "metadata": {
    "scrolled": false
   },
   "outputs": [
    {
     "data": {
      "text/plain": [
       "Text(0,0.5,'Within-Cluster Sum of Square (WCSS)')"
      ]
     },
     "execution_count": 40,
     "metadata": {},
     "output_type": "execute_result"
    },
    {
     "data": {
      "image/png": "[encoded data removed]",
      "text/plain": [
       "<Figure size 576x360 with 1 Axes>"
      ]
     },
     "metadata": {
      "needs_background": "light"
     },
     "output_type": "display_data"
    }
   ],
   "source": [
    "# Draw figure to see where the elbow point is \n",
    "plt.figure(figsize=(8,5))\n",
    "plt.plot(range(1,12),wcss_2,'o')\n",
    "plt.plot(range(1,12),wcss_2,alpha=0.7)\n",
    "plt.title(\"Elbow Method to find best K\")\n",
    "plt.xlabel(\"Number of Clusters (K)\")\n",
    "plt.xticks(range(1,12))\n",
    "plt.ylabel(\"Within-Cluster Sum of Square (WCSS)\")\n"
   ]
  },
  {
   "cell_type": "markdown",
   "metadata": {},
   "source": [
    "From above figure, we can see the elbow point appear at K = 4. As a result, we choose 4 to be our cluster number."
   ]
  },
  {
   "cell_type": "code",
   "execution_count": 51,
   "metadata": {},
   "outputs": [
    {
     "name": "stdout",
     "output_type": "stream",
     "text": [
      "[0 1 0 1 0 1 2 1 2 1 2 1 2 1 2 1 0 1 2 1 0 1 2 1 2 1 2 1 2 1 2 1 2 1 2 1 2\n",
      " 1 0 1 3 1 3 1 2 1 3 0 0 0 3 1 0 3 3 3 3 3 0 3 3 0 3 3 3 0 3 3 0 0 3 3 3 3\n",
      " 3 0 3 0 0 3 3 0 3 3 0 3 3 0 1 3 3 0 3 0 0 0 3 0 3 0 0 3 3 0 3 0 3 3 3 3 3\n",
      " 0 0 0 0 0 3 3 3 3 0 0 1 1 0 1 2 1 2 1 2 1 0 1 0 1 2 1 0 1 2 1 0 1 0 1 3 1\n",
      " 0 1 2 1 2 1 2 1 2 1 2 1 3 1 0 1 2 1 2 1 0 1 2 1 2 1 2 1 2 1 2 1 0 1 2 1 0\n",
      " 1 2 1 2 1 0 1 2 1 2 1 2 1 0 1]\n",
      "[[-0.8346466  -0.39442706]\n",
      " [-0.61415725  1.14971545]\n",
      " [ 0.62833625 -1.36651894]\n",
      " [ 1.22927178 -0.06558366]]\n"
     ]
    }
   ],
   "source": [
    "# Fit K-Means Clustering model, then find label and centroid of each clusters.\n",
    "kmeansmodel_2 = KMeans(n_clusters = 4, init=\"k-means++\")\n",
    "kmeansmodel_2.fit(segmentation2)\n",
    "label_2 = kmeansmodel_2.labels_\n",
    "centroid_2= kmeansmodel_2.cluster_centers_\n",
    "print(label_2)\n",
    "print(centroid_2)"
   ]
  },
  {
   "cell_type": "code",
   "execution_count": 52,
   "metadata": {},
   "outputs": [
    {
     "data": {
      "text/html": [
       "<div>\n",
       "<style scoped>\n",
       "    .dataframe tbody tr th:only-of-type {\n",
       "        vertical-align: middle;\n",
       "    }\n",
       "\n",
       "    .dataframe tbody tr th {\n",
       "        vertical-align: top;\n",
       "    }\n",
       "\n",
       "    .dataframe thead th {\n",
       "        text-align: right;\n",
       "    }\n",
       "</style>\n",
       "<table border=\"1\" class=\"dataframe\">\n",
       "  <thead>\n",
       "    <tr style=\"text-align: right;\">\n",
       "      <th></th>\n",
       "      <th>CustomerID</th>\n",
       "      <th>Gender</th>\n",
       "      <th>Age</th>\n",
       "      <th>Annual Income (k$)</th>\n",
       "      <th>Spending Score (1-100)</th>\n",
       "      <th>Age_standard</th>\n",
       "      <th>Spending Score_standard</th>\n",
       "      <th>Segmentation</th>\n",
       "      <th>Cluster</th>\n",
       "    </tr>\n",
       "  </thead>\n",
       "  <tbody>\n",
       "    <tr>\n",
       "      <td>0</td>\n",
       "      <td>1</td>\n",
       "      <td>Male</td>\n",
       "      <td>19</td>\n",
       "      <td>15</td>\n",
       "      <td>39</td>\n",
       "      <td>-1.424569</td>\n",
       "      <td>-0.434801</td>\n",
       "      <td>0</td>\n",
       "      <td>1</td>\n",
       "    </tr>\n",
       "    <tr>\n",
       "      <td>1</td>\n",
       "      <td>2</td>\n",
       "      <td>Male</td>\n",
       "      <td>21</td>\n",
       "      <td>15</td>\n",
       "      <td>81</td>\n",
       "      <td>-1.281035</td>\n",
       "      <td>1.195704</td>\n",
       "      <td>1</td>\n",
       "      <td>2</td>\n",
       "    </tr>\n",
       "    <tr>\n",
       "      <td>2</td>\n",
       "      <td>3</td>\n",
       "      <td>Female</td>\n",
       "      <td>20</td>\n",
       "      <td>16</td>\n",
       "      <td>6</td>\n",
       "      <td>-1.352802</td>\n",
       "      <td>-1.715913</td>\n",
       "      <td>0</td>\n",
       "      <td>1</td>\n",
       "    </tr>\n",
       "    <tr>\n",
       "      <td>3</td>\n",
       "      <td>4</td>\n",
       "      <td>Female</td>\n",
       "      <td>23</td>\n",
       "      <td>16</td>\n",
       "      <td>77</td>\n",
       "      <td>-1.137502</td>\n",
       "      <td>1.040418</td>\n",
       "      <td>1</td>\n",
       "      <td>2</td>\n",
       "    </tr>\n",
       "    <tr>\n",
       "      <td>4</td>\n",
       "      <td>5</td>\n",
       "      <td>Female</td>\n",
       "      <td>31</td>\n",
       "      <td>17</td>\n",
       "      <td>40</td>\n",
       "      <td>-0.563369</td>\n",
       "      <td>-0.395980</td>\n",
       "      <td>0</td>\n",
       "      <td>1</td>\n",
       "    </tr>\n",
       "    <tr>\n",
       "      <td>...</td>\n",
       "      <td>...</td>\n",
       "      <td>...</td>\n",
       "      <td>...</td>\n",
       "      <td>...</td>\n",
       "      <td>...</td>\n",
       "      <td>...</td>\n",
       "      <td>...</td>\n",
       "      <td>...</td>\n",
       "      <td>...</td>\n",
       "    </tr>\n",
       "    <tr>\n",
       "      <td>195</td>\n",
       "      <td>196</td>\n",
       "      <td>Female</td>\n",
       "      <td>35</td>\n",
       "      <td>120</td>\n",
       "      <td>79</td>\n",
       "      <td>-0.276302</td>\n",
       "      <td>1.118061</td>\n",
       "      <td>1</td>\n",
       "      <td>2</td>\n",
       "    </tr>\n",
       "    <tr>\n",
       "      <td>196</td>\n",
       "      <td>197</td>\n",
       "      <td>Female</td>\n",
       "      <td>45</td>\n",
       "      <td>126</td>\n",
       "      <td>28</td>\n",
       "      <td>0.441365</td>\n",
       "      <td>-0.861839</td>\n",
       "      <td>2</td>\n",
       "      <td>3</td>\n",
       "    </tr>\n",
       "    <tr>\n",
       "      <td>197</td>\n",
       "      <td>198</td>\n",
       "      <td>Male</td>\n",
       "      <td>32</td>\n",
       "      <td>126</td>\n",
       "      <td>74</td>\n",
       "      <td>-0.491602</td>\n",
       "      <td>0.923953</td>\n",
       "      <td>1</td>\n",
       "      <td>2</td>\n",
       "    </tr>\n",
       "    <tr>\n",
       "      <td>198</td>\n",
       "      <td>199</td>\n",
       "      <td>Male</td>\n",
       "      <td>32</td>\n",
       "      <td>137</td>\n",
       "      <td>18</td>\n",
       "      <td>-0.491602</td>\n",
       "      <td>-1.250054</td>\n",
       "      <td>0</td>\n",
       "      <td>1</td>\n",
       "    </tr>\n",
       "    <tr>\n",
       "      <td>199</td>\n",
       "      <td>200</td>\n",
       "      <td>Male</td>\n",
       "      <td>30</td>\n",
       "      <td>137</td>\n",
       "      <td>83</td>\n",
       "      <td>-0.635135</td>\n",
       "      <td>1.273347</td>\n",
       "      <td>1</td>\n",
       "      <td>2</td>\n",
       "    </tr>\n",
       "  </tbody>\n",
       "</table>\n",
       "<p>200 rows × 9 columns</p>\n",
       "</div>"
      ],
      "text/plain": [
       "     CustomerID  Gender  Age  Annual Income (k$)  Spending Score (1-100)  \\\n",
       "0             1    Male   19                  15                      39   \n",
       "1             2    Male   21                  15                      81   \n",
       "2             3  Female   20                  16                       6   \n",
       "3             4  Female   23                  16                      77   \n",
       "4             5  Female   31                  17                      40   \n",
       "..          ...     ...  ...                 ...                     ...   \n",
       "195         196  Female   35                 120                      79   \n",
       "196         197  Female   45                 126                      28   \n",
       "197         198    Male   32                 126                      74   \n",
       "198         199    Male   32                 137                      18   \n",
       "199         200    Male   30                 137                      83   \n",
       "\n",
       "     Age_standard  Spending Score_standard  Segmentation  Cluster  \n",
       "0       -1.424569                -0.434801             0        1  \n",
       "1       -1.281035                 1.195704             1        2  \n",
       "2       -1.352802                -1.715913             0        1  \n",
       "3       -1.137502                 1.040418             1        2  \n",
       "4       -0.563369                -0.395980             0        1  \n",
       "..            ...                      ...           ...      ...  \n",
       "195     -0.276302                 1.118061             1        2  \n",
       "196      0.441365                -0.861839             2        3  \n",
       "197     -0.491602                 0.923953             1        2  \n",
       "198     -0.491602                -1.250054             0        1  \n",
       "199     -0.635135                 1.273347             1        2  \n",
       "\n",
       "[200 rows x 9 columns]"
      ]
     },
     "execution_count": 52,
     "metadata": {},
     "output_type": "execute_result"
    }
   ],
   "source": [
    "# Generate a new table with cluster number\n",
    "df_segmentation2 = df.copy()\n",
    "df_segmentation2[\"Age_standard\"] = df_standard[\"Age\"]\n",
    "df_segmentation2[\"Spending Score_standard\"] = df_standard[\"Spending Score\"]\n",
    "df_segmentation2[\"Segmentation\"] = label_2\n",
    "df_segmentation2[\"Cluster\"] = label_2+1\n",
    "df_segmentation2"
   ]
  },
  {
   "cell_type": "code",
   "execution_count": 53,
   "metadata": {
    "scrolled": false
   },
   "outputs": [
    {
     "data": {
      "text/plain": [
       "<matplotlib.legend.Legend at 0x1a23e4ba10>"
      ]
     },
     "execution_count": 53,
     "metadata": {},
     "output_type": "execute_result"
    },
    {
     "data": {
      "image/png": "[encoded data removed]",
      "text/plain": [
       "<Figure size 576x360 with 1 Axes>"
      ]
     },
     "metadata": {
      "needs_background": "light"
     },
     "output_type": "display_data"
    }
   ],
   "source": [
    "# Visualize the clusters\n",
    "plt.figure(figsize=(8,5))\n",
    "plt.scatter(segmentation2[label_2==0,0],segmentation2[label_2==0,1],s=80, c=\"red\", label=\"Cluster1\")\n",
    "plt.scatter(segmentation2[label_2==1,0],segmentation2[label_2==1,1],s=80, c=\"blue\", label=\"Cluster2\")\n",
    "plt.scatter(segmentation2[label_2==2,0],segmentation2[label_2==2,1],s=80, c=\"yellow\", label=\"Cluster3\")\n",
    "plt.scatter(segmentation2[label_2==3,0],segmentation2[label_2==3,1],s=80, c=\"green\", label=\"Cluster4\")\n",
    "plt.scatter(centroid_2[:,0],centroid_2[:,1],s=100, c=\"red\",alpha=0.5)\n",
    "\n",
    "plt.title(\"Customer Segementaion by Age and Spending Score\")\n",
    "plt.xlabel(\"Age\")\n",
    "plt.ylabel(\"Spending Score\")\n",
    "plt.legend()"
   ]
  },
  {
   "cell_type": "markdown",
   "metadata": {},
   "source": [
    "<a id='s2summary'></a>\n",
    "**Brief summary**\n",
    "\n",
    "In segementaion2\n",
    ", we use Age and Spending Score to segment our data into 4 clusters. Each clusters is described below:\n",
    "\n",
    "1. Cluster1: Low to medium Age with low to medium Spending Score\n",
    "2. Cluster2: Low to medium Age with high Spending Score\n",
    "3. Cluster3: Medium to old Age with low Spending Score\n",
    "4. Cluster4: Medium to old Age with medium Spending Score\n",
    "\n",
    "\n",
    "**Some Insights**\n",
    "1. Cluster1 and Clust4 are our potential customers since they are have medium spending socre. For these two groups, we colud have more investigation to have deeper understanding of their demand, and adjust our products and marketing startegy to enhance their engagement.\n",
    "2. Cluster2 is our primary customer. They are between young and middle-aged, so that we could launch fasion types of products to cater their appetite.\n",
    "3. Cluster3 not seems to be our target customers. Maybe we colud develop new types of products which suitable for elder, then cluster3 customers might have high willing to buy it.\n",
    "\n"
   ]
  },
  {
   "cell_type": "markdown",
   "metadata": {},
   "source": [
    "<a id='Segmentation3'></a>\n",
    "## Segmentation3_Age_AnualIncome_SpendingScore\n",
    "\n",
    "\n",
    "Use Age, Annual income and Spending Score as features."
   ]
  },
  {
   "cell_type": "code",
   "execution_count": 44,
   "metadata": {},
   "outputs": [
    {
     "data": {
      "text/plain": [
       "array([[-1.42456879, -1.73899919, -0.43480148],\n",
       "       [-1.28103541, -1.73899919,  1.19570407],\n",
       "       [-1.3528021 , -1.70082976, -1.71591298],\n",
       "       [-1.13750203, -1.70082976,  1.04041783],\n",
       "       [-0.56336851, -1.66266033, -0.39597992],\n",
       "       [-1.20926872, -1.66266033,  1.00159627],\n",
       "       [-0.27630176, -1.62449091, -1.71591298],\n",
       "       [-1.13750203, -1.62449091,  1.70038436],\n",
       "       [ 1.80493225, -1.58632148, -1.83237767],\n",
       "       [-0.6351352 , -1.58632148,  0.84631002],\n",
       "       [ 2.02023231, -1.58632148, -1.4053405 ],\n",
       "       [-0.27630176, -1.58632148,  1.89449216],\n",
       "       [ 1.37433211, -1.54815205, -1.36651894],\n",
       "       [-1.06573534, -1.54815205,  1.04041783],\n",
       "       [-0.13276838, -1.54815205, -1.44416206],\n",
       "       [-1.20926872, -1.54815205,  1.11806095],\n",
       "       [-0.27630176, -1.50998262, -0.59008772],\n",
       "       [-1.3528021 , -1.50998262,  0.61338066],\n",
       "       [ 0.94373197, -1.43364376, -0.82301709],\n",
       "       [-0.27630176, -1.43364376,  1.8556706 ],\n",
       "       [-0.27630176, -1.39547433, -0.59008772],\n",
       "       [-0.99396865, -1.39547433,  0.88513158],\n",
       "       [ 0.51313183, -1.3573049 , -1.75473454],\n",
       "       [-0.56336851, -1.3573049 ,  0.88513158],\n",
       "       [ 1.08726535, -1.24279661, -1.4053405 ],\n",
       "       [-0.70690189, -1.24279661,  1.23452563],\n",
       "       [ 0.44136514, -1.24279661, -0.7065524 ],\n",
       "       [-0.27630176, -1.24279661,  0.41927286],\n",
       "       [ 0.08253169, -1.20462718, -0.74537397],\n",
       "       [-1.13750203, -1.20462718,  1.42863343],\n",
       "       [ 1.51786549, -1.16645776, -1.7935561 ],\n",
       "       [-1.28103541, -1.16645776,  0.88513158],\n",
       "       [ 1.01549866, -1.05194947, -1.7935561 ],\n",
       "       [-1.49633548, -1.05194947,  1.62274124],\n",
       "       [ 0.7284319 , -1.05194947, -1.4053405 ],\n",
       "       [-1.28103541, -1.05194947,  1.19570407],\n",
       "       [ 0.22606507, -1.01378004, -1.28887582],\n",
       "       [-0.6351352 , -1.01378004,  0.88513158],\n",
       "       [-0.20453507, -0.89927175, -0.93948177],\n",
       "       [-1.3528021 , -0.89927175,  0.96277471],\n",
       "       [ 1.87669894, -0.86110232, -0.59008772],\n",
       "       [-1.06573534, -0.86110232,  1.62274124],\n",
       "       [ 0.65666521, -0.82293289, -0.55126616],\n",
       "       [-0.56336851, -0.82293289,  0.41927286],\n",
       "       [ 0.7284319 , -0.82293289, -0.86183865],\n",
       "       [-1.06573534, -0.82293289,  0.5745591 ],\n",
       "       [ 0.80019859, -0.78476346,  0.18634349],\n",
       "       [-0.85043527, -0.78476346, -0.12422899],\n",
       "       [-0.70690189, -0.78476346, -0.3183368 ],\n",
       "       [-0.56336851, -0.78476346, -0.3183368 ],\n",
       "       [ 0.7284319 , -0.70842461,  0.06987881],\n",
       "       [-0.41983513, -0.70842461,  0.38045129],\n",
       "       [-0.56336851, -0.67025518,  0.14752193],\n",
       "       [ 1.4460988 , -0.67025518,  0.38045129],\n",
       "       [ 0.80019859, -0.67025518, -0.20187212],\n",
       "       [ 0.58489852, -0.67025518, -0.35715836],\n",
       "       [ 0.87196528, -0.63208575, -0.00776431],\n",
       "       [ 2.16376569, -0.63208575, -0.16305055],\n",
       "       [-0.85043527, -0.55574689,  0.03105725],\n",
       "       [ 1.01549866, -0.55574689, -0.16305055],\n",
       "       [ 2.23553238, -0.55574689,  0.22516505],\n",
       "       [-1.42456879, -0.55574689,  0.18634349],\n",
       "       [ 2.02023231, -0.51757746,  0.06987881],\n",
       "       [ 1.08726535, -0.51757746,  0.34162973],\n",
       "       [ 1.73316556, -0.47940803,  0.03105725],\n",
       "       [-1.49633548, -0.47940803,  0.34162973],\n",
       "       [ 0.29783176, -0.47940803, -0.00776431],\n",
       "       [ 2.091999  , -0.47940803, -0.08540743],\n",
       "       [-1.42456879, -0.47940803,  0.34162973],\n",
       "       [-0.49160182, -0.47940803, -0.12422899],\n",
       "       [ 2.23553238, -0.4412386 ,  0.18634349],\n",
       "       [ 0.58489852, -0.4412386 , -0.3183368 ],\n",
       "       [ 1.51786549, -0.40306917, -0.04658587],\n",
       "       [ 1.51786549, -0.40306917,  0.22516505],\n",
       "       [ 1.4460988 , -0.25039146, -0.12422899],\n",
       "       [-0.92220196, -0.25039146,  0.14752193],\n",
       "       [ 0.44136514, -0.25039146,  0.10870037],\n",
       "       [ 0.08253169, -0.25039146, -0.08540743],\n",
       "       [-1.13750203, -0.25039146,  0.06987881],\n",
       "       [ 0.7284319 , -0.25039146, -0.3183368 ],\n",
       "       [ 1.30256542, -0.25039146,  0.03105725],\n",
       "       [-0.06100169, -0.25039146,  0.18634349],\n",
       "       [ 2.02023231, -0.25039146, -0.35715836],\n",
       "       [ 0.51313183, -0.25039146, -0.24069368],\n",
       "       [-1.28103541, -0.25039146,  0.26398661],\n",
       "       [ 0.65666521, -0.25039146, -0.16305055],\n",
       "       [ 1.15903204, -0.13588317,  0.30280817],\n",
       "       [-1.20926872, -0.13588317,  0.18634349],\n",
       "       [-0.34806844, -0.09771374,  0.38045129],\n",
       "       [ 0.80019859, -0.09771374, -0.16305055],\n",
       "       [ 2.091999  , -0.05954431,  0.18634349],\n",
       "       [-1.49633548, -0.05954431, -0.35715836],\n",
       "       [ 0.65666521, -0.02137488, -0.04658587],\n",
       "       [ 0.08253169, -0.02137488, -0.39597992],\n",
       "       [-0.49160182, -0.02137488, -0.3183368 ],\n",
       "       [-1.06573534, -0.02137488,  0.06987881],\n",
       "       [ 0.58489852, -0.02137488, -0.12422899],\n",
       "       [-0.85043527, -0.02137488, -0.00776431],\n",
       "       [ 0.65666521,  0.01679455, -0.3183368 ],\n",
       "       [-1.3528021 ,  0.01679455, -0.04658587],\n",
       "       [-1.13750203,  0.05496398, -0.35715836],\n",
       "       [ 0.7284319 ,  0.05496398, -0.08540743],\n",
       "       [ 2.02023231,  0.05496398,  0.34162973],\n",
       "       [-0.92220196,  0.05496398,  0.18634349],\n",
       "       [ 0.7284319 ,  0.05496398,  0.22516505],\n",
       "       [-1.28103541,  0.05496398, -0.3183368 ],\n",
       "       [ 1.94846562,  0.09313341, -0.00776431],\n",
       "       [ 1.08726535,  0.09313341, -0.16305055],\n",
       "       [ 2.091999  ,  0.09313341, -0.27951524],\n",
       "       [ 1.94846562,  0.09313341, -0.08540743],\n",
       "       [ 1.87669894,  0.09313341,  0.06987881],\n",
       "       [-1.42456879,  0.09313341,  0.14752193],\n",
       "       [-0.06100169,  0.13130284, -0.3183368 ],\n",
       "       [-1.42456879,  0.13130284, -0.16305055],\n",
       "       [-1.49633548,  0.16947227, -0.08540743],\n",
       "       [-1.42456879,  0.16947227, -0.00776431],\n",
       "       [ 1.73316556,  0.16947227, -0.27951524],\n",
       "       [ 0.7284319 ,  0.16947227,  0.34162973],\n",
       "       [ 0.87196528,  0.24581112, -0.27951524],\n",
       "       [ 0.80019859,  0.24581112,  0.26398661],\n",
       "       [-0.85043527,  0.24581112,  0.22516505],\n",
       "       [-0.06100169,  0.24581112, -0.39597992],\n",
       "       [ 0.08253169,  0.32214998,  0.30280817],\n",
       "       [ 0.010765  ,  0.32214998,  1.58391968],\n",
       "       [-1.13750203,  0.36031941, -0.82301709],\n",
       "       [-0.56336851,  0.36031941,  1.04041783],\n",
       "       [ 0.29783176,  0.39848884, -0.59008772],\n",
       "       [ 0.08253169,  0.39848884,  1.73920592],\n",
       "       [ 1.4460988 ,  0.39848884, -1.52180518],\n",
       "       [-0.06100169,  0.39848884,  0.96277471],\n",
       "       [ 0.58489852,  0.39848884, -1.5994483 ],\n",
       "       [ 0.010765  ,  0.39848884,  0.96277471],\n",
       "       [-0.99396865,  0.43665827, -0.62890928],\n",
       "       [-0.56336851,  0.43665827,  0.80748846],\n",
       "       [-1.3528021 ,  0.4748277 , -1.75473454],\n",
       "       [-0.70690189,  0.4748277 ,  1.46745499],\n",
       "       [ 0.36959845,  0.4748277 , -1.67709142],\n",
       "       [-0.49160182,  0.4748277 ,  0.88513158],\n",
       "       [-1.42456879,  0.51299713, -1.56062674],\n",
       "       [-0.27630176,  0.51299713,  0.84631002],\n",
       "       [ 1.30256542,  0.55116656, -1.75473454],\n",
       "       [-0.49160182,  0.55116656,  1.6615628 ],\n",
       "       [-0.77866858,  0.58933599, -0.39597992],\n",
       "       [-0.49160182,  0.58933599,  1.42863343],\n",
       "       [-0.99396865,  0.62750542, -1.48298362],\n",
       "       [-0.77866858,  0.62750542,  1.81684904],\n",
       "       [ 0.65666521,  0.62750542, -0.55126616],\n",
       "       [-0.49160182,  0.62750542,  0.92395314],\n",
       "       [-0.34806844,  0.66567484, -1.09476801],\n",
       "       [-0.34806844,  0.66567484,  1.54509812],\n",
       "       [ 0.29783176,  0.66567484, -1.28887582],\n",
       "       [ 0.010765  ,  0.66567484,  1.46745499],\n",
       "       [ 0.36959845,  0.66567484, -1.17241113],\n",
       "       [-0.06100169,  0.66567484,  1.00159627],\n",
       "       [ 0.58489852,  0.66567484, -1.32769738],\n",
       "       [-0.85043527,  0.66567484,  1.50627656],\n",
       "       [-0.13276838,  0.66567484, -1.91002079],\n",
       "       [-0.6351352 ,  0.66567484,  1.07923939],\n",
       "       [-0.34806844,  0.66567484, -1.91002079],\n",
       "       [-0.6351352 ,  0.66567484,  0.88513158],\n",
       "       [ 1.23079873,  0.70384427, -0.59008772],\n",
       "       [-0.70690189,  0.70384427,  1.27334719],\n",
       "       [-1.42456879,  0.78018313, -1.75473454],\n",
       "       [-0.56336851,  0.78018313,  1.6615628 ],\n",
       "       [ 0.80019859,  0.93286085, -0.93948177],\n",
       "       [-0.20453507,  0.93286085,  0.96277471],\n",
       "       [ 0.22606507,  0.97103028, -1.17241113],\n",
       "       [-0.41983513,  0.97103028,  1.73920592],\n",
       "       [-0.20453507,  1.00919971, -0.90066021],\n",
       "       [-0.49160182,  1.00919971,  0.49691598],\n",
       "       [ 0.08253169,  1.00919971, -1.44416206],\n",
       "       [-0.77866858,  1.00919971,  0.96277471],\n",
       "       [-0.20453507,  1.00919971, -1.56062674],\n",
       "       [-0.20453507,  1.00919971,  1.62274124],\n",
       "       [ 0.94373197,  1.04736914, -1.44416206],\n",
       "       [-0.6351352 ,  1.04736914,  1.38981187],\n",
       "       [ 1.37433211,  1.04736914, -1.36651894],\n",
       "       [-0.85043527,  1.04736914,  0.72984534],\n",
       "       [ 1.4460988 ,  1.23821628, -1.4053405 ],\n",
       "       [-0.27630176,  1.23821628,  1.54509812],\n",
       "       [-0.13276838,  1.390894  , -0.7065524 ],\n",
       "       [-0.49160182,  1.390894  ,  1.38981187],\n",
       "       [ 0.51313183,  1.42906343, -1.36651894],\n",
       "       [-0.70690189,  1.42906343,  1.46745499],\n",
       "       [ 0.15429838,  1.46723286, -0.43480148],\n",
       "       [-0.6351352 ,  1.46723286,  1.81684904],\n",
       "       [ 1.08726535,  1.54357172, -1.01712489],\n",
       "       [-0.77866858,  1.54357172,  0.69102378],\n",
       "       [ 0.15429838,  1.61991057, -1.28887582],\n",
       "       [-0.20453507,  1.61991057,  1.35099031],\n",
       "       [-0.34806844,  1.61991057, -1.05594645],\n",
       "       [-0.49160182,  1.61991057,  0.72984534],\n",
       "       [-0.41983513,  2.00160487, -1.63826986],\n",
       "       [-0.06100169,  2.00160487,  1.58391968],\n",
       "       [ 0.58489852,  2.26879087, -1.32769738],\n",
       "       [-0.27630176,  2.26879087,  1.11806095],\n",
       "       [ 0.44136514,  2.49780745, -0.86183865],\n",
       "       [-0.49160182,  2.49780745,  0.92395314],\n",
       "       [-0.49160182,  2.91767117, -1.25005425],\n",
       "       [-0.6351352 ,  2.91767117,  1.27334719]])"
      ]
     },
     "execution_count": 44,
     "metadata": {},
     "output_type": "execute_result"
    }
   ],
   "source": [
    "segmentation3 = df_standard.values[:]\n",
    "segmentation3"
   ]
  },
  {
   "cell_type": "code",
   "execution_count": 45,
   "metadata": {},
   "outputs": [
    {
     "name": "stdout",
     "output_type": "stream",
     "text": [
      "Numbers of K:1, WCSS:600.0\n",
      "Numbers of K:2, WCSS:389.3861889564372\n",
      "Numbers of K:3, WCSS:295.26029648861174\n",
      "Numbers of K:4, WCSS:205.22514747675916\n",
      "Numbers of K:5, WCSS:168.24758017556837\n",
      "Numbers of K:6, WCSS:133.86833362685584\n",
      "Numbers of K:7, WCSS:117.08803464058246\n",
      "Numbers of K:8, WCSS:103.79880784051781\n",
      "Numbers of K:9, WCSS:92.30673264713685\n",
      "Numbers of K:10, WCSS:81.85367864975905\n",
      "Numbers of K:11, WCSS:73.5513327445625\n"
     ]
    }
   ],
   "source": [
    "# wcss = within cluster sum of square\n",
    "wcss_3 = []\n",
    "\n",
    "for i in range(1,12):\n",
    "    kmeans_3 = KMeans(n_clusters=i, init=\"k-means++\")\n",
    "    kmeans_3.fit(segmentation3)\n",
    "    wcss_3.append(kmeans_3.inertia_)\n",
    "    print(\"Numbers of K:{}, WCSS:{}\".format(i,kmeans_3.inertia_))\n",
    "   "
   ]
  },
  {
   "cell_type": "code",
   "execution_count": 46,
   "metadata": {},
   "outputs": [
    {
     "data": {
      "text/plain": [
       "Text(0,0.5,'Within-Cluster Sum of Square (WCSS)')"
      ]
     },
     "execution_count": 46,
     "metadata": {},
     "output_type": "execute_result"
    },
    {
     "data": {
      "image/png": "[encoded data removed]",
      "text/plain": [
       "<Figure size 576x360 with 1 Axes>"
      ]
     },
     "metadata": {
      "needs_background": "light"
     },
     "output_type": "display_data"
    }
   ],
   "source": [
    "# Draw figure to see where the elbow point is \n",
    "plt.figure(figsize=(8,5))\n",
    "plt.plot(range(1,12),wcss_3,'o')\n",
    "plt.plot(range(1,12),wcss_3,alpha=0.7)\n",
    "plt.title(\"Elbow Method to find best K\")\n",
    "plt.xlabel(\"Number of Clusters (K)\")\n",
    "plt.xticks(range(1,12))\n",
    "plt.ylabel(\"Within-Cluster Sum of Square (WCSS)\")\n"
   ]
  },
  {
   "cell_type": "markdown",
   "metadata": {},
   "source": [
    "From above figure, we can see the elbow point appear at K = 6. As a result, we choose 6 to be our cluster number."
   ]
  },
  {
   "cell_type": "code",
   "execution_count": 80,
   "metadata": {},
   "outputs": [
    {
     "name": "stdout",
     "output_type": "stream",
     "text": [
      "[5 5 3 5 3 5 3 5 3 5 3 5 3 5 3 5 3 5 3 5 3 5 3 5 3 5 3 5 3 5 3 5 3 5 3 5 3\n",
      " 5 3 5 4 5 3 0 3 5 4 0 0 0 4 0 0 4 4 4 4 4 0 4 4 0 4 4 4 0 4 4 0 0 4 4 4 4\n",
      " 4 0 4 0 0 4 4 0 4 4 0 4 4 0 0 4 4 0 4 0 0 0 4 0 4 0 0 4 4 0 4 0 4 4 4 4 4\n",
      " 0 0 0 0 0 4 4 4 4 0 0 0 2 0 2 1 2 1 2 1 2 0 2 1 2 1 2 1 2 1 2 0 2 1 2 1 2\n",
      " 1 2 1 2 1 2 1 2 1 2 1 2 4 2 1 2 1 2 1 2 1 2 1 2 1 2 1 2 1 2 1 2 1 2 1 2 1\n",
      " 2 1 2 1 2 1 2 1 2 1 2 1 2 1 2]\n",
      "[[-0.85043527 -0.14894113 -0.04147777]\n",
      " [ 0.17329545  1.06645385 -1.2980103 ]\n",
      " [-0.44191719  0.99158305  1.23950275]\n",
      " [ 0.47895722 -1.30822992 -1.19644353]\n",
      " [ 1.25472096 -0.24021294 -0.04399777]\n",
      " [-0.99396865 -1.34734766  1.06404834]]\n"
     ]
    }
   ],
   "source": [
    "# Fit K-Means Clustering model, then find label and centroid of each clusters.\n",
    "kmeansmodel_3 = KMeans(n_clusters = 6, init=\"k-means++\")\n",
    "kmeansmodel_3.fit(segmentation3)\n",
    "label_3 = kmeansmodel_3.labels_\n",
    "centroid_3= kmeansmodel_3.cluster_centers_\n",
    "print(label_3)\n",
    "print(centroid_3)"
   ]
  },
  {
   "cell_type": "code",
   "execution_count": 81,
   "metadata": {},
   "outputs": [
    {
     "data": {
      "text/html": [
       "<div>\n",
       "<style scoped>\n",
       "    .dataframe tbody tr th:only-of-type {\n",
       "        vertical-align: middle;\n",
       "    }\n",
       "\n",
       "    .dataframe tbody tr th {\n",
       "        vertical-align: top;\n",
       "    }\n",
       "\n",
       "    .dataframe thead th {\n",
       "        text-align: right;\n",
       "    }\n",
       "</style>\n",
       "<table border=\"1\" class=\"dataframe\">\n",
       "  <thead>\n",
       "    <tr style=\"text-align: right;\">\n",
       "      <th></th>\n",
       "      <th>CustomerID</th>\n",
       "      <th>Gender</th>\n",
       "      <th>Age</th>\n",
       "      <th>Annual Income (k$)</th>\n",
       "      <th>Spending Score (1-100)</th>\n",
       "      <th>Age_standard</th>\n",
       "      <th>Annual Income_standard</th>\n",
       "      <th>Spending Score_standard</th>\n",
       "      <th>Segmentation</th>\n",
       "      <th>Cluster</th>\n",
       "    </tr>\n",
       "  </thead>\n",
       "  <tbody>\n",
       "    <tr>\n",
       "      <td>0</td>\n",
       "      <td>1</td>\n",
       "      <td>Male</td>\n",
       "      <td>19</td>\n",
       "      <td>15</td>\n",
       "      <td>39</td>\n",
       "      <td>-1.424569</td>\n",
       "      <td>-1.738999</td>\n",
       "      <td>-0.434801</td>\n",
       "      <td>5</td>\n",
       "      <td>6</td>\n",
       "    </tr>\n",
       "    <tr>\n",
       "      <td>1</td>\n",
       "      <td>2</td>\n",
       "      <td>Male</td>\n",
       "      <td>21</td>\n",
       "      <td>15</td>\n",
       "      <td>81</td>\n",
       "      <td>-1.281035</td>\n",
       "      <td>-1.738999</td>\n",
       "      <td>1.195704</td>\n",
       "      <td>5</td>\n",
       "      <td>6</td>\n",
       "    </tr>\n",
       "    <tr>\n",
       "      <td>2</td>\n",
       "      <td>3</td>\n",
       "      <td>Female</td>\n",
       "      <td>20</td>\n",
       "      <td>16</td>\n",
       "      <td>6</td>\n",
       "      <td>-1.352802</td>\n",
       "      <td>-1.700830</td>\n",
       "      <td>-1.715913</td>\n",
       "      <td>3</td>\n",
       "      <td>4</td>\n",
       "    </tr>\n",
       "    <tr>\n",
       "      <td>3</td>\n",
       "      <td>4</td>\n",
       "      <td>Female</td>\n",
       "      <td>23</td>\n",
       "      <td>16</td>\n",
       "      <td>77</td>\n",
       "      <td>-1.137502</td>\n",
       "      <td>-1.700830</td>\n",
       "      <td>1.040418</td>\n",
       "      <td>5</td>\n",
       "      <td>6</td>\n",
       "    </tr>\n",
       "    <tr>\n",
       "      <td>4</td>\n",
       "      <td>5</td>\n",
       "      <td>Female</td>\n",
       "      <td>31</td>\n",
       "      <td>17</td>\n",
       "      <td>40</td>\n",
       "      <td>-0.563369</td>\n",
       "      <td>-1.662660</td>\n",
       "      <td>-0.395980</td>\n",
       "      <td>3</td>\n",
       "      <td>4</td>\n",
       "    </tr>\n",
       "    <tr>\n",
       "      <td>...</td>\n",
       "      <td>...</td>\n",
       "      <td>...</td>\n",
       "      <td>...</td>\n",
       "      <td>...</td>\n",
       "      <td>...</td>\n",
       "      <td>...</td>\n",
       "      <td>...</td>\n",
       "      <td>...</td>\n",
       "      <td>...</td>\n",
       "      <td>...</td>\n",
       "    </tr>\n",
       "    <tr>\n",
       "      <td>195</td>\n",
       "      <td>196</td>\n",
       "      <td>Female</td>\n",
       "      <td>35</td>\n",
       "      <td>120</td>\n",
       "      <td>79</td>\n",
       "      <td>-0.276302</td>\n",
       "      <td>2.268791</td>\n",
       "      <td>1.118061</td>\n",
       "      <td>2</td>\n",
       "      <td>3</td>\n",
       "    </tr>\n",
       "    <tr>\n",
       "      <td>196</td>\n",
       "      <td>197</td>\n",
       "      <td>Female</td>\n",
       "      <td>45</td>\n",
       "      <td>126</td>\n",
       "      <td>28</td>\n",
       "      <td>0.441365</td>\n",
       "      <td>2.497807</td>\n",
       "      <td>-0.861839</td>\n",
       "      <td>1</td>\n",
       "      <td>2</td>\n",
       "    </tr>\n",
       "    <tr>\n",
       "      <td>197</td>\n",
       "      <td>198</td>\n",
       "      <td>Male</td>\n",
       "      <td>32</td>\n",
       "      <td>126</td>\n",
       "      <td>74</td>\n",
       "      <td>-0.491602</td>\n",
       "      <td>2.497807</td>\n",
       "      <td>0.923953</td>\n",
       "      <td>2</td>\n",
       "      <td>3</td>\n",
       "    </tr>\n",
       "    <tr>\n",
       "      <td>198</td>\n",
       "      <td>199</td>\n",
       "      <td>Male</td>\n",
       "      <td>32</td>\n",
       "      <td>137</td>\n",
       "      <td>18</td>\n",
       "      <td>-0.491602</td>\n",
       "      <td>2.917671</td>\n",
       "      <td>-1.250054</td>\n",
       "      <td>1</td>\n",
       "      <td>2</td>\n",
       "    </tr>\n",
       "    <tr>\n",
       "      <td>199</td>\n",
       "      <td>200</td>\n",
       "      <td>Male</td>\n",
       "      <td>30</td>\n",
       "      <td>137</td>\n",
       "      <td>83</td>\n",
       "      <td>-0.635135</td>\n",
       "      <td>2.917671</td>\n",
       "      <td>1.273347</td>\n",
       "      <td>2</td>\n",
       "      <td>3</td>\n",
       "    </tr>\n",
       "  </tbody>\n",
       "</table>\n",
       "<p>200 rows × 10 columns</p>\n",
       "</div>"
      ],
      "text/plain": [
       "     CustomerID  Gender  Age  Annual Income (k$)  Spending Score (1-100)  \\\n",
       "0             1    Male   19                  15                      39   \n",
       "1             2    Male   21                  15                      81   \n",
       "2             3  Female   20                  16                       6   \n",
       "3             4  Female   23                  16                      77   \n",
       "4             5  Female   31                  17                      40   \n",
       "..          ...     ...  ...                 ...                     ...   \n",
       "195         196  Female   35                 120                      79   \n",
       "196         197  Female   45                 126                      28   \n",
       "197         198    Male   32                 126                      74   \n",
       "198         199    Male   32                 137                      18   \n",
       "199         200    Male   30                 137                      83   \n",
       "\n",
       "     Age_standard  Annual Income_standard  Spending Score_standard  \\\n",
       "0       -1.424569               -1.738999                -0.434801   \n",
       "1       -1.281035               -1.738999                 1.195704   \n",
       "2       -1.352802               -1.700830                -1.715913   \n",
       "3       -1.137502               -1.700830                 1.040418   \n",
       "4       -0.563369               -1.662660                -0.395980   \n",
       "..            ...                     ...                      ...   \n",
       "195     -0.276302                2.268791                 1.118061   \n",
       "196      0.441365                2.497807                -0.861839   \n",
       "197     -0.491602                2.497807                 0.923953   \n",
       "198     -0.491602                2.917671                -1.250054   \n",
       "199     -0.635135                2.917671                 1.273347   \n",
       "\n",
       "     Segmentation  Cluster  \n",
       "0               5        6  \n",
       "1               5        6  \n",
       "2               3        4  \n",
       "3               5        6  \n",
       "4               3        4  \n",
       "..            ...      ...  \n",
       "195             2        3  \n",
       "196             1        2  \n",
       "197             2        3  \n",
       "198             1        2  \n",
       "199             2        3  \n",
       "\n",
       "[200 rows x 10 columns]"
      ]
     },
     "execution_count": 81,
     "metadata": {},
     "output_type": "execute_result"
    }
   ],
   "source": [
    "# Generate a new table with cluster number\n",
    "df_segmentation3 = df.copy()\n",
    "df_segmentation3[\"Age_standard\"] = df_standard[\"Age\"]\n",
    "df_segmentation3[\"Annual Income_standard\"] = df_standard[\"Annual Income\"]\n",
    "df_segmentation3[\"Spending Score_standard\"] = df_standard[\"Spending Score\"]\n",
    "df_segmentation3[\"Segmentation\"] = label_3\n",
    "df_segmentation3[\"Cluster\"] = label_3+1\n",
    "df_segmentation3"
   ]
  },
  {
   "cell_type": "code",
   "execution_count": 82,
   "metadata": {
    "scrolled": false
   },
   "outputs": [
    {
     "data": {
      "application/vnd.plotly.v1+json": {
       "config": {
        "linkText": "Export to plot.ly",
        "plotlyServerURL": "https://plot.ly",
        "showLink": false
       },
       "data": [
        {
         "marker": {
          "color": [
           5,
           5,
           3,
           5,
           3,
           5,
           3,
           5,
           3,
           5,
           3,
           5,
           3,
           5,
           3,
           5,
           3,
           5,
           3,
           5,
           3,
           5,
           3,
           5,
           3,
           5,
           3,
           5,
           3,
           5,
           3,
           5,
           3,
           5,
           3,
           5,
           3,
           5,
           3,
           5,
           4,
           5,
           3,
           0,
           3,
           5,
           4,
           0,
           0,
           0,
           4,
           0,
           0,
           4,
           4,
           4,
           4,
           4,
           0,
           4,
           4,
           0,
           4,
           4,
           4,
           0,
           4,
           4,
           0,
           0,
           4,
           4,
           4,
           4,
           4,
           0,
           4,
           0,
           0,
           4,
           4,
           0,
           4,
           4,
           0,
           4,
           4,
           0,
           0,
           4,
           4,
           0,
           4,
           0,
           0,
           0,
           4,
           0,
           4,
           0,
           0,
           4,
           4,
           0,
           4,
           0,
           4,
           4,
           4,
           4,
           4,
           0,
           0,
           0,
           0,
           0,
           4,
           4,
           4,
           4,
           0,
           0,
           0,
           2,
           0,
           2,
           1,
           2,
           1,
           2,
           1,
           2,
           0,
           2,
           1,
           2,
           1,
           2,
           1,
           2,
           1,
           2,
           0,
           2,
           1,
           2,
           1,
           2,
           1,
           2,
           1,
           2,
           1,
           2,
           1,
           2,
           1,
           2,
           1,
           2,
           4,
           2,
           1,
           2,
           1,
           2,
           1,
           2,
           1,
           2,
           1,
           2,
           1,
           2,
           1,
           2,
           1,
           2,
           1,
           2,
           1,
           2,
           1,
           2,
           1,
           2,
           1,
           2,
           1,
           2,
           1,
           2,
           1,
           2,
           1,
           2,
           1,
           2,
           1,
           2
          ],
          "line": {
           "color": [
            5,
            5,
            3,
            5,
            3,
            5,
            3,
            5,
            3,
            5,
            3,
            5,
            3,
            5,
            3,
            5,
            3,
            5,
            3,
            5,
            3,
            5,
            3,
            5,
            3,
            5,
            3,
            5,
            3,
            5,
            3,
            5,
            3,
            5,
            3,
            5,
            3,
            5,
            3,
            5,
            4,
            5,
            3,
            0,
            3,
            5,
            4,
            0,
            0,
            0,
            4,
            0,
            0,
            4,
            4,
            4,
            4,
            4,
            0,
            4,
            4,
            0,
            4,
            4,
            4,
            0,
            4,
            4,
            0,
            0,
            4,
            4,
            4,
            4,
            4,
            0,
            4,
            0,
            0,
            4,
            4,
            0,
            4,
            4,
            0,
            4,
            4,
            0,
            0,
            4,
            4,
            0,
            4,
            0,
            0,
            0,
            4,
            0,
            4,
            0,
            0,
            4,
            4,
            0,
            4,
            0,
            4,
            4,
            4,
            4,
            4,
            0,
            0,
            0,
            0,
            0,
            4,
            4,
            4,
            4,
            0,
            0,
            0,
            2,
            0,
            2,
            1,
            2,
            1,
            2,
            1,
            2,
            0,
            2,
            1,
            2,
            1,
            2,
            1,
            2,
            1,
            2,
            0,
            2,
            1,
            2,
            1,
            2,
            1,
            2,
            1,
            2,
            1,
            2,
            1,
            2,
            1,
            2,
            1,
            2,
            4,
            2,
            1,
            2,
            1,
            2,
            1,
            2,
            1,
            2,
            1,
            2,
            1,
            2,
            1,
            2,
            1,
            2,
            1,
            2,
            1,
            2,
            1,
            2,
            1,
            2,
            1,
            2,
            1,
            2,
            1,
            2,
            1,
            2,
            1,
            2,
            1,
            2,
            1,
            2
           ],
           "width": 12
          },
          "opacity": 0.8,
          "size": 10
         },
         "mode": "markers",
         "type": "scatter3d",
         "x": [
          -1.4245687900521393,
          -1.2810354107017978,
          -1.3528021003769686,
          -1.1375020313514563,
          -0.5633685139500905,
          -1.209268721026627,
          -0.2763017552494075,
          -1.1375020313514563,
          1.804932245330544,
          -0.6351352036252612,
          2.0202323143560563,
          -0.2763017552494075,
          1.3743321072795196,
          -1.0657353416762856,
          -0.13276837589906598,
          -1.209268721026627,
          -0.2763017552494075,
          -1.3528021003769686,
          0.9437319692284951,
          -0.2763017552494075,
          -0.2763017552494075,
          -0.9939686520011148,
          0.5131318311774707,
          -0.5633685139500905,
          1.0872653485788366,
          -0.706901893300432,
          0.44136514150229994,
          -0.2763017552494075,
          0.08253169312644625,
          -1.1375020313514563,
          1.517865486629861,
          -1.2810354107017978,
          1.0154986589036659,
          -1.49633547972731,
          0.728431900202983,
          -1.2810354107017978,
          0.22606507247678773,
          -0.6351352036252612,
          -0.20453506557423673,
          -1.3528021003769686,
          1.8766989350057148,
          -1.0657353416762856,
          0.6566652105278122,
          -0.5633685139500905,
          0.728431900202983,
          -1.0657353416762856,
          0.8001985898781537,
          -0.8504352726507735,
          -0.706901893300432,
          -0.5633685139500905,
          0.728431900202983,
          -0.41983513459974897,
          -0.5633685139500905,
          1.4460987969546903,
          0.8001985898781537,
          0.5848985208526415,
          0.8719652795533244,
          2.163765693706398,
          -0.8504352726507735,
          1.0154986589036659,
          2.2355323833815683,
          -1.4245687900521393,
          2.0202323143560563,
          1.0872653485788366,
          1.7331655556553733,
          -1.49633547972731,
          0.2978317621519585,
          2.091999004031227,
          -1.4245687900521393,
          -0.49160182427491966,
          2.2355323833815683,
          0.5848985208526415,
          1.517865486629861,
          1.517865486629861,
          1.4460987969546903,
          -0.9222019623259441,
          0.44136514150229994,
          0.08253169312644625,
          -1.1375020313514563,
          0.728431900202983,
          1.3025654176043489,
          -0.061001686223895235,
          2.0202323143560563,
          0.5131318311774707,
          -1.2810354107017978,
          0.6566652105278122,
          1.1590320382540074,
          -1.209268721026627,
          -0.3480684449245782,
          0.8001985898781537,
          2.091999004031227,
          -1.49633547972731,
          0.6566652105278122,
          0.08253169312644625,
          -0.49160182427491966,
          -1.0657353416762856,
          0.5848985208526415,
          -0.8504352726507735,
          0.6566652105278122,
          -1.3528021003769686,
          -1.1375020313514563,
          0.728431900202983,
          2.0202323143560563,
          -0.9222019623259441,
          0.728431900202983,
          -1.2810354107017978,
          1.9484656246808856,
          1.0872653485788366,
          2.091999004031227,
          1.9484656246808856,
          1.8766989350057148,
          -1.4245687900521393,
          -0.061001686223895235,
          -1.4245687900521393,
          -1.49633547972731,
          -1.4245687900521393,
          1.7331655556553733,
          0.728431900202983,
          0.8719652795533244,
          0.8001985898781537,
          -0.8504352726507735,
          -0.061001686223895235,
          0.08253169312644625,
          0.010765003451275509,
          -1.1375020313514563,
          -0.5633685139500905,
          0.2978317621519585,
          0.08253169312644625,
          1.4460987969546903,
          -0.061001686223895235,
          0.5848985208526415,
          0.010765003451275509,
          -0.9939686520011148,
          -0.5633685139500905,
          -1.3528021003769686,
          -0.706901893300432,
          0.36959845182712925,
          -0.49160182427491966,
          -1.4245687900521393,
          -0.2763017552494075,
          1.3025654176043489,
          -0.49160182427491966,
          -0.7786685829756027,
          -0.49160182427491966,
          -0.9939686520011148,
          -0.7786685829756027,
          0.6566652105278122,
          -0.49160182427491966,
          -0.3480684449245782,
          -0.3480684449245782,
          0.2978317621519585,
          0.010765003451275509,
          0.36959845182712925,
          -0.061001686223895235,
          0.5848985208526415,
          -0.8504352726507735,
          -0.13276837589906598,
          -0.6351352036252612,
          -0.3480684449245782,
          -0.6351352036252612,
          1.230798727929178,
          -0.706901893300432,
          -1.4245687900521393,
          -0.5633685139500905,
          0.8001985898781537,
          -0.20453506557423673,
          0.22606507247678773,
          -0.41983513459974897,
          -0.20453506557423673,
          -0.49160182427491966,
          0.08253169312644625,
          -0.7786685829756027,
          -0.20453506557423673,
          -0.20453506557423673,
          0.9437319692284951,
          -0.6351352036252612,
          1.3743321072795196,
          -0.8504352726507735,
          1.4460987969546903,
          -0.2763017552494075,
          -0.13276837589906598,
          -0.49160182427491966,
          0.5131318311774707,
          -0.706901893300432,
          0.154298382801617,
          -0.6351352036252612,
          1.0872653485788366,
          -0.7786685829756027,
          0.154298382801617,
          -0.20453506557423673,
          -0.3480684449245782,
          -0.49160182427491966,
          -0.41983513459974897,
          -0.061001686223895235,
          0.5848985208526415,
          -0.2763017552494075,
          0.44136514150229994,
          -0.49160182427491966,
          -0.49160182427491966,
          -0.6351352036252612
         ],
         "y": [
          -1.7389991930659485,
          -1.7389991930659485,
          -1.7008297638941763,
          -1.7008297638941763,
          -1.6626603347224038,
          -1.6626603347224038,
          -1.6244909055506316,
          -1.6244909055506316,
          -1.5863214763788591,
          -1.5863214763788591,
          -1.5863214763788591,
          -1.5863214763788591,
          -1.5481520472070869,
          -1.5481520472070869,
          -1.5481520472070869,
          -1.5481520472070869,
          -1.5099826180353144,
          -1.5099826180353144,
          -1.4336437596917697,
          -1.4336437596917697,
          -1.3954743305199975,
          -1.3954743305199975,
          -1.357304901348225,
          -1.357304901348225,
          -1.2427966138329078,
          -1.2427966138329078,
          -1.2427966138329078,
          -1.2427966138329078,
          -1.2046271846611356,
          -1.2046271846611356,
          -1.1664577554893631,
          -1.1664577554893631,
          -1.0519494679740462,
          -1.0519494679740462,
          -1.0519494679740462,
          -1.0519494679740462,
          -1.0137800388022737,
          -1.0137800388022737,
          -0.8992717512869568,
          -0.8992717512869568,
          -0.8611023221151844,
          -0.8611023221151844,
          -0.8229328929434121,
          -0.8229328929434121,
          -0.8229328929434121,
          -0.8229328929434121,
          -0.7847634637716397,
          -0.7847634637716397,
          -0.7847634637716397,
          -0.7847634637716397,
          -0.7084246054280949,
          -0.7084246054280949,
          -0.6702551762563226,
          -0.6702551762563226,
          -0.6702551762563226,
          -0.6702551762563226,
          -0.6320857470845502,
          -0.6320857470845502,
          -0.5557468887410055,
          -0.5557468887410055,
          -0.5557468887410055,
          -0.5557468887410055,
          -0.5175774595692332,
          -0.5175774595692332,
          -0.4794080303974609,
          -0.4794080303974609,
          -0.4794080303974609,
          -0.4794080303974609,
          -0.4794080303974609,
          -0.4794080303974609,
          -0.44123860122568853,
          -0.44123860122568853,
          -0.4030691720539161,
          -0.4030691720539161,
          -0.2503914553668267,
          -0.2503914553668267,
          -0.2503914553668267,
          -0.2503914553668267,
          -0.2503914553668267,
          -0.2503914553668267,
          -0.2503914553668267,
          -0.2503914553668267,
          -0.2503914553668267,
          -0.2503914553668267,
          -0.2503914553668267,
          -0.2503914553668267,
          -0.13588316785150967,
          -0.13588316785150967,
          -0.09771373867973732,
          -0.09771373867973732,
          -0.05954430950796496,
          -0.05954430950796496,
          -0.021374880336192604,
          -0.021374880336192604,
          -0.021374880336192604,
          -0.021374880336192604,
          -0.021374880336192604,
          -0.021374880336192604,
          0.01679454883557975,
          0.01679454883557975,
          0.0549639780073521,
          0.0549639780073521,
          0.0549639780073521,
          0.0549639780073521,
          0.0549639780073521,
          0.0549639780073521,
          0.09313340717912445,
          0.09313340717912445,
          0.09313340717912445,
          0.09313340717912445,
          0.09313340717912445,
          0.09313340717912445,
          0.13130283635089682,
          0.13130283635089682,
          0.16947226552266917,
          0.16947226552266917,
          0.16947226552266917,
          0.16947226552266917,
          0.24581112386621387,
          0.24581112386621387,
          0.24581112386621387,
          0.24581112386621387,
          0.3221499822097586,
          0.3221499822097586,
          0.36031941138153095,
          0.36031941138153095,
          0.3984888405533033,
          0.3984888405533033,
          0.3984888405533033,
          0.3984888405533033,
          0.3984888405533033,
          0.3984888405533033,
          0.43665826972507565,
          0.43665826972507565,
          0.474827698896848,
          0.474827698896848,
          0.474827698896848,
          0.474827698896848,
          0.5129971280686204,
          0.5129971280686204,
          0.5511665572403928,
          0.5511665572403928,
          0.5893359864121651,
          0.5893359864121651,
          0.6275054155839375,
          0.6275054155839375,
          0.6275054155839375,
          0.6275054155839375,
          0.6656748447557098,
          0.6656748447557098,
          0.6656748447557098,
          0.6656748447557098,
          0.6656748447557098,
          0.6656748447557098,
          0.6656748447557098,
          0.6656748447557098,
          0.6656748447557098,
          0.6656748447557098,
          0.6656748447557098,
          0.6656748447557098,
          0.7038442739274822,
          0.7038442739274822,
          0.7801831322710269,
          0.7801831322710269,
          0.9328608489581163,
          0.9328608489581163,
          0.9710302781298886,
          0.9710302781298886,
          1.009199707301661,
          1.009199707301661,
          1.009199707301661,
          1.009199707301661,
          1.009199707301661,
          1.009199707301661,
          1.0473691364734332,
          1.0473691364734332,
          1.0473691364734332,
          1.0473691364734332,
          1.238216282332295,
          1.238216282332295,
          1.3908939990193845,
          1.3908939990193845,
          1.429063428191157,
          1.429063428191157,
          1.4672328573629292,
          1.4672328573629292,
          1.543571715706474,
          1.543571715706474,
          1.6199105740500186,
          1.6199105740500186,
          1.6199105740500186,
          1.6199105740500186,
          2.0016048657677423,
          2.0016048657677423,
          2.2687908699701484,
          2.2687908699701484,
          2.4978074450007828,
          2.4978074450007828,
          2.9176711658902788,
          2.9176711658902788
         ],
         "z": [
          -0.43480147996914814,
          1.195704069915157,
          -1.7159129834496736,
          1.0404178270690327,
          -0.3959799192576171,
          1.0015962663575015,
          -1.7159129834496736,
          1.700384359165061,
          -1.832377665584267,
          0.8463100235113773,
          -1.405340497757425,
          1.8944921627227165,
          -1.3665189370458939,
          1.0404178270690327,
          -1.444162058468956,
          1.118060948492095,
          -0.5900877228152724,
          0.6133806592421909,
          -0.823017087084459,
          1.8556706020111853,
          -0.5900877228152724,
          0.8851315842229084,
          -1.7547345441612048,
          0.8851315842229084,
          -1.405340497757425,
          1.234525630626688,
          -0.7065524049498657,
          0.4192728556845355,
          -0.7453739656613968,
          1.4286334341843434,
          -1.7935561048727358,
          0.8851315842229084,
          -1.7935561048727358,
          1.622741237741999,
          -1.405340497757425,
          1.195704069915157,
          -1.288875815622832,
          0.8851315842229084,
          -0.9394817692190521,
          0.9627747056459706,
          -0.5900877228152724,
          1.622741237741999,
          -0.5512661621037414,
          0.4192728556845355,
          -0.86183864779599,
          0.5745590985306598,
          0.18634349141534906,
          -0.12422899427689955,
          -0.31833679783455493,
          -0.31833679783455493,
          0.06987880928075582,
          0.38045129497300445,
          0.14752193070381797,
          0.38045129497300445,
          -0.20187211569996172,
          -0.357158358546086,
          -0.007764312142306325,
          -0.16305055498843063,
          0.03105724856922475,
          -0.16305055498843063,
          0.22516505212688012,
          0.18634349141534906,
          0.06987880928075582,
          0.34162973426147336,
          0.03105724856922475,
          0.34162973426147336,
          -0.007764312142306325,
          -0.08540743356536848,
          0.34162973426147336,
          -0.12422899427689955,
          0.18634349141534906,
          -0.31833679783455493,
          -0.046585872853837404,
          0.22516505212688012,
          -0.12422899427689955,
          0.14752193070381797,
          0.1087003699922869,
          -0.08540743356536848,
          0.06987880928075582,
          -0.31833679783455493,
          0.03105724856922475,
          0.18634349141534906,
          -0.357158358546086,
          -0.24069367641149278,
          0.2639866128384112,
          -0.16305055498843063,
          0.30280817354994227,
          0.18634349141534906,
          0.38045129497300445,
          -0.16305055498843063,
          0.18634349141534906,
          -0.357158358546086,
          -0.046585872853837404,
          -0.3959799192576171,
          -0.31833679783455493,
          0.06987880928075582,
          -0.12422899427689955,
          -0.007764312142306325,
          -0.31833679783455493,
          -0.046585872853837404,
          -0.357158358546086,
          -0.08540743356536848,
          0.34162973426147336,
          0.18634349141534906,
          0.22516505212688012,
          -0.31833679783455493,
          -0.007764312142306325,
          -0.16305055498843063,
          -0.27951523712302384,
          -0.08540743356536848,
          0.06987880928075582,
          0.14752193070381797,
          -0.31833679783455493,
          -0.16305055498843063,
          -0.08540743356536848,
          -0.007764312142306325,
          -0.27951523712302384,
          0.34162973426147336,
          -0.27951523712302384,
          0.2639866128384112,
          0.22516505212688012,
          -0.3959799192576171,
          0.30280817354994227,
          1.5839196770304678,
          -0.823017087084459,
          1.0404178270690327,
          -0.5900877228152724,
          1.7392059198765921,
          -1.5218051798920182,
          0.9627747056459706,
          -1.5994483013150804,
          0.9627747056459706,
          -0.6289092835268035,
          0.8074884627998463,
          -1.7547345441612048,
          1.4674549948958746,
          -1.6770914227381426,
          0.8851315842229084,
          -1.5606267406035494,
          0.8463100235113773,
          -1.7547345441612048,
          1.66156279845353,
          -0.3959799192576171,
          1.4286334341843434,
          -1.4829836191804873,
          1.8168490412996543,
          -0.5512661621037414,
          0.9239531449344395,
          -1.0947680120651764,
          1.5450981163189368,
          -1.288875815622832,
          1.4674549948958746,
          -1.1724111334882386,
          1.0015962663575015,
          -1.327697376334363,
          1.5062765556074056,
          -1.9100207870073291,
          1.0792393877805637,
          -1.9100207870073291,
          0.8851315842229084,
          -0.5900877228152724,
          1.2733471913382193,
          -1.7547345441612048,
          1.66156279845353,
          -0.9394817692190521,
          0.9627747056459706,
          -1.1724111334882386,
          1.7392059198765921,
          -0.900660208507521,
          0.49691597710759766,
          -1.444162058468956,
          0.9627747056459706,
          -1.5606267406035494,
          1.622741237741999,
          -1.444162058468956,
          1.3898118734728124,
          -1.3665189370458939,
          0.7298453413767841,
          -1.405340497757425,
          1.5450981163189368,
          -0.7065524049498657,
          1.3898118734728124,
          -1.3665189370458939,
          1.4674549948958746,
          -0.43480147996914814,
          1.8168490412996543,
          -1.0171248906421142,
          0.691023780665253,
          -1.288875815622832,
          1.3509903127612812,
          -1.0559464513536454,
          0.7298453413767841,
          -1.6382698620266116,
          1.5839196770304678,
          -1.327697376334363,
          1.118060948492095,
          -0.86183864779599,
          0.9239531449344395,
          -1.2500542549113007,
          1.2733471913382193
         ]
        }
       ],
       "layout": {
        "scene": {
         "xaxis": {
          "title": {
           "text": "Age"
          }
         },
         "yaxis": {
          "title": {
           "text": "Annual Income"
          }
         },
         "zaxis": {
          "title": {
           "text": "Spending Score"
          }
         }
        },
        "template": {
         "data": {
          "bar": [
           {
            "error_x": {
             "color": "#2a3f5f"
            },
            "error_y": {
             "color": "#2a3f5f"
            },
            "marker": {
             "line": {
              "color": "#E5ECF6",
              "width": 0.5
             }
            },
            "type": "bar"
           }
          ],
          "barpolar": [
           {
            "marker": {
             "line": {
              "color": "#E5ECF6",
              "width": 0.5
             }
            },
            "type": "barpolar"
           }
          ],
          "carpet": [
           {
            "aaxis": {
             "endlinecolor": "#2a3f5f",
             "gridcolor": "white",
             "linecolor": "white",
             "minorgridcolor": "white",
             "startlinecolor": "#2a3f5f"
            },
            "baxis": {
             "endlinecolor": "#2a3f5f",
             "gridcolor": "white",
             "linecolor": "white",
             "minorgridcolor": "white",
             "startlinecolor": "#2a3f5f"
            },
            "type": "carpet"
           }
          ],
          "choropleth": [
           {
            "colorbar": {
             "outlinewidth": 0,
             "ticks": ""
            },
            "type": "choropleth"
           }
          ],
          "contour": [
           {
            "colorbar": {
             "outlinewidth": 0,
             "ticks": ""
            },
            "colorscale": [
             [
              0,
              "#0d0887"
             ],
             [
              0.1111111111111111,
              "#46039f"
             ],
             [
              0.2222222222222222,
              "#7201a8"
             ],
             [
              0.3333333333333333,
              "#9c179e"
             ],
             [
              0.4444444444444444,
              "#bd3786"
             ],
             [
              0.5555555555555556,
              "#d8576b"
             ],
             [
              0.6666666666666666,
              "#ed7953"
             ],
             [
              0.7777777777777778,
              "#fb9f3a"
             ],
             [
              0.8888888888888888,
              "#fdca26"
             ],
             [
              1,
              "#f0f921"
             ]
            ],
            "type": "contour"
           }
          ],
          "contourcarpet": [
           {
            "colorbar": {
             "outlinewidth": 0,
             "ticks": ""
            },
            "type": "contourcarpet"
           }
          ],
          "heatmap": [
           {
            "colorbar": {
             "outlinewidth": 0,
             "ticks": ""
            },
            "colorscale": [
             [
              0,
              "#0d0887"
             ],
             [
              0.1111111111111111,
              "#46039f"
             ],
             [
              0.2222222222222222,
              "#7201a8"
             ],
             [
              0.3333333333333333,
              "#9c179e"
             ],
             [
              0.4444444444444444,
              "#bd3786"
             ],
             [
              0.5555555555555556,
              "#d8576b"
             ],
             [
              0.6666666666666666,
              "#ed7953"
             ],
             [
              0.7777777777777778,
              "#fb9f3a"
             ],
             [
              0.8888888888888888,
              "#fdca26"
             ],
             [
              1,
              "#f0f921"
             ]
            ],
            "type": "heatmap"
           }
          ],
          "heatmapgl": [
           {
            "colorbar": {
             "outlinewidth": 0,
             "ticks": ""
            },
            "colorscale": [
             [
              0,
              "#0d0887"
             ],
             [
              0.1111111111111111,
              "#46039f"
             ],
             [
              0.2222222222222222,
              "#7201a8"
             ],
             [
              0.3333333333333333,
              "#9c179e"
             ],
             [
              0.4444444444444444,
              "#bd3786"
             ],
             [
              0.5555555555555556,
              "#d8576b"
             ],
             [
              0.6666666666666666,
              "#ed7953"
             ],
             [
              0.7777777777777778,
              "#fb9f3a"
             ],
             [
              0.8888888888888888,
              "#fdca26"
             ],
             [
              1,
              "#f0f921"
             ]
            ],
            "type": "heatmapgl"
           }
          ],
          "histogram": [
           {
            "marker": {
             "colorbar": {
              "outlinewidth": 0,
              "ticks": ""
             }
            },
            "type": "histogram"
           }
          ],
          "histogram2d": [
           {
            "colorbar": {
             "outlinewidth": 0,
             "ticks": ""
            },
            "colorscale": [
             [
              0,
              "#0d0887"
             ],
             [
              0.1111111111111111,
              "#46039f"
             ],
             [
              0.2222222222222222,
              "#7201a8"
             ],
             [
              0.3333333333333333,
              "#9c179e"
             ],
             [
              0.4444444444444444,
              "#bd3786"
             ],
             [
              0.5555555555555556,
              "#d8576b"
             ],
             [
              0.6666666666666666,
              "#ed7953"
             ],
             [
              0.7777777777777778,
              "#fb9f3a"
             ],
             [
              0.8888888888888888,
              "#fdca26"
             ],
             [
              1,
              "#f0f921"
             ]
            ],
            "type": "histogram2d"
           }
          ],
          "histogram2dcontour": [
           {
            "colorbar": {
             "outlinewidth": 0,
             "ticks": ""
            },
            "colorscale": [
             [
              0,
              "#0d0887"
             ],
             [
              0.1111111111111111,
              "#46039f"
             ],
             [
              0.2222222222222222,
              "#7201a8"
             ],
             [
              0.3333333333333333,
              "#9c179e"
             ],
             [
              0.4444444444444444,
              "#bd3786"
             ],
             [
              0.5555555555555556,
              "#d8576b"
             ],
             [
              0.6666666666666666,
              "#ed7953"
             ],
             [
              0.7777777777777778,
              "#fb9f3a"
             ],
             [
              0.8888888888888888,
              "#fdca26"
             ],
             [
              1,
              "#f0f921"
             ]
            ],
            "type": "histogram2dcontour"
           }
          ],
          "mesh3d": [
           {
            "colorbar": {
             "outlinewidth": 0,
             "ticks": ""
            },
            "type": "mesh3d"
           }
          ],
          "parcoords": [
           {
            "line": {
             "colorbar": {
              "outlinewidth": 0,
              "ticks": ""
             }
            },
            "type": "parcoords"
           }
          ],
          "pie": [
           {
            "automargin": true,
            "type": "pie"
           }
          ],
          "scatter": [
           {
            "marker": {
             "colorbar": {
              "outlinewidth": 0,
              "ticks": ""
             }
            },
            "type": "scatter"
           }
          ],
          "scatter3d": [
           {
            "line": {
             "colorbar": {
              "outlinewidth": 0,
              "ticks": ""
             }
            },
            "marker": {
             "colorbar": {
              "outlinewidth": 0,
              "ticks": ""
             }
            },
            "type": "scatter3d"
           }
          ],
          "scattercarpet": [
           {
            "marker": {
             "colorbar": {
              "outlinewidth": 0,
              "ticks": ""
             }
            },
            "type": "scattercarpet"
           }
          ],
          "scattergeo": [
           {
            "marker": {
             "colorbar": {
              "outlinewidth": 0,
              "ticks": ""
             }
            },
            "type": "scattergeo"
           }
          ],
          "scattergl": [
           {
            "marker": {
             "colorbar": {
              "outlinewidth": 0,
              "ticks": ""
             }
            },
            "type": "scattergl"
           }
          ],
          "scattermapbox": [
           {
            "marker": {
             "colorbar": {
              "outlinewidth": 0,
              "ticks": ""
             }
            },
            "type": "scattermapbox"
           }
          ],
          "scatterpolar": [
           {
            "marker": {
             "colorbar": {
              "outlinewidth": 0,
              "ticks": ""
             }
            },
            "type": "scatterpolar"
           }
          ],
          "scatterpolargl": [
           {
            "marker": {
             "colorbar": {
              "outlinewidth": 0,
              "ticks": ""
             }
            },
            "type": "scatterpolargl"
           }
          ],
          "scatterternary": [
           {
            "marker": {
             "colorbar": {
              "outlinewidth": 0,
              "ticks": ""
             }
            },
            "type": "scatterternary"
           }
          ],
          "surface": [
           {
            "colorbar": {
             "outlinewidth": 0,
             "ticks": ""
            },
            "colorscale": [
             [
              0,
              "#0d0887"
             ],
             [
              0.1111111111111111,
              "#46039f"
             ],
             [
              0.2222222222222222,
              "#7201a8"
             ],
             [
              0.3333333333333333,
              "#9c179e"
             ],
             [
              0.4444444444444444,
              "#bd3786"
             ],
             [
              0.5555555555555556,
              "#d8576b"
             ],
             [
              0.6666666666666666,
              "#ed7953"
             ],
             [
              0.7777777777777778,
              "#fb9f3a"
             ],
             [
              0.8888888888888888,
              "#fdca26"
             ],
             [
              1,
              "#f0f921"
             ]
            ],
            "type": "surface"
           }
          ],
          "table": [
           {
            "cells": {
             "fill": {
              "color": "#EBF0F8"
             },
             "line": {
              "color": "white"
             }
            },
            "header": {
             "fill": {
              "color": "#C8D4E3"
             },
             "line": {
              "color": "white"
             }
            },
            "type": "table"
           }
          ]
         },
         "layout": {
          "annotationdefaults": {
           "arrowcolor": "#2a3f5f",
           "arrowhead": 0,
           "arrowwidth": 1
          },
          "coloraxis": {
           "colorbar": {
            "outlinewidth": 0,
            "ticks": ""
           }
          },
          "colorscale": {
           "diverging": [
            [
             0,
             "#8e0152"
            ],
            [
             0.1,
             "#c51b7d"
            ],
            [
             0.2,
             "#de77ae"
            ],
            [
             0.3,
             "#f1b6da"
            ],
            [
             0.4,
             "#fde0ef"
            ],
            [
             0.5,
             "#f7f7f7"
            ],
            [
             0.6,
             "#e6f5d0"
            ],
            [
             0.7,
             "#b8e186"
            ],
            [
             0.8,
             "#7fbc41"
            ],
            [
             0.9,
             "#4d9221"
            ],
            [
             1,
             "#276419"
            ]
           ],
           "sequential": [
            [
             0,
             "#0d0887"
            ],
            [
             0.1111111111111111,
             "#46039f"
            ],
            [
             0.2222222222222222,
             "#7201a8"
            ],
            [
             0.3333333333333333,
             "#9c179e"
            ],
            [
             0.4444444444444444,
             "#bd3786"
            ],
            [
             0.5555555555555556,
             "#d8576b"
            ],
            [
             0.6666666666666666,
             "#ed7953"
            ],
            [
             0.7777777777777778,
             "#fb9f3a"
            ],
            [
             0.8888888888888888,
             "#fdca26"
            ],
            [
             1,
             "#f0f921"
            ]
           ],
           "sequentialminus": [
            [
             0,
             "#0d0887"
            ],
            [
             0.1111111111111111,
             "#46039f"
            ],
            [
             0.2222222222222222,
             "#7201a8"
            ],
            [
             0.3333333333333333,
             "#9c179e"
            ],
            [
             0.4444444444444444,
             "#bd3786"
            ],
            [
             0.5555555555555556,
             "#d8576b"
            ],
            [
             0.6666666666666666,
             "#ed7953"
            ],
            [
             0.7777777777777778,
             "#fb9f3a"
            ],
            [
             0.8888888888888888,
             "#fdca26"
            ],
            [
             1,
             "#f0f921"
            ]
           ]
          },
          "colorway": [
           "#636efa",
           "#EF553B",
           "#00cc96",
           "#ab63fa",
           "#FFA15A",
           "#19d3f3",
           "#FF6692",
           "#B6E880",
           "#FF97FF",
           "#FECB52"
          ],
          "font": {
           "color": "#2a3f5f"
          },
          "geo": {
           "bgcolor": "white",
           "lakecolor": "white",
           "landcolor": "#E5ECF6",
           "showlakes": true,
           "showland": true,
           "subunitcolor": "white"
          },
          "hoverlabel": {
           "align": "left"
          },
          "hovermode": "closest",
          "mapbox": {
           "style": "light"
          },
          "paper_bgcolor": "white",
          "plot_bgcolor": "#E5ECF6",
          "polar": {
           "angularaxis": {
            "gridcolor": "white",
            "linecolor": "white",
            "ticks": ""
           },
           "bgcolor": "#E5ECF6",
           "radialaxis": {
            "gridcolor": "white",
            "linecolor": "white",
            "ticks": ""
           }
          },
          "scene": {
           "xaxis": {
            "backgroundcolor": "#E5ECF6",
            "gridcolor": "white",
            "gridwidth": 2,
            "linecolor": "white",
            "showbackground": true,
            "ticks": "",
            "zerolinecolor": "white"
           },
           "yaxis": {
            "backgroundcolor": "#E5ECF6",
            "gridcolor": "white",
            "gridwidth": 2,
            "linecolor": "white",
            "showbackground": true,
            "ticks": "",
            "zerolinecolor": "white"
           },
           "zaxis": {
            "backgroundcolor": "#E5ECF6",
            "gridcolor": "white",
            "gridwidth": 2,
            "linecolor": "white",
            "showbackground": true,
            "ticks": "",
            "zerolinecolor": "white"
           }
          },
          "shapedefaults": {
           "line": {
            "color": "#2a3f5f"
           }
          },
          "ternary": {
           "aaxis": {
            "gridcolor": "white",
            "linecolor": "white",
            "ticks": ""
           },
           "baxis": {
            "gridcolor": "white",
            "linecolor": "white",
            "ticks": ""
           },
           "bgcolor": "#E5ECF6",
           "caxis": {
            "gridcolor": "white",
            "linecolor": "white",
            "ticks": ""
           }
          },
          "title": {
           "x": 0.05
          },
          "xaxis": {
           "automargin": true,
           "gridcolor": "white",
           "linecolor": "white",
           "ticks": "",
           "title": {
            "standoff": 15
           },
           "zerolinecolor": "white",
           "zerolinewidth": 2
          },
          "yaxis": {
           "automargin": true,
           "gridcolor": "white",
           "linecolor": "white",
           "ticks": "",
           "title": {
            "standoff": 15
           },
           "zerolinecolor": "white",
           "zerolinewidth": 2
          }
         }
        },
        "title": {
         "text": "Cluster segementation by Age, Anual Income and Spending Score"
        }
       }
      },
      "text/html": [
       "<div>\n",
       "        \n",
       "        \n",
       "            <div id=\"9d3b89eb-336e-4b2e-9cc4-b81c5d5f5712\" class=\"plotly-graph-div\" style=\"height:525px; width:100%;\"></div>\n",
       "            <script type=\"text/javascript\">\n",
       "                require([\"plotly\"], function(Plotly) {\n",
       "                    window.PLOTLYENV=window.PLOTLYENV || {};\n",
       "                    \n",
       "                if (document.getElementById(\"9d3b89eb-336e-4b2e-9cc4-b81c5d5f5712\")) {\n",
       "                    Plotly.newPlot(\n",
       "                        '9d3b89eb-336e-4b2e-9cc4-b81c5d5f5712',\n",
       "                        [{\"marker\": {\"color\": [5, 5, 3, 5, 3, 5, 3, 5, 3, 5, 3, 5, 3, 5, 3, 5, 3, 5, 3, 5, 3, 5, 3, 5, 3, 5, 3, 5, 3, 5, 3, 5, 3, 5, 3, 5, 3, 5, 3, 5, 4, 5, 3, 0, 3, 5, 4, 0, 0, 0, 4, 0, 0, 4, 4, 4, 4, 4, 0, 4, 4, 0, 4, 4, 4, 0, 4, 4, 0, 0, 4, 4, 4, 4, 4, 0, 4, 0, 0, 4, 4, 0, 4, 4, 0, 4, 4, 0, 0, 4, 4, 0, 4, 0, 0, 0, 4, 0, 4, 0, 0, 4, 4, 0, 4, 0, 4, 4, 4, 4, 4, 0, 0, 0, 0, 0, 4, 4, 4, 4, 0, 0, 0, 2, 0, 2, 1, 2, 1, 2, 1, 2, 0, 2, 1, 2, 1, 2, 1, 2, 1, 2, 0, 2, 1, 2, 1, 2, 1, 2, 1, 2, 1, 2, 1, 2, 1, 2, 1, 2, 4, 2, 1, 2, 1, 2, 1, 2, 1, 2, 1, 2, 1, 2, 1, 2, 1, 2, 1, 2, 1, 2, 1, 2, 1, 2, 1, 2, 1, 2, 1, 2, 1, 2, 1, 2, 1, 2, 1, 2], \"line\": {\"color\": [5, 5, 3, 5, 3, 5, 3, 5, 3, 5, 3, 5, 3, 5, 3, 5, 3, 5, 3, 5, 3, 5, 3, 5, 3, 5, 3, 5, 3, 5, 3, 5, 3, 5, 3, 5, 3, 5, 3, 5, 4, 5, 3, 0, 3, 5, 4, 0, 0, 0, 4, 0, 0, 4, 4, 4, 4, 4, 0, 4, 4, 0, 4, 4, 4, 0, 4, 4, 0, 0, 4, 4, 4, 4, 4, 0, 4, 0, 0, 4, 4, 0, 4, 4, 0, 4, 4, 0, 0, 4, 4, 0, 4, 0, 0, 0, 4, 0, 4, 0, 0, 4, 4, 0, 4, 0, 4, 4, 4, 4, 4, 0, 0, 0, 0, 0, 4, 4, 4, 4, 0, 0, 0, 2, 0, 2, 1, 2, 1, 2, 1, 2, 0, 2, 1, 2, 1, 2, 1, 2, 1, 2, 0, 2, 1, 2, 1, 2, 1, 2, 1, 2, 1, 2, 1, 2, 1, 2, 1, 2, 4, 2, 1, 2, 1, 2, 1, 2, 1, 2, 1, 2, 1, 2, 1, 2, 1, 2, 1, 2, 1, 2, 1, 2, 1, 2, 1, 2, 1, 2, 1, 2, 1, 2, 1, 2, 1, 2, 1, 2], \"width\": 12}, \"opacity\": 0.8, \"size\": 10}, \"mode\": \"markers\", \"type\": \"scatter3d\", \"x\": [-1.4245687900521393, -1.2810354107017978, -1.3528021003769686, -1.1375020313514563, -0.5633685139500905, -1.209268721026627, -0.2763017552494075, -1.1375020313514563, 1.804932245330544, -0.6351352036252612, 2.0202323143560563, -0.2763017552494075, 1.3743321072795196, -1.0657353416762856, -0.13276837589906598, -1.209268721026627, -0.2763017552494075, -1.3528021003769686, 0.9437319692284951, -0.2763017552494075, -0.2763017552494075, -0.9939686520011148, 0.5131318311774707, -0.5633685139500905, 1.0872653485788366, -0.706901893300432, 0.44136514150229994, -0.2763017552494075, 0.08253169312644625, -1.1375020313514563, 1.517865486629861, -1.2810354107017978, 1.0154986589036659, -1.49633547972731, 0.728431900202983, -1.2810354107017978, 0.22606507247678773, -0.6351352036252612, -0.20453506557423673, -1.3528021003769686, 1.8766989350057148, -1.0657353416762856, 0.6566652105278122, -0.5633685139500905, 0.728431900202983, -1.0657353416762856, 0.8001985898781537, -0.8504352726507735, -0.706901893300432, -0.5633685139500905, 0.728431900202983, -0.41983513459974897, -0.5633685139500905, 1.4460987969546903, 0.8001985898781537, 0.5848985208526415, 0.8719652795533244, 2.163765693706398, -0.8504352726507735, 1.0154986589036659, 2.2355323833815683, -1.4245687900521393, 2.0202323143560563, 1.0872653485788366, 1.7331655556553733, -1.49633547972731, 0.2978317621519585, 2.091999004031227, -1.4245687900521393, -0.49160182427491966, 2.2355323833815683, 0.5848985208526415, 1.517865486629861, 1.517865486629861, 1.4460987969546903, -0.9222019623259441, 0.44136514150229994, 0.08253169312644625, -1.1375020313514563, 0.728431900202983, 1.3025654176043489, -0.061001686223895235, 2.0202323143560563, 0.5131318311774707, -1.2810354107017978, 0.6566652105278122, 1.1590320382540074, -1.209268721026627, -0.3480684449245782, 0.8001985898781537, 2.091999004031227, -1.49633547972731, 0.6566652105278122, 0.08253169312644625, -0.49160182427491966, -1.0657353416762856, 0.5848985208526415, -0.8504352726507735, 0.6566652105278122, -1.3528021003769686, -1.1375020313514563, 0.728431900202983, 2.0202323143560563, -0.9222019623259441, 0.728431900202983, -1.2810354107017978, 1.9484656246808856, 1.0872653485788366, 2.091999004031227, 1.9484656246808856, 1.8766989350057148, -1.4245687900521393, -0.061001686223895235, -1.4245687900521393, -1.49633547972731, -1.4245687900521393, 1.7331655556553733, 0.728431900202983, 0.8719652795533244, 0.8001985898781537, -0.8504352726507735, -0.061001686223895235, 0.08253169312644625, 0.010765003451275509, -1.1375020313514563, -0.5633685139500905, 0.2978317621519585, 0.08253169312644625, 1.4460987969546903, -0.061001686223895235, 0.5848985208526415, 0.010765003451275509, -0.9939686520011148, -0.5633685139500905, -1.3528021003769686, -0.706901893300432, 0.36959845182712925, -0.49160182427491966, -1.4245687900521393, -0.2763017552494075, 1.3025654176043489, -0.49160182427491966, -0.7786685829756027, -0.49160182427491966, -0.9939686520011148, -0.7786685829756027, 0.6566652105278122, -0.49160182427491966, -0.3480684449245782, -0.3480684449245782, 0.2978317621519585, 0.010765003451275509, 0.36959845182712925, -0.061001686223895235, 0.5848985208526415, -0.8504352726507735, -0.13276837589906598, -0.6351352036252612, -0.3480684449245782, -0.6351352036252612, 1.230798727929178, -0.706901893300432, -1.4245687900521393, -0.5633685139500905, 0.8001985898781537, -0.20453506557423673, 0.22606507247678773, -0.41983513459974897, -0.20453506557423673, -0.49160182427491966, 0.08253169312644625, -0.7786685829756027, -0.20453506557423673, -0.20453506557423673, 0.9437319692284951, -0.6351352036252612, 1.3743321072795196, -0.8504352726507735, 1.4460987969546903, -0.2763017552494075, -0.13276837589906598, -0.49160182427491966, 0.5131318311774707, -0.706901893300432, 0.154298382801617, -0.6351352036252612, 1.0872653485788366, -0.7786685829756027, 0.154298382801617, -0.20453506557423673, -0.3480684449245782, -0.49160182427491966, -0.41983513459974897, -0.061001686223895235, 0.5848985208526415, -0.2763017552494075, 0.44136514150229994, -0.49160182427491966, -0.49160182427491966, -0.6351352036252612], \"y\": [-1.7389991930659485, -1.7389991930659485, -1.7008297638941763, -1.7008297638941763, -1.6626603347224038, -1.6626603347224038, -1.6244909055506316, -1.6244909055506316, -1.5863214763788591, -1.5863214763788591, -1.5863214763788591, -1.5863214763788591, -1.5481520472070869, -1.5481520472070869, -1.5481520472070869, -1.5481520472070869, -1.5099826180353144, -1.5099826180353144, -1.4336437596917697, -1.4336437596917697, -1.3954743305199975, -1.3954743305199975, -1.357304901348225, -1.357304901348225, -1.2427966138329078, -1.2427966138329078, -1.2427966138329078, -1.2427966138329078, -1.2046271846611356, -1.2046271846611356, -1.1664577554893631, -1.1664577554893631, -1.0519494679740462, -1.0519494679740462, -1.0519494679740462, -1.0519494679740462, -1.0137800388022737, -1.0137800388022737, -0.8992717512869568, -0.8992717512869568, -0.8611023221151844, -0.8611023221151844, -0.8229328929434121, -0.8229328929434121, -0.8229328929434121, -0.8229328929434121, -0.7847634637716397, -0.7847634637716397, -0.7847634637716397, -0.7847634637716397, -0.7084246054280949, -0.7084246054280949, -0.6702551762563226, -0.6702551762563226, -0.6702551762563226, -0.6702551762563226, -0.6320857470845502, -0.6320857470845502, -0.5557468887410055, -0.5557468887410055, -0.5557468887410055, -0.5557468887410055, -0.5175774595692332, -0.5175774595692332, -0.4794080303974609, -0.4794080303974609, -0.4794080303974609, -0.4794080303974609, -0.4794080303974609, -0.4794080303974609, -0.44123860122568853, -0.44123860122568853, -0.4030691720539161, -0.4030691720539161, -0.2503914553668267, -0.2503914553668267, -0.2503914553668267, -0.2503914553668267, -0.2503914553668267, -0.2503914553668267, -0.2503914553668267, -0.2503914553668267, -0.2503914553668267, -0.2503914553668267, -0.2503914553668267, -0.2503914553668267, -0.13588316785150967, -0.13588316785150967, -0.09771373867973732, -0.09771373867973732, -0.05954430950796496, -0.05954430950796496, -0.021374880336192604, -0.021374880336192604, -0.021374880336192604, -0.021374880336192604, -0.021374880336192604, -0.021374880336192604, 0.01679454883557975, 0.01679454883557975, 0.0549639780073521, 0.0549639780073521, 0.0549639780073521, 0.0549639780073521, 0.0549639780073521, 0.0549639780073521, 0.09313340717912445, 0.09313340717912445, 0.09313340717912445, 0.09313340717912445, 0.09313340717912445, 0.09313340717912445, 0.13130283635089682, 0.13130283635089682, 0.16947226552266917, 0.16947226552266917, 0.16947226552266917, 0.16947226552266917, 0.24581112386621387, 0.24581112386621387, 0.24581112386621387, 0.24581112386621387, 0.3221499822097586, 0.3221499822097586, 0.36031941138153095, 0.36031941138153095, 0.3984888405533033, 0.3984888405533033, 0.3984888405533033, 0.3984888405533033, 0.3984888405533033, 0.3984888405533033, 0.43665826972507565, 0.43665826972507565, 0.474827698896848, 0.474827698896848, 0.474827698896848, 0.474827698896848, 0.5129971280686204, 0.5129971280686204, 0.5511665572403928, 0.5511665572403928, 0.5893359864121651, 0.5893359864121651, 0.6275054155839375, 0.6275054155839375, 0.6275054155839375, 0.6275054155839375, 0.6656748447557098, 0.6656748447557098, 0.6656748447557098, 0.6656748447557098, 0.6656748447557098, 0.6656748447557098, 0.6656748447557098, 0.6656748447557098, 0.6656748447557098, 0.6656748447557098, 0.6656748447557098, 0.6656748447557098, 0.7038442739274822, 0.7038442739274822, 0.7801831322710269, 0.7801831322710269, 0.9328608489581163, 0.9328608489581163, 0.9710302781298886, 0.9710302781298886, 1.009199707301661, 1.009199707301661, 1.009199707301661, 1.009199707301661, 1.009199707301661, 1.009199707301661, 1.0473691364734332, 1.0473691364734332, 1.0473691364734332, 1.0473691364734332, 1.238216282332295, 1.238216282332295, 1.3908939990193845, 1.3908939990193845, 1.429063428191157, 1.429063428191157, 1.4672328573629292, 1.4672328573629292, 1.543571715706474, 1.543571715706474, 1.6199105740500186, 1.6199105740500186, 1.6199105740500186, 1.6199105740500186, 2.0016048657677423, 2.0016048657677423, 2.2687908699701484, 2.2687908699701484, 2.4978074450007828, 2.4978074450007828, 2.9176711658902788, 2.9176711658902788], \"z\": [-0.43480147996914814, 1.195704069915157, -1.7159129834496736, 1.0404178270690327, -0.3959799192576171, 1.0015962663575015, -1.7159129834496736, 1.700384359165061, -1.832377665584267, 0.8463100235113773, -1.405340497757425, 1.8944921627227165, -1.3665189370458939, 1.0404178270690327, -1.444162058468956, 1.118060948492095, -0.5900877228152724, 0.6133806592421909, -0.823017087084459, 1.8556706020111853, -0.5900877228152724, 0.8851315842229084, -1.7547345441612048, 0.8851315842229084, -1.405340497757425, 1.234525630626688, -0.7065524049498657, 0.4192728556845355, -0.7453739656613968, 1.4286334341843434, -1.7935561048727358, 0.8851315842229084, -1.7935561048727358, 1.622741237741999, -1.405340497757425, 1.195704069915157, -1.288875815622832, 0.8851315842229084, -0.9394817692190521, 0.9627747056459706, -0.5900877228152724, 1.622741237741999, -0.5512661621037414, 0.4192728556845355, -0.86183864779599, 0.5745590985306598, 0.18634349141534906, -0.12422899427689955, -0.31833679783455493, -0.31833679783455493, 0.06987880928075582, 0.38045129497300445, 0.14752193070381797, 0.38045129497300445, -0.20187211569996172, -0.357158358546086, -0.007764312142306325, -0.16305055498843063, 0.03105724856922475, -0.16305055498843063, 0.22516505212688012, 0.18634349141534906, 0.06987880928075582, 0.34162973426147336, 0.03105724856922475, 0.34162973426147336, -0.007764312142306325, -0.08540743356536848, 0.34162973426147336, -0.12422899427689955, 0.18634349141534906, -0.31833679783455493, -0.046585872853837404, 0.22516505212688012, -0.12422899427689955, 0.14752193070381797, 0.1087003699922869, -0.08540743356536848, 0.06987880928075582, -0.31833679783455493, 0.03105724856922475, 0.18634349141534906, -0.357158358546086, -0.24069367641149278, 0.2639866128384112, -0.16305055498843063, 0.30280817354994227, 0.18634349141534906, 0.38045129497300445, -0.16305055498843063, 0.18634349141534906, -0.357158358546086, -0.046585872853837404, -0.3959799192576171, -0.31833679783455493, 0.06987880928075582, -0.12422899427689955, -0.007764312142306325, -0.31833679783455493, -0.046585872853837404, -0.357158358546086, -0.08540743356536848, 0.34162973426147336, 0.18634349141534906, 0.22516505212688012, -0.31833679783455493, -0.007764312142306325, -0.16305055498843063, -0.27951523712302384, -0.08540743356536848, 0.06987880928075582, 0.14752193070381797, -0.31833679783455493, -0.16305055498843063, -0.08540743356536848, -0.007764312142306325, -0.27951523712302384, 0.34162973426147336, -0.27951523712302384, 0.2639866128384112, 0.22516505212688012, -0.3959799192576171, 0.30280817354994227, 1.5839196770304678, -0.823017087084459, 1.0404178270690327, -0.5900877228152724, 1.7392059198765921, -1.5218051798920182, 0.9627747056459706, -1.5994483013150804, 0.9627747056459706, -0.6289092835268035, 0.8074884627998463, -1.7547345441612048, 1.4674549948958746, -1.6770914227381426, 0.8851315842229084, -1.5606267406035494, 0.8463100235113773, -1.7547345441612048, 1.66156279845353, -0.3959799192576171, 1.4286334341843434, -1.4829836191804873, 1.8168490412996543, -0.5512661621037414, 0.9239531449344395, -1.0947680120651764, 1.5450981163189368, -1.288875815622832, 1.4674549948958746, -1.1724111334882386, 1.0015962663575015, -1.327697376334363, 1.5062765556074056, -1.9100207870073291, 1.0792393877805637, -1.9100207870073291, 0.8851315842229084, -0.5900877228152724, 1.2733471913382193, -1.7547345441612048, 1.66156279845353, -0.9394817692190521, 0.9627747056459706, -1.1724111334882386, 1.7392059198765921, -0.900660208507521, 0.49691597710759766, -1.444162058468956, 0.9627747056459706, -1.5606267406035494, 1.622741237741999, -1.444162058468956, 1.3898118734728124, -1.3665189370458939, 0.7298453413767841, -1.405340497757425, 1.5450981163189368, -0.7065524049498657, 1.3898118734728124, -1.3665189370458939, 1.4674549948958746, -0.43480147996914814, 1.8168490412996543, -1.0171248906421142, 0.691023780665253, -1.288875815622832, 1.3509903127612812, -1.0559464513536454, 0.7298453413767841, -1.6382698620266116, 1.5839196770304678, -1.327697376334363, 1.118060948492095, -0.86183864779599, 0.9239531449344395, -1.2500542549113007, 1.2733471913382193]}],\n",
       "                        {\"scene\": {\"xaxis\": {\"title\": {\"text\": \"Age\"}}, \"yaxis\": {\"title\": {\"text\": \"Annual Income\"}}, \"zaxis\": {\"title\": {\"text\": \"Spending Score\"}}}, \"template\": {\"data\": {\"bar\": [{\"error_x\": {\"color\": \"#2a3f5f\"}, \"error_y\": {\"color\": \"#2a3f5f\"}, \"marker\": {\"line\": {\"color\": \"#E5ECF6\", \"width\": 0.5}}, \"type\": \"bar\"}], \"barpolar\": [{\"marker\": {\"line\": {\"color\": \"#E5ECF6\", \"width\": 0.5}}, \"type\": \"barpolar\"}], \"carpet\": [{\"aaxis\": {\"endlinecolor\": \"#2a3f5f\", \"gridcolor\": \"white\", \"linecolor\": \"white\", \"minorgridcolor\": \"white\", \"startlinecolor\": \"#2a3f5f\"}, \"baxis\": {\"endlinecolor\": \"#2a3f5f\", \"gridcolor\": \"white\", \"linecolor\": \"white\", \"minorgridcolor\": \"white\", \"startlinecolor\": \"#2a3f5f\"}, \"type\": \"carpet\"}], \"choropleth\": [{\"colorbar\": {\"outlinewidth\": 0, \"ticks\": \"\"}, \"type\": \"choropleth\"}], \"contour\": [{\"colorbar\": {\"outlinewidth\": 0, \"ticks\": \"\"}, \"colorscale\": [[0.0, \"#0d0887\"], [0.1111111111111111, \"#46039f\"], [0.2222222222222222, \"#7201a8\"], [0.3333333333333333, \"#9c179e\"], [0.4444444444444444, \"#bd3786\"], [0.5555555555555556, \"#d8576b\"], [0.6666666666666666, \"#ed7953\"], [0.7777777777777778, \"#fb9f3a\"], [0.8888888888888888, \"#fdca26\"], [1.0, \"#f0f921\"]], \"type\": \"contour\"}], \"contourcarpet\": [{\"colorbar\": {\"outlinewidth\": 0, \"ticks\": \"\"}, \"type\": \"contourcarpet\"}], \"heatmap\": [{\"colorbar\": {\"outlinewidth\": 0, \"ticks\": \"\"}, \"colorscale\": [[0.0, \"#0d0887\"], [0.1111111111111111, \"#46039f\"], [0.2222222222222222, \"#7201a8\"], [0.3333333333333333, \"#9c179e\"], [0.4444444444444444, \"#bd3786\"], [0.5555555555555556, \"#d8576b\"], [0.6666666666666666, \"#ed7953\"], [0.7777777777777778, \"#fb9f3a\"], [0.8888888888888888, \"#fdca26\"], [1.0, \"#f0f921\"]], \"type\": \"heatmap\"}], \"heatmapgl\": [{\"colorbar\": {\"outlinewidth\": 0, \"ticks\": \"\"}, \"colorscale\": [[0.0, \"#0d0887\"], [0.1111111111111111, \"#46039f\"], [0.2222222222222222, \"#7201a8\"], [0.3333333333333333, \"#9c179e\"], [0.4444444444444444, \"#bd3786\"], [0.5555555555555556, \"#d8576b\"], [0.6666666666666666, \"#ed7953\"], [0.7777777777777778, \"#fb9f3a\"], [0.8888888888888888, \"#fdca26\"], [1.0, \"#f0f921\"]], \"type\": \"heatmapgl\"}], \"histogram\": [{\"marker\": {\"colorbar\": {\"outlinewidth\": 0, \"ticks\": \"\"}}, \"type\": \"histogram\"}], \"histogram2d\": [{\"colorbar\": {\"outlinewidth\": 0, \"ticks\": \"\"}, \"colorscale\": [[0.0, \"#0d0887\"], [0.1111111111111111, \"#46039f\"], [0.2222222222222222, \"#7201a8\"], [0.3333333333333333, \"#9c179e\"], [0.4444444444444444, \"#bd3786\"], [0.5555555555555556, \"#d8576b\"], [0.6666666666666666, \"#ed7953\"], [0.7777777777777778, \"#fb9f3a\"], [0.8888888888888888, \"#fdca26\"], [1.0, \"#f0f921\"]], \"type\": \"histogram2d\"}], \"histogram2dcontour\": [{\"colorbar\": {\"outlinewidth\": 0, \"ticks\": \"\"}, \"colorscale\": [[0.0, \"#0d0887\"], [0.1111111111111111, \"#46039f\"], [0.2222222222222222, \"#7201a8\"], [0.3333333333333333, \"#9c179e\"], [0.4444444444444444, \"#bd3786\"], [0.5555555555555556, \"#d8576b\"], [0.6666666666666666, \"#ed7953\"], [0.7777777777777778, \"#fb9f3a\"], [0.8888888888888888, \"#fdca26\"], [1.0, \"#f0f921\"]], \"type\": \"histogram2dcontour\"}], \"mesh3d\": [{\"colorbar\": {\"outlinewidth\": 0, \"ticks\": \"\"}, \"type\": \"mesh3d\"}], \"parcoords\": [{\"line\": {\"colorbar\": {\"outlinewidth\": 0, \"ticks\": \"\"}}, \"type\": \"parcoords\"}], \"pie\": [{\"automargin\": true, \"type\": \"pie\"}], \"scatter\": [{\"marker\": {\"colorbar\": {\"outlinewidth\": 0, \"ticks\": \"\"}}, \"type\": \"scatter\"}], \"scatter3d\": [{\"line\": {\"colorbar\": {\"outlinewidth\": 0, \"ticks\": \"\"}}, \"marker\": {\"colorbar\": {\"outlinewidth\": 0, \"ticks\": \"\"}}, \"type\": \"scatter3d\"}], \"scattercarpet\": [{\"marker\": {\"colorbar\": {\"outlinewidth\": 0, \"ticks\": \"\"}}, \"type\": \"scattercarpet\"}], \"scattergeo\": [{\"marker\": {\"colorbar\": {\"outlinewidth\": 0, \"ticks\": \"\"}}, \"type\": \"scattergeo\"}], \"scattergl\": [{\"marker\": {\"colorbar\": {\"outlinewidth\": 0, \"ticks\": \"\"}}, \"type\": \"scattergl\"}], \"scattermapbox\": [{\"marker\": {\"colorbar\": {\"outlinewidth\": 0, \"ticks\": \"\"}}, \"type\": \"scattermapbox\"}], \"scatterpolar\": [{\"marker\": {\"colorbar\": {\"outlinewidth\": 0, \"ticks\": \"\"}}, \"type\": \"scatterpolar\"}], \"scatterpolargl\": [{\"marker\": {\"colorbar\": {\"outlinewidth\": 0, \"ticks\": \"\"}}, \"type\": \"scatterpolargl\"}], \"scatterternary\": [{\"marker\": {\"colorbar\": {\"outlinewidth\": 0, \"ticks\": \"\"}}, \"type\": \"scatterternary\"}], \"surface\": [{\"colorbar\": {\"outlinewidth\": 0, \"ticks\": \"\"}, \"colorscale\": [[0.0, \"#0d0887\"], [0.1111111111111111, \"#46039f\"], [0.2222222222222222, \"#7201a8\"], [0.3333333333333333, \"#9c179e\"], [0.4444444444444444, \"#bd3786\"], [0.5555555555555556, \"#d8576b\"], [0.6666666666666666, \"#ed7953\"], [0.7777777777777778, \"#fb9f3a\"], [0.8888888888888888, \"#fdca26\"], [1.0, \"#f0f921\"]], \"type\": \"surface\"}], \"table\": [{\"cells\": {\"fill\": {\"color\": \"#EBF0F8\"}, \"line\": {\"color\": \"white\"}}, \"header\": {\"fill\": {\"color\": \"#C8D4E3\"}, \"line\": {\"color\": \"white\"}}, \"type\": \"table\"}]}, \"layout\": {\"annotationdefaults\": {\"arrowcolor\": \"#2a3f5f\", \"arrowhead\": 0, \"arrowwidth\": 1}, \"coloraxis\": {\"colorbar\": {\"outlinewidth\": 0, \"ticks\": \"\"}}, \"colorscale\": {\"diverging\": [[0, \"#8e0152\"], [0.1, \"#c51b7d\"], [0.2, \"#de77ae\"], [0.3, \"#f1b6da\"], [0.4, \"#fde0ef\"], [0.5, \"#f7f7f7\"], [0.6, \"#e6f5d0\"], [0.7, \"#b8e186\"], [0.8, \"#7fbc41\"], [0.9, \"#4d9221\"], [1, \"#276419\"]], \"sequential\": [[0.0, \"#0d0887\"], [0.1111111111111111, \"#46039f\"], [0.2222222222222222, \"#7201a8\"], [0.3333333333333333, \"#9c179e\"], [0.4444444444444444, \"#bd3786\"], [0.5555555555555556, \"#d8576b\"], [0.6666666666666666, \"#ed7953\"], [0.7777777777777778, \"#fb9f3a\"], [0.8888888888888888, \"#fdca26\"], [1.0, \"#f0f921\"]], \"sequentialminus\": [[0.0, \"#0d0887\"], [0.1111111111111111, \"#46039f\"], [0.2222222222222222, \"#7201a8\"], [0.3333333333333333, \"#9c179e\"], [0.4444444444444444, \"#bd3786\"], [0.5555555555555556, \"#d8576b\"], [0.6666666666666666, \"#ed7953\"], [0.7777777777777778, \"#fb9f3a\"], [0.8888888888888888, \"#fdca26\"], [1.0, \"#f0f921\"]]}, \"colorway\": [\"#636efa\", \"#EF553B\", \"#00cc96\", \"#ab63fa\", \"#FFA15A\", \"#19d3f3\", \"#FF6692\", \"#B6E880\", \"#FF97FF\", \"#FECB52\"], \"font\": {\"color\": \"#2a3f5f\"}, \"geo\": {\"bgcolor\": \"white\", \"lakecolor\": \"white\", \"landcolor\": \"#E5ECF6\", \"showlakes\": true, \"showland\": true, \"subunitcolor\": \"white\"}, \"hoverlabel\": {\"align\": \"left\"}, \"hovermode\": \"closest\", \"mapbox\": {\"style\": \"light\"}, \"paper_bgcolor\": \"white\", \"plot_bgcolor\": \"#E5ECF6\", \"polar\": {\"angularaxis\": {\"gridcolor\": \"white\", \"linecolor\": \"white\", \"ticks\": \"\"}, \"bgcolor\": \"#E5ECF6\", \"radialaxis\": {\"gridcolor\": \"white\", \"linecolor\": \"white\", \"ticks\": \"\"}}, \"scene\": {\"xaxis\": {\"backgroundcolor\": \"#E5ECF6\", \"gridcolor\": \"white\", \"gridwidth\": 2, \"linecolor\": \"white\", \"showbackground\": true, \"ticks\": \"\", \"zerolinecolor\": \"white\"}, \"yaxis\": {\"backgroundcolor\": \"#E5ECF6\", \"gridcolor\": \"white\", \"gridwidth\": 2, \"linecolor\": \"white\", \"showbackground\": true, \"ticks\": \"\", \"zerolinecolor\": \"white\"}, \"zaxis\": {\"backgroundcolor\": \"#E5ECF6\", \"gridcolor\": \"white\", \"gridwidth\": 2, \"linecolor\": \"white\", \"showbackground\": true, \"ticks\": \"\", \"zerolinecolor\": \"white\"}}, \"shapedefaults\": {\"line\": {\"color\": \"#2a3f5f\"}}, \"ternary\": {\"aaxis\": {\"gridcolor\": \"white\", \"linecolor\": \"white\", \"ticks\": \"\"}, \"baxis\": {\"gridcolor\": \"white\", \"linecolor\": \"white\", \"ticks\": \"\"}, \"bgcolor\": \"#E5ECF6\", \"caxis\": {\"gridcolor\": \"white\", \"linecolor\": \"white\", \"ticks\": \"\"}}, \"title\": {\"x\": 0.05}, \"xaxis\": {\"automargin\": true, \"gridcolor\": \"white\", \"linecolor\": \"white\", \"ticks\": \"\", \"title\": {\"standoff\": 15}, \"zerolinecolor\": \"white\", \"zerolinewidth\": 2}, \"yaxis\": {\"automargin\": true, \"gridcolor\": \"white\", \"linecolor\": \"white\", \"ticks\": \"\", \"title\": {\"standoff\": 15}, \"zerolinecolor\": \"white\", \"zerolinewidth\": 2}}}, \"title\": {\"text\": \"Cluster segementation by Age, Anual Income and Spending Score\"}},\n",
       "                        {\"responsive\": true}\n",
       "                    ).then(function(){\n",
       "                            \n",
       "var gd = document.getElementById('9d3b89eb-336e-4b2e-9cc4-b81c5d5f5712');\n",
       "var x = new MutationObserver(function (mutations, observer) {{\n",
       "        var display = window.getComputedStyle(gd).display;\n",
       "        if (!display || display === 'none') {{\n",
       "            console.log([gd, 'removed!']);\n",
       "            Plotly.purge(gd);\n",
       "            observer.disconnect();\n",
       "        }}\n",
       "}});\n",
       "\n",
       "// Listen for the removal of the full notebook cells\n",
       "var notebookContainer = gd.closest('#notebook-container');\n",
       "if (notebookContainer) {{\n",
       "    x.observe(notebookContainer, {childList: true});\n",
       "}}\n",
       "\n",
       "// Listen for the clearing of the current output cell\n",
       "var outputEl = gd.closest('.output');\n",
       "if (outputEl) {{\n",
       "    x.observe(outputEl, {childList: true});\n",
       "}}\n",
       "\n",
       "                        })\n",
       "                };\n",
       "                });\n",
       "            </script>\n",
       "        </div>"
      ]
     },
     "metadata": {},
     "output_type": "display_data"
    }
   ],
   "source": [
    "# Visualize the clusters\n",
    "trace = go.Scatter3d( \n",
    "    x = segmentation3[:,0], \n",
    "    y = segmentation3[:,1],  \n",
    "    z = segmentation3[:,2], \n",
    "    mode = \"markers\",\n",
    "    marker = dict( \n",
    "    color=label_3, \n",
    "    size=10,\n",
    "    line=dict( \n",
    "    color=label_3,\n",
    "    width=12),      \n",
    "    opacity=0.8\n",
    "    )\n",
    "   \n",
    ")\n",
    "\n",
    "\n",
    "data = [trace]\n",
    "layout = go.Layout(\n",
    "    title= 'Cluster segementation by Age, Anual Income and Spending Score',\n",
    "    scene = dict(\n",
    "            xaxis = dict(title  = 'Age'),\n",
    "            yaxis = dict(title  = 'Annual Income'),\n",
    "            zaxis = dict(title  = 'Spending Score')\n",
    "        )\n",
    ")\n",
    "fig = go.Figure(data=data, layout=layout)\n",
    "\n",
    "\n",
    "py.offline.iplot(fig)"
   ]
  },
  {
   "cell_type": "code",
   "execution_count": 95,
   "metadata": {},
   "outputs": [
    {
     "data": {
      "text/html": [
       "<div>\n",
       "<style scoped>\n",
       "    .dataframe tbody tr th:only-of-type {\n",
       "        vertical-align: middle;\n",
       "    }\n",
       "\n",
       "    .dataframe tbody tr th {\n",
       "        vertical-align: top;\n",
       "    }\n",
       "\n",
       "    .dataframe thead th {\n",
       "        text-align: right;\n",
       "    }\n",
       "</style>\n",
       "<table border=\"1\" class=\"dataframe\">\n",
       "  <thead>\n",
       "    <tr style=\"text-align: right;\">\n",
       "      <th></th>\n",
       "      <th>CustomerID</th>\n",
       "      <th>Age</th>\n",
       "      <th>Annual Income (k$)</th>\n",
       "      <th>Spending Score (1-100)</th>\n",
       "      <th>Age_standard</th>\n",
       "      <th>Annual Income_standard</th>\n",
       "      <th>Spending Score_standard</th>\n",
       "      <th>Segmentation</th>\n",
       "    </tr>\n",
       "    <tr>\n",
       "      <th>Cluster</th>\n",
       "      <th></th>\n",
       "      <th></th>\n",
       "      <th></th>\n",
       "      <th></th>\n",
       "      <th></th>\n",
       "      <th></th>\n",
       "      <th></th>\n",
       "      <th></th>\n",
       "    </tr>\n",
       "  </thead>\n",
       "  <tbody>\n",
       "    <tr>\n",
       "      <td>1</td>\n",
       "      <td>90.052632</td>\n",
       "      <td>27.000000</td>\n",
       "      <td>56.657895</td>\n",
       "      <td>49.131579</td>\n",
       "      <td>-0.850435</td>\n",
       "      <td>-0.148941</td>\n",
       "      <td>-0.041478</td>\n",
       "      <td>0</td>\n",
       "    </tr>\n",
       "    <tr>\n",
       "      <td>2</td>\n",
       "      <td>164.529412</td>\n",
       "      <td>41.264706</td>\n",
       "      <td>88.500000</td>\n",
       "      <td>16.764706</td>\n",
       "      <td>0.173295</td>\n",
       "      <td>1.066454</td>\n",
       "      <td>-1.298010</td>\n",
       "      <td>1</td>\n",
       "    </tr>\n",
       "    <tr>\n",
       "      <td>3</td>\n",
       "      <td>162.000000</td>\n",
       "      <td>32.692308</td>\n",
       "      <td>86.538462</td>\n",
       "      <td>82.128205</td>\n",
       "      <td>-0.441917</td>\n",
       "      <td>0.991583</td>\n",
       "      <td>1.239503</td>\n",
       "      <td>2</td>\n",
       "    </tr>\n",
       "    <tr>\n",
       "      <td>4</td>\n",
       "      <td>23.190476</td>\n",
       "      <td>45.523810</td>\n",
       "      <td>26.285714</td>\n",
       "      <td>19.380952</td>\n",
       "      <td>0.478957</td>\n",
       "      <td>-1.308230</td>\n",
       "      <td>-1.196444</td>\n",
       "      <td>3</td>\n",
       "    </tr>\n",
       "    <tr>\n",
       "      <td>5</td>\n",
       "      <td>83.777778</td>\n",
       "      <td>56.333333</td>\n",
       "      <td>54.266667</td>\n",
       "      <td>49.066667</td>\n",
       "      <td>1.254721</td>\n",
       "      <td>-0.240213</td>\n",
       "      <td>-0.043998</td>\n",
       "      <td>4</td>\n",
       "    </tr>\n",
       "    <tr>\n",
       "      <td>6</td>\n",
       "      <td>22.130435</td>\n",
       "      <td>25.000000</td>\n",
       "      <td>25.260870</td>\n",
       "      <td>77.608696</td>\n",
       "      <td>-0.993969</td>\n",
       "      <td>-1.347348</td>\n",
       "      <td>1.064048</td>\n",
       "      <td>5</td>\n",
       "    </tr>\n",
       "  </tbody>\n",
       "</table>\n",
       "</div>"
      ],
      "text/plain": [
       "         CustomerID        Age  Annual Income (k$)  Spending Score (1-100)  \\\n",
       "Cluster                                                                      \n",
       "1         90.052632  27.000000           56.657895               49.131579   \n",
       "2        164.529412  41.264706           88.500000               16.764706   \n",
       "3        162.000000  32.692308           86.538462               82.128205   \n",
       "4         23.190476  45.523810           26.285714               19.380952   \n",
       "5         83.777778  56.333333           54.266667               49.066667   \n",
       "6         22.130435  25.000000           25.260870               77.608696   \n",
       "\n",
       "         Age_standard  Annual Income_standard  Spending Score_standard  \\\n",
       "Cluster                                                                  \n",
       "1           -0.850435               -0.148941                -0.041478   \n",
       "2            0.173295                1.066454                -1.298010   \n",
       "3           -0.441917                0.991583                 1.239503   \n",
       "4            0.478957               -1.308230                -1.196444   \n",
       "5            1.254721               -0.240213                -0.043998   \n",
       "6           -0.993969               -1.347348                 1.064048   \n",
       "\n",
       "         Segmentation  \n",
       "Cluster                \n",
       "1                   0  \n",
       "2                   1  \n",
       "3                   2  \n",
       "4                   3  \n",
       "5                   4  \n",
       "6                   5  "
      ]
     },
     "execution_count": 95,
     "metadata": {},
     "output_type": "execute_result"
    }
   ],
   "source": [
    "df_segmentation3.groupby(df_segmentation3[\"Cluster\"]).mean()\n"
   ]
  },
  {
   "cell_type": "markdown",
   "metadata": {},
   "source": [
    "<a id='s3summary'></a>\n",
    "**Brief summary**\n",
    "\n",
    "In segementaiton3, we usee Age, Annual Income and Spending score as our features.\n",
    "Since it is not easy to identiy each clusters in 3D plot, we calcuate the mean value of each features corresponding to differnet clusters. We can explain each cluster as below\n",
    "\n",
    "1. Cluster1: Young, medium income and medium spending socre\n",
    "2. Cluster2: Middle-aged, high income and low spending score\n",
    "3. Cluster3: Middle-aged, high income and hihg spending score\n",
    "4. Cluster4: Middle-agged, low income and low spending score \n",
    "5. Cluster5: Middle to old aged, middle income and middle spending score\n",
    "6. Cluster6: Young, low income and high spending score\n",
    "\n",
    "\n",
    "**Some Insights**\n",
    "1. Cluster3 and Cluster6 are our primary customers since they have high spending score. We can differencinate the products to service these two groups. We can provide cheaper and fasion products to Cluster6 since they are young and has lower income. Besides, we can provide high quality and high price product to cluster3 since they are in middle-aged, who might concern about product quality, and they are able to afford higher price product.\n",
    "2. Cluster1 and Cluster5 are our potential customers. They all have medium spending score and medium income. We might need to apply tailored product according to their age and interests to enhance their engagement\n",
    "3. Cluster2 seems to the kind of our target customer. These might since our product type are originally not service for them, we can get more information to make further analysis.\n",
    "4. Cluster4 seems to our target customer. Since they have both low income and spending socre, we might consider not put effort to enhance their engagement.\n",
    "\n"
   ]
  },
  {
   "cell_type": "markdown",
   "metadata": {},
   "source": [
    "<a id='Discussion'></a>\n",
    "# 5. Discussion   \n",
    "\n",
    "\n",
    "\n",
    "**How to consider which features are included in our Segementation?**\n",
    "\n",
    "In this project, we have tried 3 types segementation by using different combination of our features. In my opinion, I thought a good way to choose which features will be included in our segementation is to do the Exploratory Eata Analysis (EDA) first. Here, Segementation1, which included Annual income and Spending score, are based on our results of EDA, and we can see the analysis are quite suitable for us to make properly strategy to customers. However, in this case, since all the features have no high correlation between each others, we choose to do more segementation to see wheter something new might be discover in different kind of segementation. Also, since this project is based on simple dataset, we do not have other kinds of information, such as marketing position of our product, the price and our original target customer,etc, so we just tried all kinds of segementations. If we have more information, we colud based on the marketing knowlege to have better basis for features extracting."
   ]
  },
  {
   "cell_type": "markdown",
   "metadata": {},
   "source": [
    "<a id='Conclusions'></a>\n",
    "# 6. Conclusions\n",
    "\n",
    "\n",
    "In this project, we set our objective to answer the following questions:\n",
    "\n",
    "1. What is the features of each groups (clusters)?       \n",
    "  \n",
    "2. What marketing strategis or advices will be given based on my analysis?\n",
    "\n",
    "After our analysing and clustering, we can anwer above questions as below\n",
    "\n",
    "1. Segmentation1: Using Annual Income and Spending Score as features\n",
    "\n",
    "   Please refers to: [Summary and insights of Segmentation1](#s1summary)    \n",
    "\n",
    "\n",
    "2. Segmentation2: Using Age and Spending Score as features    \n",
    "\n",
    "   Please refers to: [Summary and insights of Segmentation2](#s2summary)    \n",
    "\n",
    "\n",
    "3. Segmentation3: Using Age, Annual Income and Spending Score as features \n",
    "\n",
    "   Please refers to: [Summary and insights of Segmentation3](#s3summary)    \n",
    "\n",
    "-----\n",
    "\n",
    "In this project, we go through the process to analysising and clustering customers for applying suitable marketing strategies. Although our dataset are simple, we still can conclude some insights from it. We can capture more information from our customers for further analysis and get more insights for marketing actions.\n"
   ]
  },
  {
   "cell_type": "markdown",
   "metadata": {},
   "source": [
    "<a id='References'></a>\n",
    "# 7. References\n",
    "\n",
    "\n",
    "\n",
    "- dataset: https://www.kaggle.com/vjchoudhary7/customer-segmentation-tutorial-in-python\n",
    "- https://www.kaggle.com/inferni1997/eda-and-clustering-with-k-means\n",
    "- https://towardsdatascience.com/customer-segmentation-analysis-with-python-6afa16a38d9e\n",
    "- https://towardsdatascience.com/clustering-algorithms-for-customer-segmentation-af637c6830ac\n",
    "- https://www.kaggle.com/kushal1996/customer-segmentation-k-means-analysis\n",
    "- https://www.kaggle.com/roshansharma/mall-customers-clustering-analysis\n",
    "- https://www.kaggle.com/vjchoudhary7/kmeans-clustering-in-customer-segmentation"
   ]
  },
  {
   "cell_type": "code",
   "execution_count": null,
   "metadata": {},
   "outputs": [],
   "source": []
  }
 ],
 "metadata": {
  "kernelspec": {
   "display_name": "Python 3",
   "language": "python",
   "name": "python3"
  },
  "language_info": {
   "codemirror_mode": {
    "name": "ipython",
    "version": 3
   },
   "file_extension": ".py",
   "mimetype": "text/x-python",
   "name": "python",
   "nbconvert_exporter": "python",
   "pygments_lexer": "ipython3",
   "version": "3.7.4"
  }
 },
 "nbformat": 4,
 "nbformat_minor": 2
}
